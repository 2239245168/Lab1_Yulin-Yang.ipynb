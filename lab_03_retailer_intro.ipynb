{
  "cells": [
    {
      "cell_type": "markdown",
      "metadata": {
        "id": "view-in-github",
        "colab_type": "text"
      },
      "source": [
        "<a href=\"https://colab.research.google.com/github/2239245168/Lab1_Yulin-Yang.ipynb/blob/main/lab_03_retailer_intro.ipynb\" target=\"_parent\"><img src=\"https://colab.research.google.com/assets/colab-badge.svg\" alt=\"Open In Colab\"/></a>"
      ]
    },
    {
      "cell_type": "markdown",
      "metadata": {
        "id": "SgBrR_uNK-i4"
      },
      "source": [
        "# IS 4487 Lab 3\n",
        "\n",
        "## Outline\n",
        "\n",
        "Repeat exercises from Lab 2, but with the *SuperStore Retail Orders* dataset\n",
        "- Loading installed packages\n",
        "- Inspect data\n",
        "- Explore plot types\n",
        "\n",
        "<a href=\"https://colab.research.google.com/github/Stan-Pugsley/is_4487_base/blob/main/Labs/Scripts/lab_03_retailer_intro.ipynb\" target=\"_parent\"><img src=\"https://colab.research.google.com/assets/colab-badge.svg\" alt=\"Open In Colab\"/></a>"
      ]
    },
    {
      "cell_type": "markdown",
      "metadata": {
        "id": "iXiuIiL-K-i5"
      },
      "source": [
        "## Superstore Data Dictionary\n",
        "\n",
        " ORDER VARIABLES:\n",
        " - Order ID\n",
        " - Order Date\n",
        " - Order Year Month - Year and month of the order\n",
        " - Order Type - Was the order completed at a store or online? (Retail, Online)\n",
        " - Quantity - Quantity ordered for the product\n",
        "\n",
        " CUSTOMER VARIABLES:\n",
        " - Customer Name\n",
        " - City\n",
        " - State Province\n",
        " - Email\n",
        "\n",
        "PRODUCT VARIABLES:\n",
        " - Product Name\n",
        " - Product Line - Category of the product (i.e. Bikes Phones)\n",
        " - Product Price - Price in US Dollars\n",
        " - Product Status - Current status of the product (Active, Inactive)"
      ]
    },
    {
      "cell_type": "markdown",
      "metadata": {
        "id": "DxWwR4MTK-i6"
      },
      "source": [
        "## Load Libraries\n",
        "\n",
        "➡️ Assignment Tasks\n",
        "- Load any necessary libraries"
      ]
    },
    {
      "cell_type": "code",
      "execution_count": null,
      "metadata": {
        "vscode": {
          "languageId": "plaintext"
        },
        "id": "cfb-0yLaK-i6"
      },
      "outputs": [],
      "source": [
        "import pandas as pd\n",
        "import matplotlib.pyplot as plt"
      ]
    },
    {
      "cell_type": "markdown",
      "metadata": {
        "id": "y8v3syErK-i7"
      },
      "source": [
        "## Import Data into Dataframe\n",
        "\n",
        "➡️ Assignment Tasks\n",
        "- Import data from the SuperStore retail dataset into a dataframe (in GitHub go to Labs > DataSets)\n",
        "- Describe or profile the dataframe"
      ]
    },
    {
      "cell_type": "code",
      "execution_count": null,
      "metadata": {
        "vscode": {
          "languageId": "plaintext"
        },
        "colab": {
          "base_uri": "https://localhost:8080/"
        },
        "id": "2-k2lx3ZK-i7",
        "outputId": "534f0c99-e968-4042-c28c-d1dda7de62de"
      },
      "outputs": [
        {
          "output_type": "stream",
          "name": "stdout",
          "text": [
            "<class 'pandas.core.frame.DataFrame'>\n",
            "RangeIndex: 56043 entries, 0 to 56042\n",
            "Data columns (total 13 columns):\n",
            " #   Column            Non-Null Count  Dtype  \n",
            "---  ------            --------------  -----  \n",
            " 0   order_id          56043 non-null  int64  \n",
            " 1   order_date        56011 non-null  object \n",
            " 2   order_year_month  56011 non-null  object \n",
            " 3   customer_name     56043 non-null  object \n",
            " 4   city              55569 non-null  object \n",
            " 5   state_province    55569 non-null  object \n",
            " 6   email             56043 non-null  object \n",
            " 7   order_type        56043 non-null  object \n",
            " 8   quantity          56004 non-null  float64\n",
            " 9   product_name      56043 non-null  object \n",
            " 10  product_line      56043 non-null  object \n",
            " 11  product_price     56043 non-null  float64\n",
            " 12  product_status    56043 non-null  object \n",
            "dtypes: float64(2), int64(1), object(10)\n",
            "memory usage: 5.6+ MB\n",
            "None\n",
            "   order_id  order_date order_year_month  customer_name               city  \\\n",
            "0     51188  2023-07-01          2023-07  Audrey Blanco  North Cherylmouth   \n",
            "1     51187  2023-07-01          2023-07    Isaac Allen         Traceyland   \n",
            "2     51199  2023-07-02          2023-07     Ian Morgan          Dylanberg   \n",
            "3     51241  2023-07-04          2023-07     Alexa Bell     Lake Tracytown   \n",
            "4     51297  2023-07-08          2023-07     Casey Diaz        Byrdchester   \n",
            "\n",
            "  state_province                    email order_type  quantity  \\\n",
            "0  New Hampshire  audrey_blanco@email.com     Retail       3.0   \n",
            "1  West Virginia    isaac_allen@email.com     Online       4.0   \n",
            "2   South Dakota     ian_morgan@email.com     Online       5.0   \n",
            "3      Wisconsin     alexa_bell@email.com     Online       1.0   \n",
            "4    Mississippi     casey_diaz@email.com     Online       1.0   \n",
            "\n",
            "                                        product_name product_line  \\\n",
            "0  Apple iPhone XR (Yellow, 256 GB) (Includes Ear...       Mobile   \n",
            "1  Apple iPhone XR (Yellow, 256 GB) (Includes Ear...       Mobile   \n",
            "2  Apple iPhone XR (Yellow, 256 GB) (Includes Ear...       Mobile   \n",
            "3  Apple iPhone XR (Yellow, 256 GB) (Includes Ear...       Mobile   \n",
            "4  Apple iPhone XR (Yellow, 256 GB) (Includes Ear...       Mobile   \n",
            "\n",
            "   product_price product_status  \n",
            "0         649.99         Active  \n",
            "1         649.99         Active  \n",
            "2         649.99         Active  \n",
            "3         649.99         Active  \n",
            "4         649.99         Active  \n"
          ]
        }
      ],
      "source": [
        "\n",
        "url = 'https://github.com/Stan-Pugsley/is_4487_base/blob/main/Labs/DataSets/superstore_retail_orders.csv?raw=true'\n",
        "df = pd.read_csv(url)\n",
        "\n",
        "print(df.info())\n",
        "print(df.head())"
      ]
    },
    {
      "cell_type": "markdown",
      "metadata": {
        "id": "74EqNTR4K-i7"
      },
      "source": [
        "## Prepare Data\n",
        "\n",
        "➡️ Assignment Tasks\n",
        "- Create a \"revenue\" variable and make sure it is a numeric datatype\n",
        "- Remove rows with empty (NULL) values\n",
        "- Locate outliers in at least two of the variables.   Filter them out if they are mistakes; keep them if they are exceptional cases."
      ]
    },
    {
      "cell_type": "code",
      "source": [
        "df['revenue'] = df['quantity'] * df['product_price']"
      ],
      "metadata": {
        "id": "4Gd-DSYrM3yV"
      },
      "execution_count": null,
      "outputs": []
    },
    {
      "cell_type": "code",
      "source": [
        "df = df.dropna()"
      ],
      "metadata": {
        "id": "0aGX2RTXNJfM"
      },
      "execution_count": null,
      "outputs": []
    },
    {
      "cell_type": "code",
      "source": [
        "df = df[df['quantity'] > 0]\n",
        "\n",
        "df = df[(df['product_price'] > 0) & (df['product_price'] < 1000)]"
      ],
      "metadata": {
        "id": "GOfedCzENKyg"
      },
      "execution_count": null,
      "outputs": []
    },
    {
      "cell_type": "markdown",
      "metadata": {
        "id": "LQxv8wA5K-i8"
      },
      "source": [
        "## Summarize Data\n",
        "\n",
        "➡️ Assignment Tasks\n",
        "- Display the average price per product line\n",
        "- Display the total revenue for all months"
      ]
    },
    {
      "cell_type": "code",
      "execution_count": null,
      "metadata": {
        "vscode": {
          "languageId": "plaintext"
        },
        "colab": {
          "base_uri": "https://localhost:8080/"
        },
        "id": "2KrZL5-uK-i8",
        "outputId": "1dab02fe-7968-4267-8b82-6e418e9bdfc9"
      },
      "outputs": [
        {
          "output_type": "stream",
          "name": "stdout",
          "text": [
            "product_line\n",
            "Accessories        11.531647\n",
            "Bikes             541.832105\n",
            "Cameras           733.843016\n",
            "Clothing           51.257239\n",
            "Electronics       693.973186\n",
            "Mobile            649.990000\n",
            "OfficeProducts      8.640000\n",
            "Name: product_price, dtype: float64\n"
          ]
        }
      ],
      "source": [
        "average_price_per_line = df.groupby('product_line')['product_price'].mean()\n",
        "\n",
        "print(average_price_per_line)"
      ]
    },
    {
      "cell_type": "code",
      "execution_count": null,
      "metadata": {
        "vscode": {
          "languageId": "plaintext"
        },
        "colab": {
          "base_uri": "https://localhost:8080/"
        },
        "id": "cDIWRAsvK-i8",
        "outputId": "508f419e-e4a9-4740-e269-343ebea53438"
      },
      "outputs": [
        {
          "output_type": "stream",
          "name": "stdout",
          "text": [
            "Total Revenue: $18415010.21\n"
          ]
        }
      ],
      "source": [
        "total_revenue = df['revenue'].sum()\n",
        "\n",
        "print(f'Total Revenue: ${total_revenue}')"
      ]
    }
  ],
  "metadata": {
    "language_info": {
      "name": "python"
    },
    "colab": {
      "provenance": [],
      "include_colab_link": true
    },
    "kernelspec": {
      "name": "python3",
      "display_name": "Python 3"
    }
  },
  "nbformat": 4,
  "nbformat_minor": 0
}