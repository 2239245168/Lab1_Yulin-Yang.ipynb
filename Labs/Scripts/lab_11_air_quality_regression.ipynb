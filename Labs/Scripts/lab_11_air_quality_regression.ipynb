{
  "cells": [
    {
      "cell_type": "markdown",
      "metadata": {
        "id": "a5W1PVZ6Lwog"
      },
      "source": [
        "# IS 4487 Lab 11\n",
        "\n",
        "## Learning Objective\n",
        "\n",
        "Use Linear Regression to predict the AQI in Utah.\n",
        "\n",
        "## Outline\n",
        "\n",
        "- Pull the latest \"Daily AQI by County\" file from this link: https://aqs.epa.gov/aqsweb/airdata/download_files.html#AQI\n",
        "\n",
        "- Your target variable will be *AQI\", which is the value of the air quality index\n",
        "\n",
        "- We will focus the analysis on only the air quality in the state of Utah.  \n",
        "\n",
        "- Note that there is a several-month lag in preparing data; you should check to see if your file has a full year of data from January to December.  If not, use the previous year.    \n",
        "\n",
        "- The AQI is divided into six categories:\n",
        "\n",
        "*Air Quality Index*\n",
        "\n",
        "|(AQI) Values\t|Levels of Health Concern\t        |\n",
        "|---------------|--------|\n",
        "|0-50\t        |Good\t |\n",
        "|51-100\t        |Moderate\t |\n",
        "|101-150\t    |Unhealthy for Sensitive Groups\t|\n",
        "|151 to 200\t    |Unhealthy\t |\n",
        "|201 to 300\t    |Very Unhealthy\t |\n",
        "|301 to 500\t    |Hazardous\t |\n",
        "\n",
        "<a href=\"https://colab.research.google.com/github/Stan-Pugsley/is_4487_base/blob/main/Labs/Scripts/lab_11_air_quality_regression.ipynb\" target=\"_parent\"><img src=\"https://colab.research.google.com/assets/colab-badge.svg\" alt=\"Open In Colab\"/></a>"
      ]
    },
    {
      "cell_type": "markdown",
      "metadata": {
        "id": "R008LnbALwoi"
      },
      "source": [
        "## Load Libraries\n",
        "\n",
        "➡️ Assignment Tasks\n",
        "- Load any necessary libraries"
      ]
    },
    {
      "cell_type": "code",
      "execution_count": 1,
      "metadata": {
        "vscode": {
          "languageId": "plaintext"
        },
        "id": "JmlZ1yZ6Lwoj"
      },
      "outputs": [],
      "source": [
        "# 导入处理数据和建模所需的库\n",
        "import pandas as pd\n",
        "import numpy as np\n",
        "import matplotlib.pyplot as plt\n",
        "import seaborn as sns\n",
        "\n",
        "from sklearn.linear_model import LinearRegression\n",
        "from sklearn.model_selection import train_test_split\n",
        "from sklearn.metrics import mean_squared_error, r2_score\n",
        "\n",
        "# 设置绘图风格\n",
        "sns.set(style=\"whitegrid\")\n",
        "\n",
        "# 显示所有列\n",
        "pd.set_option('display.max_columns', None)\n"
      ]
    },
    {
      "cell_type": "markdown",
      "metadata": {
        "id": "qvKj_b2OLwoj"
      },
      "source": [
        "## Import Data into Dataframe\n",
        "\n",
        "➡️ Assignment Tasks\n",
        "- Pull the latest full year of data using the \"Daily AQI by County\" files from this link: https://aqs.epa.gov/aqsweb/airdata/download_files.html#AQI\n",
        "- Make sure to UNZIP the file\n",
        "- Import data from the air quality dataset into a dataframe\n",
        "- Describe or profile the dataframe"
      ]
    },
    {
      "cell_type": "code",
      "execution_count": 3,
      "metadata": {
        "vscode": {
          "languageId": "plaintext"
        },
        "id": "rjv-ZTl4Lwoj",
        "outputId": "56cdf6f9-a7aa-48ec-fbf1-1e06343d569b",
        "colab": {
          "base_uri": "https://localhost:8080/",
          "height": 925
        }
      },
      "outputs": [
        {
          "output_type": "display_data",
          "data": {
            "text/plain": [
              "<IPython.core.display.HTML object>"
            ],
            "text/html": [
              "\n",
              "     <input type=\"file\" id=\"files-80e830a1-c9a0-4e47-ab11-2b7ffb5ea17a\" name=\"files[]\" multiple disabled\n",
              "        style=\"border:none\" />\n",
              "     <output id=\"result-80e830a1-c9a0-4e47-ab11-2b7ffb5ea17a\">\n",
              "      Upload widget is only available when the cell has been executed in the\n",
              "      current browser session. Please rerun this cell to enable.\n",
              "      </output>\n",
              "      <script>// Copyright 2017 Google LLC\n",
              "//\n",
              "// Licensed under the Apache License, Version 2.0 (the \"License\");\n",
              "// you may not use this file except in compliance with the License.\n",
              "// You may obtain a copy of the License at\n",
              "//\n",
              "//      http://www.apache.org/licenses/LICENSE-2.0\n",
              "//\n",
              "// Unless required by applicable law or agreed to in writing, software\n",
              "// distributed under the License is distributed on an \"AS IS\" BASIS,\n",
              "// WITHOUT WARRANTIES OR CONDITIONS OF ANY KIND, either express or implied.\n",
              "// See the License for the specific language governing permissions and\n",
              "// limitations under the License.\n",
              "\n",
              "/**\n",
              " * @fileoverview Helpers for google.colab Python module.\n",
              " */\n",
              "(function(scope) {\n",
              "function span(text, styleAttributes = {}) {\n",
              "  const element = document.createElement('span');\n",
              "  element.textContent = text;\n",
              "  for (const key of Object.keys(styleAttributes)) {\n",
              "    element.style[key] = styleAttributes[key];\n",
              "  }\n",
              "  return element;\n",
              "}\n",
              "\n",
              "// Max number of bytes which will be uploaded at a time.\n",
              "const MAX_PAYLOAD_SIZE = 100 * 1024;\n",
              "\n",
              "function _uploadFiles(inputId, outputId) {\n",
              "  const steps = uploadFilesStep(inputId, outputId);\n",
              "  const outputElement = document.getElementById(outputId);\n",
              "  // Cache steps on the outputElement to make it available for the next call\n",
              "  // to uploadFilesContinue from Python.\n",
              "  outputElement.steps = steps;\n",
              "\n",
              "  return _uploadFilesContinue(outputId);\n",
              "}\n",
              "\n",
              "// This is roughly an async generator (not supported in the browser yet),\n",
              "// where there are multiple asynchronous steps and the Python side is going\n",
              "// to poll for completion of each step.\n",
              "// This uses a Promise to block the python side on completion of each step,\n",
              "// then passes the result of the previous step as the input to the next step.\n",
              "function _uploadFilesContinue(outputId) {\n",
              "  const outputElement = document.getElementById(outputId);\n",
              "  const steps = outputElement.steps;\n",
              "\n",
              "  const next = steps.next(outputElement.lastPromiseValue);\n",
              "  return Promise.resolve(next.value.promise).then((value) => {\n",
              "    // Cache the last promise value to make it available to the next\n",
              "    // step of the generator.\n",
              "    outputElement.lastPromiseValue = value;\n",
              "    return next.value.response;\n",
              "  });\n",
              "}\n",
              "\n",
              "/**\n",
              " * Generator function which is called between each async step of the upload\n",
              " * process.\n",
              " * @param {string} inputId Element ID of the input file picker element.\n",
              " * @param {string} outputId Element ID of the output display.\n",
              " * @return {!Iterable<!Object>} Iterable of next steps.\n",
              " */\n",
              "function* uploadFilesStep(inputId, outputId) {\n",
              "  const inputElement = document.getElementById(inputId);\n",
              "  inputElement.disabled = false;\n",
              "\n",
              "  const outputElement = document.getElementById(outputId);\n",
              "  outputElement.innerHTML = '';\n",
              "\n",
              "  const pickedPromise = new Promise((resolve) => {\n",
              "    inputElement.addEventListener('change', (e) => {\n",
              "      resolve(e.target.files);\n",
              "    });\n",
              "  });\n",
              "\n",
              "  const cancel = document.createElement('button');\n",
              "  inputElement.parentElement.appendChild(cancel);\n",
              "  cancel.textContent = 'Cancel upload';\n",
              "  const cancelPromise = new Promise((resolve) => {\n",
              "    cancel.onclick = () => {\n",
              "      resolve(null);\n",
              "    };\n",
              "  });\n",
              "\n",
              "  // Wait for the user to pick the files.\n",
              "  const files = yield {\n",
              "    promise: Promise.race([pickedPromise, cancelPromise]),\n",
              "    response: {\n",
              "      action: 'starting',\n",
              "    }\n",
              "  };\n",
              "\n",
              "  cancel.remove();\n",
              "\n",
              "  // Disable the input element since further picks are not allowed.\n",
              "  inputElement.disabled = true;\n",
              "\n",
              "  if (!files) {\n",
              "    return {\n",
              "      response: {\n",
              "        action: 'complete',\n",
              "      }\n",
              "    };\n",
              "  }\n",
              "\n",
              "  for (const file of files) {\n",
              "    const li = document.createElement('li');\n",
              "    li.append(span(file.name, {fontWeight: 'bold'}));\n",
              "    li.append(span(\n",
              "        `(${file.type || 'n/a'}) - ${file.size} bytes, ` +\n",
              "        `last modified: ${\n",
              "            file.lastModifiedDate ? file.lastModifiedDate.toLocaleDateString() :\n",
              "                                    'n/a'} - `));\n",
              "    const percent = span('0% done');\n",
              "    li.appendChild(percent);\n",
              "\n",
              "    outputElement.appendChild(li);\n",
              "\n",
              "    const fileDataPromise = new Promise((resolve) => {\n",
              "      const reader = new FileReader();\n",
              "      reader.onload = (e) => {\n",
              "        resolve(e.target.result);\n",
              "      };\n",
              "      reader.readAsArrayBuffer(file);\n",
              "    });\n",
              "    // Wait for the data to be ready.\n",
              "    let fileData = yield {\n",
              "      promise: fileDataPromise,\n",
              "      response: {\n",
              "        action: 'continue',\n",
              "      }\n",
              "    };\n",
              "\n",
              "    // Use a chunked sending to avoid message size limits. See b/62115660.\n",
              "    let position = 0;\n",
              "    do {\n",
              "      const length = Math.min(fileData.byteLength - position, MAX_PAYLOAD_SIZE);\n",
              "      const chunk = new Uint8Array(fileData, position, length);\n",
              "      position += length;\n",
              "\n",
              "      const base64 = btoa(String.fromCharCode.apply(null, chunk));\n",
              "      yield {\n",
              "        response: {\n",
              "          action: 'append',\n",
              "          file: file.name,\n",
              "          data: base64,\n",
              "        },\n",
              "      };\n",
              "\n",
              "      let percentDone = fileData.byteLength === 0 ?\n",
              "          100 :\n",
              "          Math.round((position / fileData.byteLength) * 100);\n",
              "      percent.textContent = `${percentDone}% done`;\n",
              "\n",
              "    } while (position < fileData.byteLength);\n",
              "  }\n",
              "\n",
              "  // All done.\n",
              "  yield {\n",
              "    response: {\n",
              "      action: 'complete',\n",
              "    }\n",
              "  };\n",
              "}\n",
              "\n",
              "scope.google = scope.google || {};\n",
              "scope.google.colab = scope.google.colab || {};\n",
              "scope.google.colab._files = {\n",
              "  _uploadFiles,\n",
              "  _uploadFilesContinue,\n",
              "};\n",
              "})(self);\n",
              "</script> "
            ]
          },
          "metadata": {}
        },
        {
          "output_type": "stream",
          "name": "stdout",
          "text": [
            "Saving daily_aqi_by_county_2023.csv to daily_aqi_by_county_2023 (1).csv\n",
            "前五行数据：\n",
            "  State Name county Name  State Code  County Code        Date  AQI Category  \\\n",
            "0    Alabama     Baldwin           1            3  2023-01-10   47     Good   \n",
            "1    Alabama     Baldwin           1            3  2023-01-11   38     Good   \n",
            "2    Alabama     Baldwin           1            3  2023-01-12   30     Good   \n",
            "3    Alabama     Baldwin           1            3  2023-01-13   24     Good   \n",
            "4    Alabama     Baldwin           1            3  2023-01-14   27     Good   \n",
            "\n",
            "  Defining Parameter Defining Site  Number of Sites Reporting  \n",
            "0              PM2.5   01-003-0010                          1  \n",
            "1              PM2.5   01-003-0010                          1  \n",
            "2              PM2.5   01-003-0010                          1  \n",
            "3              PM2.5   01-003-0010                          1  \n",
            "4              PM2.5   01-003-0010                          1  \n",
            "\n",
            "数据结构信息：\n",
            "<class 'pandas.core.frame.DataFrame'>\n",
            "RangeIndex: 325393 entries, 0 to 325392\n",
            "Data columns (total 10 columns):\n",
            " #   Column                     Non-Null Count   Dtype \n",
            "---  ------                     --------------   ----- \n",
            " 0   State Name                 325393 non-null  object\n",
            " 1   county Name                325393 non-null  object\n",
            " 2   State Code                 325393 non-null  int64 \n",
            " 3   County Code                325393 non-null  int64 \n",
            " 4   Date                       325393 non-null  object\n",
            " 5   AQI                        325393 non-null  int64 \n",
            " 6   Category                   325393 non-null  object\n",
            " 7   Defining Parameter         325393 non-null  object\n",
            " 8   Defining Site              325393 non-null  object\n",
            " 9   Number of Sites Reporting  325393 non-null  int64 \n",
            "dtypes: int64(4), object(6)\n",
            "memory usage: 24.8+ MB\n",
            "None\n",
            "\n",
            "描述性统计：\n",
            "          State Code    County Code            AQI  Number of Sites Reporting\n",
            "count  325393.000000  325393.000000  325393.000000              325393.000000\n",
            "mean       30.190496      80.498133      44.638824                   1.988998\n",
            "std        16.153039      92.016417      22.602250                   2.441528\n",
            "min         1.000000       1.000000       0.000000                   1.000000\n",
            "25%        17.000000      23.000000      32.000000                   1.000000\n",
            "50%        30.000000      59.000000      43.000000                   1.000000\n",
            "75%        42.000000     107.000000      54.000000                   2.000000\n",
            "max        80.000000     810.000000    1829.000000                  33.000000\n",
            "\n",
            "数据时间范围：\n",
            "最早日期： 2023-01-01 00:00:00\n",
            "最晚日期： 2023-12-31 00:00:00\n"
          ]
        }
      ],
      "source": [
        "# 导入所需库\n",
        "import pandas as pd\n",
        "import numpy as np\n",
        "import matplotlib.pyplot as plt\n",
        "import seaborn as sns\n",
        "#import zipfile # This import is no longer needed\n",
        "import os\n",
        "\n",
        "from google.colab import files\n",
        "\n",
        "# 上传 CSV 文件\n",
        "uploaded = files.upload()\n",
        "\n",
        "# 获取上传的文件名\n",
        "csv_filename = list(uploaded.keys())[0]\n",
        "\n",
        "# 读取 CSV 文件\n",
        "df = pd.read_csv(csv_filename)\n",
        "\n",
        "# 显示前几行\n",
        "print(\"前五行数据：\")\n",
        "print(df.head())\n",
        "\n",
        "# 显示数据框的结构信息\n",
        "print(\"\\n数据结构信息：\")\n",
        "print(df.info())\n",
        "\n",
        "# 描述性统计\n",
        "print(\"\\n描述性统计：\")\n",
        "print(df.describe())\n",
        "\n",
        "# 检查是否包含完整一年的数据\n",
        "df['Date'] = pd.to_datetime(df['Date'])\n",
        "print(\"\\n数据时间范围：\")\n",
        "print(\"最早日期：\", df['Date'].min())\n",
        "print(\"最晚日期：\", df['Date'].max())"
      ]
    },
    {
      "cell_type": "markdown",
      "metadata": {
        "id": "HmSYV65PLwoj"
      },
      "source": [
        "## Prepare Data\n",
        "\n",
        "➡️ Assignment Tasks\n",
        "- Filter the data to use Utah data only\n",
        "- Create one dummy variable (true/false) for each of the Defining Parameter values    \n",
        "- Create variables for month of year, year, and season\n",
        "- Perform any other data cleanup needed (remove outliers, nulls, etc.)\n",
        "- After filtering for Utah, remove the geographical variables that remain (county, state) since those non-numeric values can't be used.  Remove any other non-numeric variables.\n",
        "- Select the data you would like to use in the model.  If you aggregate data, you will have to decide whether to use the min, max or mean value for AQI\n",
        "- Split the data 80/20 for training and testing"
      ]
    },
    {
      "cell_type": "code",
      "source": [
        "# ✅ 筛选出 Utah 的数据\n",
        "utah_df = df[df['State Name'] == 'Utah'].copy()\n",
        "\n",
        "# ✅ 创建 dummy 变量（针对 Defining Parameter）\n",
        "defining_dummies = pd.get_dummies(utah_df['Defining Parameter'], prefix='Param')\n",
        "\n",
        "# 合并 dummy 变量到原始数据中\n",
        "utah_df = pd.concat([utah_df, defining_dummies], axis=1)\n",
        "\n",
        "# ✅ 创建时间变量（年、月、季节）\n",
        "utah_df['Date'] = pd.to_datetime(utah_df['Date'])\n",
        "utah_df['Year'] = utah_df['Date'].dt.year\n",
        "utah_df['Month'] = utah_df['Date'].dt.month\n",
        "\n",
        "# 创建季节列\n",
        "def get_season(month):\n",
        "    if month in [12, 1, 2]:\n",
        "        return 'Winter'\n",
        "    elif month in [3, 4, 5]:\n",
        "        return 'Spring'\n",
        "    elif month in [6, 7, 8]:\n",
        "        return 'Summer'\n",
        "    else:\n",
        "        return 'Fall'\n",
        "\n",
        "utah_df['Season'] = utah_df['Month'].apply(get_season)\n",
        "\n",
        "# 将 Season 转换成 dummy 变量\n",
        "season_dummies = pd.get_dummies(utah_df['Season'], prefix='Season')\n",
        "utah_df = pd.concat([utah_df, season_dummies], axis=1)\n",
        "\n",
        "# ✅ 去除空值（虽然目前看不到空值，保险起见）\n",
        "utah_df = utah_df.dropna()\n",
        "\n",
        "# ✅ 去除地理类和非数值型变量\n",
        "columns_to_drop = ['State Name', 'county Name', 'State Code', 'County Code',\n",
        "                   'Date', 'Category', 'Defining Parameter', 'Defining Site', 'Season']\n",
        "utah_df.drop(columns=columns_to_drop, inplace=True)\n",
        "\n",
        "# ✅ 移除极端异常值（AQI > 500 属于异常）\n",
        "utah_df = utah_df[utah_df['AQI'] <= 500]\n",
        "\n",
        "# ✅ 查看处理后的数据\n",
        "print(\"处理后的 Utah 数据：\")\n",
        "print(utah_df.head())\n",
        "print(\"\\n处理后数据的列名：\")\n",
        "print(utah_df.columns)\n"
      ],
      "metadata": {
        "id": "GKhJnLFcN9Nd",
        "outputId": "15279ff4-bce5-4c32-f06c-9ec6edf8d6f1",
        "colab": {
          "base_uri": "https://localhost:8080/"
        }
      },
      "execution_count": 4,
      "outputs": [
        {
          "output_type": "stream",
          "name": "stdout",
          "text": [
            "处理后的 Utah 数据：\n",
            "        AQI  Number of Sites Reporting  Param_NO2  Param_Ozone  Param_PM10  \\\n",
            "280475   35                          1      False         True       False   \n",
            "280476   34                          1      False         True       False   \n",
            "280477   34                          1      False         True       False   \n",
            "280478   31                          1      False         True       False   \n",
            "280479   27                          1      False         True       False   \n",
            "\n",
            "        Param_PM2.5  Year  Month  Season_Fall  Season_Spring  Season_Summer  \\\n",
            "280475        False  2023      1        False          False          False   \n",
            "280476        False  2023      1        False          False          False   \n",
            "280477        False  2023      1        False          False          False   \n",
            "280478        False  2023      1        False          False          False   \n",
            "280479        False  2023      1        False          False          False   \n",
            "\n",
            "        Season_Winter  \n",
            "280475           True  \n",
            "280476           True  \n",
            "280477           True  \n",
            "280478           True  \n",
            "280479           True  \n",
            "\n",
            "处理后数据的列名：\n",
            "Index(['AQI', 'Number of Sites Reporting', 'Param_NO2', 'Param_Ozone',\n",
            "       'Param_PM10', 'Param_PM2.5', 'Year', 'Month', 'Season_Fall',\n",
            "       'Season_Spring', 'Season_Summer', 'Season_Winter'],\n",
            "      dtype='object')\n"
          ]
        }
      ]
    },
    {
      "cell_type": "code",
      "source": [
        "# 设置目标变量 y 和特征变量 X\n",
        "y = utah_df['AQI']\n",
        "X = utah_df.drop(columns=['AQI'])\n",
        "\n",
        "# 拆分为训练集和测试集（80/20）\n",
        "from sklearn.model_selection import train_test_split\n",
        "\n",
        "X_train, X_test, y_train, y_test = train_test_split(\n",
        "    X, y, test_size=0.2, random_state=42\n",
        ")\n",
        "\n",
        "# 输出训练集/测试集的大小\n",
        "print(\"训练集大小：\", X_train.shape)\n",
        "print(\"测试集大小：\", X_test.shape)\n"
      ],
      "metadata": {
        "id": "RbcLAJnaOAGe",
        "outputId": "3dba0696-0c57-4955-e5f7-fd9732318782",
        "colab": {
          "base_uri": "https://localhost:8080/"
        }
      },
      "execution_count": 5,
      "outputs": [
        {
          "output_type": "stream",
          "name": "stdout",
          "text": [
            "训练集大小： (4183, 11)\n",
            "测试集大小： (1046, 11)\n"
          ]
        }
      ]
    },
    {
      "cell_type": "markdown",
      "metadata": {
        "id": "ppM2U7kyLwol"
      },
      "source": [
        "## Create Model\n",
        "\n",
        "➡️ Assignment Tasks\n",
        "- Create a simple linear regression to predict AQI based on as many variables as you can use or derive.  (for example, sklearn LinearRegression)\n",
        "- Evaluate the model by displaying the R squared value  \n",
        "- Visualize the correlation between the target variable and at least one of the independent variables"
      ]
    },
    {
      "cell_type": "code",
      "execution_count": 6,
      "metadata": {
        "vscode": {
          "languageId": "plaintext"
        },
        "colab": {
          "base_uri": "https://localhost:8080/"
        },
        "id": "BtOcKiFBLwol",
        "outputId": "c01c1d56-d0d1-470e-e6a9-55f3c8d82f96"
      },
      "outputs": [
        {
          "output_type": "stream",
          "name": "stdout",
          "text": [
            "模型 R² 值： 0.149\n"
          ]
        }
      ],
      "source": [
        "from sklearn.linear_model import LinearRegression\n",
        "from sklearn.metrics import r2_score\n",
        "\n",
        "# 创建线性回归模型\n",
        "model = LinearRegression()\n",
        "\n",
        "# 拟合模型\n",
        "model.fit(X_train, y_train)\n",
        "\n",
        "# 用测试集预测\n",
        "y_pred = model.predict(X_test)\n",
        "\n",
        "# 计算 R² 值\n",
        "r2 = r2_score(y_test, y_pred)\n",
        "print(\"模型 R² 值：\", round(r2, 4))\n"
      ]
    },
    {
      "cell_type": "code",
      "execution_count": 7,
      "metadata": {
        "vscode": {
          "languageId": "plaintext"
        },
        "colab": {
          "base_uri": "https://localhost:8080/",
          "height": 747
        },
        "id": "HcJDwswxLwol",
        "outputId": "b8f20460-e2dd-48ef-c83c-01b3a9814548"
      },
      "outputs": [
        {
          "output_type": "stream",
          "name": "stderr",
          "text": [
            "/usr/local/lib/python3.11/dist-packages/IPython/core/pylabtools.py:151: UserWarning: Glyph 20998 (\\N{CJK UNIFIED IDEOGRAPH-5206}) missing from font(s) DejaVu Sans.\n",
            "  fig.canvas.print_figure(bytes_io, **kw)\n",
            "/usr/local/lib/python3.11/dist-packages/IPython/core/pylabtools.py:151: UserWarning: Glyph 24067 (\\N{CJK UNIFIED IDEOGRAPH-5E03}) missing from font(s) DejaVu Sans.\n",
            "  fig.canvas.print_figure(bytes_io, **kw)\n",
            "/usr/local/lib/python3.11/dist-packages/IPython/core/pylabtools.py:151: UserWarning: Glyph 22270 (\\N{CJK UNIFIED IDEOGRAPH-56FE}) missing from font(s) DejaVu Sans.\n",
            "  fig.canvas.print_figure(bytes_io, **kw)\n",
            "/usr/local/lib/python3.11/dist-packages/IPython/core/pylabtools.py:151: UserWarning: Glyph 26376 (\\N{CJK UNIFIED IDEOGRAPH-6708}) missing from font(s) DejaVu Sans.\n",
            "  fig.canvas.print_figure(bytes_io, **kw)\n",
            "/usr/local/lib/python3.11/dist-packages/IPython/core/pylabtools.py:151: UserWarning: Glyph 20221 (\\N{CJK UNIFIED IDEOGRAPH-4EFD}) missing from font(s) DejaVu Sans.\n",
            "  fig.canvas.print_figure(bytes_io, **kw)\n"
          ]
        },
        {
          "output_type": "display_data",
          "data": {
            "text/plain": [
              "<Figure size 1000x600 with 1 Axes>"
            ],
            "image/png": "[encoded data removed]"
          },
          "metadata": {}
        }
      ],
      "source": [
        "import seaborn as sns\n",
        "import matplotlib.pyplot as plt\n",
        "\n",
        "# 可视化 Month 与 AQI 的关系\n",
        "plt.figure(figsize=(10, 6))\n",
        "sns.boxplot(x=utah_df['Month'], y=utah_df['AQI'])\n",
        "plt.title('Month vs AQI 分布图')\n",
        "plt.xlabel('月份')\n",
        "plt.ylabel('AQI')\n",
        "plt.show()\n"
      ]
    },
    {
      "cell_type": "markdown",
      "metadata": {
        "id": "gIFHL2baLwol"
      },
      "source": [
        "## Make a prediction\n",
        "\n",
        "➡️ Assignment Tasks\n",
        "- What would you predict the average AQI to be in January of the upcoming year?  "
      ]
    },
    {
      "cell_type": "code",
      "execution_count": 8,
      "metadata": {
        "vscode": {
          "languageId": "plaintext"
        },
        "colab": {
          "base_uri": "https://localhost:8080/"
        },
        "id": "DDIyE1SjLwol",
        "outputId": "22cd9f60-cb70-4461-bb9b-b5702faaec2c"
      },
      "outputs": [
        {
          "output_type": "stream",
          "name": "stdout",
          "text": [
            "预测 2024 年 1 月的平均 AQI 值为：48.1\n"
          ]
        }
      ],
      "source": [
        "# 构造“明年1月”的特征向量，假设预测时间为 2024 年 1 月\n",
        "# 特征列顺序必须和 X_train 一致\n",
        "feature_cols = X_train.columns\n",
        "\n",
        "# 示例构造：一个站点，PM2.5 为定义参数，时间为 1 月，季节为冬季\n",
        "january_features = pd.DataFrame([{\n",
        "    'Number of Sites Reporting': 1,\n",
        "    'Param_NO2': False,\n",
        "    'Param_Ozone': False,\n",
        "    'Param_PM10': False,\n",
        "    'Param_PM2.5': True,\n",
        "    'Year': 2024,\n",
        "    'Month': 1,\n",
        "    'Season_Fall': False,\n",
        "    'Season_Spring': False,\n",
        "    'Season_Summer': False,\n",
        "    'Season_Winter': True\n",
        "}])\n",
        "\n",
        "# 确保列顺序与训练集一致\n",
        "january_features = january_features[feature_cols]\n",
        "\n",
        "# 进行预测\n",
        "predicted_aqi = model.predict(january_features)[0]\n",
        "print(f\"预测 2024 年 1 月的平均 AQI 值为：{round(predicted_aqi, 2)}\")\n"
      ]
    },
    {
      "cell_type": "markdown",
      "metadata": {
        "id": "tblHS-IvLwol"
      },
      "source": [
        "## OPTIONAL: Compare Air Quality\n",
        "\n",
        "➡️ Assignment Tasks\n",
        "- Download the data from several previous years using this website: https://aqs.epa.gov/aqsweb/airdata/download_files.html#AQI\n",
        "- Append the new data to the previous dataframe\n",
        "- Use the year as a variable in your regression.  Is year a significant factor in predicting AQI?"
      ]
    },
    {
      "cell_type": "code",
      "source": [
        "# 上传并读取 2022 年的数据文件（已解压为 CSV）\n",
        "from google.colab import files\n",
        "uploaded = files.upload()\n",
        "\n",
        "# 假设文件为 'daily_aqi_by_county_2022.csv'\n",
        "df_2022 = pd.read_csv('daily_aqi_by_county_2022.csv')\n",
        "\n",
        "# 筛选出 Utah 数据\n",
        "df_2022_ut = df_2022[df_2022['State Name'] == 'Utah'].copy()\n"
      ],
      "metadata": {
        "id": "hN_j8X1rQ2R0",
        "outputId": "15a2c264-103d-45b4-b435-daa3a47999c7",
        "colab": {
          "base_uri": "https://localhost:8080/",
          "height": 74
        }
      },
      "execution_count": 10,
      "outputs": [
        {
          "output_type": "display_data",
          "data": {
            "text/plain": [
              "<IPython.core.display.HTML object>"
            ],
            "text/html": [
              "\n",
              "     <input type=\"file\" id=\"files-f038c8ad-5db1-4f13-b521-ba1fcc3687b0\" name=\"files[]\" multiple disabled\n",
              "        style=\"border:none\" />\n",
              "     <output id=\"result-f038c8ad-5db1-4f13-b521-ba1fcc3687b0\">\n",
              "      Upload widget is only available when the cell has been executed in the\n",
              "      current browser session. Please rerun this cell to enable.\n",
              "      </output>\n",
              "      <script>// Copyright 2017 Google LLC\n",
              "//\n",
              "// Licensed under the Apache License, Version 2.0 (the \"License\");\n",
              "// you may not use this file except in compliance with the License.\n",
              "// You may obtain a copy of the License at\n",
              "//\n",
              "//      http://www.apache.org/licenses/LICENSE-2.0\n",
              "//\n",
              "// Unless required by applicable law or agreed to in writing, software\n",
              "// distributed under the License is distributed on an \"AS IS\" BASIS,\n",
              "// WITHOUT WARRANTIES OR CONDITIONS OF ANY KIND, either express or implied.\n",
              "// See the License for the specific language governing permissions and\n",
              "// limitations under the License.\n",
              "\n",
              "/**\n",
              " * @fileoverview Helpers for google.colab Python module.\n",
              " */\n",
              "(function(scope) {\n",
              "function span(text, styleAttributes = {}) {\n",
              "  const element = document.createElement('span');\n",
              "  element.textContent = text;\n",
              "  for (const key of Object.keys(styleAttributes)) {\n",
              "    element.style[key] = styleAttributes[key];\n",
              "  }\n",
              "  return element;\n",
              "}\n",
              "\n",
              "// Max number of bytes which will be uploaded at a time.\n",
              "const MAX_PAYLOAD_SIZE = 100 * 1024;\n",
              "\n",
              "function _uploadFiles(inputId, outputId) {\n",
              "  const steps = uploadFilesStep(inputId, outputId);\n",
              "  const outputElement = document.getElementById(outputId);\n",
              "  // Cache steps on the outputElement to make it available for the next call\n",
              "  // to uploadFilesContinue from Python.\n",
              "  outputElement.steps = steps;\n",
              "\n",
              "  return _uploadFilesContinue(outputId);\n",
              "}\n",
              "\n",
              "// This is roughly an async generator (not supported in the browser yet),\n",
              "// where there are multiple asynchronous steps and the Python side is going\n",
              "// to poll for completion of each step.\n",
              "// This uses a Promise to block the python side on completion of each step,\n",
              "// then passes the result of the previous step as the input to the next step.\n",
              "function _uploadFilesContinue(outputId) {\n",
              "  const outputElement = document.getElementById(outputId);\n",
              "  const steps = outputElement.steps;\n",
              "\n",
              "  const next = steps.next(outputElement.lastPromiseValue);\n",
              "  return Promise.resolve(next.value.promise).then((value) => {\n",
              "    // Cache the last promise value to make it available to the next\n",
              "    // step of the generator.\n",
              "    outputElement.lastPromiseValue = value;\n",
              "    return next.value.response;\n",
              "  });\n",
              "}\n",
              "\n",
              "/**\n",
              " * Generator function which is called between each async step of the upload\n",
              " * process.\n",
              " * @param {string} inputId Element ID of the input file picker element.\n",
              " * @param {string} outputId Element ID of the output display.\n",
              " * @return {!Iterable<!Object>} Iterable of next steps.\n",
              " */\n",
              "function* uploadFilesStep(inputId, outputId) {\n",
              "  const inputElement = document.getElementById(inputId);\n",
              "  inputElement.disabled = false;\n",
              "\n",
              "  const outputElement = document.getElementById(outputId);\n",
              "  outputElement.innerHTML = '';\n",
              "\n",
              "  const pickedPromise = new Promise((resolve) => {\n",
              "    inputElement.addEventListener('change', (e) => {\n",
              "      resolve(e.target.files);\n",
              "    });\n",
              "  });\n",
              "\n",
              "  const cancel = document.createElement('button');\n",
              "  inputElement.parentElement.appendChild(cancel);\n",
              "  cancel.textContent = 'Cancel upload';\n",
              "  const cancelPromise = new Promise((resolve) => {\n",
              "    cancel.onclick = () => {\n",
              "      resolve(null);\n",
              "    };\n",
              "  });\n",
              "\n",
              "  // Wait for the user to pick the files.\n",
              "  const files = yield {\n",
              "    promise: Promise.race([pickedPromise, cancelPromise]),\n",
              "    response: {\n",
              "      action: 'starting',\n",
              "    }\n",
              "  };\n",
              "\n",
              "  cancel.remove();\n",
              "\n",
              "  // Disable the input element since further picks are not allowed.\n",
              "  inputElement.disabled = true;\n",
              "\n",
              "  if (!files) {\n",
              "    return {\n",
              "      response: {\n",
              "        action: 'complete',\n",
              "      }\n",
              "    };\n",
              "  }\n",
              "\n",
              "  for (const file of files) {\n",
              "    const li = document.createElement('li');\n",
              "    li.append(span(file.name, {fontWeight: 'bold'}));\n",
              "    li.append(span(\n",
              "        `(${file.type || 'n/a'}) - ${file.size} bytes, ` +\n",
              "        `last modified: ${\n",
              "            file.lastModifiedDate ? file.lastModifiedDate.toLocaleDateString() :\n",
              "                                    'n/a'} - `));\n",
              "    const percent = span('0% done');\n",
              "    li.appendChild(percent);\n",
              "\n",
              "    outputElement.appendChild(li);\n",
              "\n",
              "    const fileDataPromise = new Promise((resolve) => {\n",
              "      const reader = new FileReader();\n",
              "      reader.onload = (e) => {\n",
              "        resolve(e.target.result);\n",
              "      };\n",
              "      reader.readAsArrayBuffer(file);\n",
              "    });\n",
              "    // Wait for the data to be ready.\n",
              "    let fileData = yield {\n",
              "      promise: fileDataPromise,\n",
              "      response: {\n",
              "        action: 'continue',\n",
              "      }\n",
              "    };\n",
              "\n",
              "    // Use a chunked sending to avoid message size limits. See b/62115660.\n",
              "    let position = 0;\n",
              "    do {\n",
              "      const length = Math.min(fileData.byteLength - position, MAX_PAYLOAD_SIZE);\n",
              "      const chunk = new Uint8Array(fileData, position, length);\n",
              "      position += length;\n",
              "\n",
              "      const base64 = btoa(String.fromCharCode.apply(null, chunk));\n",
              "      yield {\n",
              "        response: {\n",
              "          action: 'append',\n",
              "          file: file.name,\n",
              "          data: base64,\n",
              "        },\n",
              "      };\n",
              "\n",
              "      let percentDone = fileData.byteLength === 0 ?\n",
              "          100 :\n",
              "          Math.round((position / fileData.byteLength) * 100);\n",
              "      percent.textContent = `${percentDone}% done`;\n",
              "\n",
              "    } while (position < fileData.byteLength);\n",
              "  }\n",
              "\n",
              "  // All done.\n",
              "  yield {\n",
              "    response: {\n",
              "      action: 'complete',\n",
              "    }\n",
              "  };\n",
              "}\n",
              "\n",
              "scope.google = scope.google || {};\n",
              "scope.google.colab = scope.google.colab || {};\n",
              "scope.google.colab._files = {\n",
              "  _uploadFiles,\n",
              "  _uploadFilesContinue,\n",
              "};\n",
              "})(self);\n",
              "</script> "
            ]
          },
          "metadata": {}
        },
        {
          "output_type": "stream",
          "name": "stdout",
          "text": [
            "Saving daily_aqi_by_county_2022.csv to daily_aqi_by_county_2022.csv\n"
          ]
        }
      ]
    },
    {
      "cell_type": "code",
      "source": [
        "# 创建 Defining Parameter 的 dummy 变量\n",
        "dp_dummies = pd.get_dummies(df_2022_ut['Defining Parameter'], prefix='Param')\n",
        "df_2022_ut = pd.concat([df_2022_ut, dp_dummies], axis=1)\n",
        "\n",
        "# 创建日期字段\n",
        "df_2022_ut['Date'] = pd.to_datetime(df_2022_ut['Date'])\n",
        "df_2022_ut['Year'] = df_2022_ut['Date'].dt.year\n",
        "df_2022_ut['Month'] = df_2022_ut['Date'].dt.month\n",
        "\n",
        "# 创建季节字段\n",
        "def get_season(month):\n",
        "    if month in [12, 1, 2]:\n",
        "        return 'Winter'\n",
        "    elif month in [3, 4, 5]:\n",
        "        return 'Spring'\n",
        "    elif month in [6, 7, 8]:\n",
        "        return 'Summer'\n",
        "    else:\n",
        "        return 'Fall'\n",
        "\n",
        "df_2022_ut['Season'] = df_2022_ut['Month'].apply(get_season)\n",
        "season_dummies = pd.get_dummies(df_2022_ut['Season'], prefix='Season')\n",
        "df_2022_ut = pd.concat([df_2022_ut, season_dummies], axis=1)\n",
        "\n",
        "# 清理列\n",
        "drop_cols = ['State Name', 'county Name', 'State Code', 'County Code',\n",
        "             'Date', 'Category', 'Defining Parameter', 'Defining Site', 'Season']\n",
        "df_2022_ut.drop(columns=drop_cols, inplace=True)\n",
        "\n",
        "# 去除极端值\n",
        "df_2022_ut = df_2022_ut[df_2022_ut['AQI'] <= 500]\n"
      ],
      "metadata": {
        "id": "4IZKQ4YTRDHp"
      },
      "execution_count": 11,
      "outputs": []
    },
    {
      "cell_type": "code",
      "source": [
        "# 合并两个年份的数据\n",
        "combined_df = pd.concat([utah_df, df_2022_ut], ignore_index=True)\n",
        "\n",
        "# 检查是否需要补齐缺失列（部分 dummy 变量不一定出现在每一年中）\n",
        "combined_df = combined_df.fillna(False)\n"
      ],
      "metadata": {
        "id": "Nxb7E7gtRE52"
      },
      "execution_count": 12,
      "outputs": []
    },
    {
      "cell_type": "code",
      "source": [
        "# 设置 X 和 y\n",
        "X_combined = combined_df.drop(columns=['AQI'])\n",
        "y_combined = combined_df['AQI']\n",
        "\n",
        "# 拆分训练和测试集\n",
        "X_train_c, X_test_c, y_train_c, y_test_c = train_test_split(X_combined, y_combined, test_size=0.2, random_state=42)\n",
        "\n",
        "# 建模\n",
        "model_c = LinearRegression()\n",
        "model_c.fit(X_train_c, y_train_c)\n",
        "\n",
        "# 模型性能\n",
        "r2_c = model_c.score(X_test_c, y_test_c)\n",
        "print(\"合并模型 R² 值：\", round(r2_c, 4))\n",
        "\n",
        "# 查看 Year 的回归系数\n",
        "coef_df = pd.DataFrame({\n",
        "    'Feature': X_combined.columns,\n",
        "    'Coefficient': model_c.coef_\n",
        "})\n",
        "print(\"\\n各特征系数：\")\n",
        "print(coef_df[coef_df['Feature'] == 'Year'])\n"
      ],
      "metadata": {
        "id": "jzhYt9EgRGbe",
        "outputId": "55502823-956c-42c1-9cf7-f8a1996a17d1",
        "colab": {
          "base_uri": "https://localhost:8080/"
        }
      },
      "execution_count": 13,
      "outputs": [
        {
          "output_type": "stream",
          "name": "stdout",
          "text": [
            "合并模型 R² 值： 0.1193\n",
            "\n",
            "各特征系数：\n",
            "  Feature  Coefficient\n",
            "5    Year     0.863379\n"
          ]
        }
      ]
    }
  ],
  "metadata": {
    "language_info": {
      "name": "python"
    },
    "colab": {
      "provenance": []
    },
    "kernelspec": {
      "name": "python3",
      "display_name": "Python 3"
    }
  },
  "nbformat": 4,
  "nbformat_minor": 0
}