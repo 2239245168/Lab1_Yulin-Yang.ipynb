{
  "cells": [
    {
      "cell_type": "markdown",
      "metadata": {
        "id": "p_Yu45OYdj3Y"
      },
      "source": [
        "# IS 4487 Lab 9\n",
        "\n",
        "## Outline\n",
        "\n",
        "a. Understand model accuracy.  Why is it a performance metric for classification and not regression?\n",
        "    \n",
        "b. Calculate accuracy for a simple majority class model (this is the same as calculating the proportion of the majority class in a binary variable). Consider: x <- c(1, 1, 1, 0, 0).  What is the majority class? What is the proportion of the majority class in x?\n",
        "    \n",
        "c. Fit a tree model of the target with just two predictor variables and calculate the accuracy of this model.\n",
        "    \n",
        "d. Interpret a tree model, and calculate information gain.\n",
        "    \n",
        "e. Fit a tree model of the target using all the predictors, then:  create a visualization of the tree and identify the top 3 most important predictors in this model.\n",
        "    \n",
        "f. How do these models compare to majority class prediction?\n",
        "    \n",
        "g. How will you use a classification model as part of a solution to the AdviseInvest case?\n",
        "\n",
        "<a href=\"https://colab.research.google.com/github/Stan-Pugsley/is_4487_base/blob/main/Labs/Scripts/lab_09_megatelco_fit_model.ipynb\" target=\"_parent\"><img src=\"https://colab.research.google.com/assets/colab-badge.svg\" alt=\"Open In Colab\"/></a>"
      ]
    },
    {
      "cell_type": "markdown",
      "metadata": {
        "id": "vGVB6pbd12vP"
      },
      "source": [
        "## Megatelco Data Dictionary\n",
        "\n",
        " DEMOGRAPHIC VARIABLES:\n",
        " - College - has the customer attended some college (one, zero)\n",
        " - Income - annual income of customer\n",
        " - House - estimated price of the customer's home (if applicable)\n",
        "\n",
        " USAGE VARIABLES:\n",
        " - Data Overage Mb - Average number of megabytes that the customer used in excess of the plan limit (over last 12 months)\n",
        " - Data Leftover Mb - Average number of megabytes that the customer use was below the plan limit (over last 12 months)\n",
        " - Data Mb Used - Average number of megabytes used per month (over last 12 months)\n",
        " - Text Message Count - Average number of texts per month (over last 12 months)\n",
        " - Over 15 Minute Calls Per Month - Average number of calls over 15 minutes in duration per month (over last 12 months)\n",
        " - Average Call Duration- Average call duration (over last 12 months)\n",
        "\n",
        "PHONE VARIABLES:\n",
        " - Operating System - Current operating system of phone\n",
        " - Handset Price - Retail price of the phone used by the customer\n",
        "\n",
        "ATTITUDINAL VARIABLES:\n",
        " - Reported Satisfaction - Survey response to \"How satisfied are you with your current phone plan?\" (high, med, low)\n",
        " - Reported Usage Level - Survey response to \"How much do your use your phone?\" (high, med, low)\n",
        " - Considering Change of Plan - Survey response to \"Are you currently planning to change companies when your contract expires?\" (high, med, low)\n",
        "\n",
        "OTHER VARIABLES\n",
        " - Leave - Did this customer churn with the last contract expiration? (LEAVE, STAY)\n",
        " - ID - Customer identifier"
      ]
    },
    {
      "cell_type": "markdown",
      "metadata": {
        "id": "UE93RwXhgiJS"
      },
      "source": [
        "##Load Libraries\n",
        "\n",
        "In this class we will be using\n",
        "- Pandas\n",
        "- Scikitlearn\n",
        "- Matplotlib\n"
      ]
    },
    {
      "cell_type": "code",
      "execution_count": 1,
      "metadata": {
        "id": "JYRZY5n0gfNe"
      },
      "outputs": [],
      "source": [
        "import pandas as pd\n",
        "import matplotlib as mpl\n",
        "import numpy as np\n",
        "\n",
        "from sklearn.tree import DecisionTreeClassifier, export_graphviz # Import Decision Tree Classifier\n",
        "from sklearn.model_selection import train_test_split # Import train_test_split function\n",
        "from sklearn import metrics #Import scikit-learn metrics module for accuracy calculation\n",
        "from sklearn import tree\n"
      ]
    },
    {
      "cell_type": "markdown",
      "metadata": {
        "id": "bREaXo8jfu-O"
      },
      "source": [
        "## Import Data into Dataframe\n",
        "\n",
        "➡️ Assignment Tasks\n",
        "- Import data from the Megatelco dataset into a dataframe (in GitHub go to Labs > DataSets)\n",
        "- Describe or profile the dataframe\n"
      ]
    },
    {
      "cell_type": "code",
      "execution_count": 9,
      "metadata": {
        "id": "SziZ4PR512vR",
        "outputId": "139a6f81-2515-48e5-f5d1-2ca87be7260e",
        "colab": {
          "base_uri": "https://localhost:8080/"
        }
      },
      "outputs": [
        {
          "output_type": "stream",
          "name": "stdout",
          "text": [
            "<class 'pandas.core.frame.DataFrame'>\n",
            "RangeIndex: 14999 entries, 0 to 14998\n",
            "Data columns (total 16 columns):\n",
            " #   Column                       Non-Null Count  Dtype  \n",
            "---  ------                       --------------  -----  \n",
            " 0   college                      14999 non-null  object \n",
            " 1   income                       14999 non-null  int64  \n",
            " 2   data_overage_mb              14999 non-null  int64  \n",
            " 3   data_leftover_mb             14999 non-null  int64  \n",
            " 4   data_mb_used                 14999 non-null  int64  \n",
            " 5   text_message_count           14999 non-null  int64  \n",
            " 6   house                        14999 non-null  int64  \n",
            " 7   handset_price                14999 non-null  int64  \n",
            " 8   over_15mins_calls_per_month  14996 non-null  float64\n",
            " 9   average_call_duration        14999 non-null  int64  \n",
            " 10  reported_satisfaction        14999 non-null  object \n",
            " 11  reported_usage_level         14999 non-null  object \n",
            " 12  considering_change_of_plan   14999 non-null  object \n",
            " 13  leave                        14999 non-null  object \n",
            " 14  id                           14999 non-null  int64  \n",
            " 15  operating_system             14999 non-null  object \n",
            "dtypes: float64(1), int64(9), object(6)\n",
            "memory usage: 1.8+ MB\n",
            "None\n",
            "  college  income  data_overage_mb  data_leftover_mb  data_mb_used  \\\n",
            "0     one  403137               70                 0          6605   \n",
            "1    zero  129700               67                16          6028   \n",
            "2    zero   69741               60                 0          1482   \n",
            "3     one  377572                0                22          3005   \n",
            "4    zero  382080                0                 0          1794   \n",
            "\n",
            "   text_message_count   house  handset_price  over_15mins_calls_per_month  \\\n",
            "0                 199  841317            653                          5.0   \n",
            "1                 134  476664           1193                          5.0   \n",
            "2                 176  810225           1037                          3.0   \n",
            "3                 184  826967           1161                          0.0   \n",
            "4                  74  951896           1023                          0.0   \n",
            "\n",
            "   average_call_duration reported_satisfaction reported_usage_level  \\\n",
            "0                      8                   low                  low   \n",
            "1                      5                   low                  low   \n",
            "2                      8                   low                  low   \n",
            "3                      5                   low                  low   \n",
            "4                     14                   low                  low   \n",
            "\n",
            "  considering_change_of_plan  leave     id operating_system  \n",
            "0                        yes  LEAVE   8183          Android  \n",
            "1                        yes  LEAVE  12501              IOS  \n",
            "2                        yes   STAY   7425              IOS  \n",
            "3                         no  LEAVE  13488              IOS  \n",
            "4                        yes   STAY  11389              IOS  \n",
            "              income  data_overage_mb  data_leftover_mb  data_mb_used  \\\n",
            "count   14999.000000     14999.000000      14999.000000  14999.000000   \n",
            "mean   241989.140476       153.522502         37.522035   4202.624442   \n",
            "std    109603.370138       113.018111         28.046409   2202.763649   \n",
            "min    -65000.000000         0.000000          0.000000    400.000000   \n",
            "25%    147822.000000        54.000000         12.000000   2294.000000   \n",
            "50%    241656.000000       151.000000         35.000000   4223.000000   \n",
            "75%    336456.500000       242.000000         62.000000   6080.000000   \n",
            "max    432000.000000       380.000000         89.000000   8000.000000   \n",
            "\n",
            "       text_message_count         house  handset_price  \\\n",
            "count        14999.000000  1.499900e+04   14999.000000   \n",
            "mean           135.622041  8.771616e+05     795.146810   \n",
            "std             48.831061  2.870316e+05    1235.785429   \n",
            "min             52.000000 -4.630000e+02     215.000000   \n",
            "25%             93.000000  6.444405e+05     498.000000   \n",
            "50%            135.000000  8.764130e+05     778.000000   \n",
            "75%            178.000000  1.098834e+06    1064.000000   \n",
            "max            220.000000  1.456389e+06  125000.000000   \n",
            "\n",
            "       over_15mins_calls_per_month  average_call_duration            id  \n",
            "count                 14996.000000           14999.000000  14999.000000  \n",
            "mean                     10.568685               9.731515  11859.749517  \n",
            "std                       8.402100               5.195150   6812.842446  \n",
            "min                       0.000000               1.000000      2.000000  \n",
            "25%                       3.000000               5.000000   6137.000000  \n",
            "50%                       9.000000              10.000000  11760.000000  \n",
            "75%                      17.000000              14.000000  17396.000000  \n",
            "max                      35.000000              19.000000  25354.000000  \n"
          ]
        }
      ],
      "source": [
        "import pandas as pd\n",
        "\n",
        "file_path = \"https://raw.githubusercontent.com/Stan-Pugsley/is_4487_base/main/Labs/DataSets/megatelco_leave_survey.csv\"\n",
        "df = pd.read_csv(file_path)\n",
        "\n",
        "\n",
        "# 显示数据的基本信息\n",
        "print(df.info())\n",
        "\n",
        "# 显示数据的前几行\n",
        "print(df.head())\n",
        "\n",
        "# 统计数据的描述性信息\n",
        "print(df.describe())\n"
      ]
    },
    {
      "cell_type": "markdown",
      "metadata": {
        "id": "BtxOWvFlKzgE"
      },
      "source": [
        "## Clean up the data\n",
        "Did you notice anything unusual about the \"house\" amounts?\n",
        "\n",
        "How about the handset price and income?\n",
        "\n",
        "Clean up the data in a  new datafram named \"df_clean\"\n"
      ]
    },
    {
      "cell_type": "code",
      "execution_count": 10,
      "metadata": {
        "id": "7KXLvMcBK8Za",
        "outputId": "ffd68df6-df66-487f-c86c-ddbdd86fe86c",
        "colab": {
          "base_uri": "https://localhost:8080/",
          "height": 300
        }
      },
      "outputs": [
        {
          "output_type": "execute_result",
          "data": {
            "text/plain": [
              "              income  data_overage_mb  data_leftover_mb  data_mb_used  \\\n",
              "count   14990.000000     14990.000000      14990.000000  14990.000000   \n",
              "mean   242051.833689       153.593996         37.526217   4203.088192   \n",
              "std    109550.800640       112.996435         28.043476   2202.621977   \n",
              "min     52491.000000         0.000000          0.000000    400.000000   \n",
              "25%    147917.250000        54.000000         12.000000   2297.250000   \n",
              "50%    241663.000000       151.000000         35.000000   4224.500000   \n",
              "75%    336483.500000       242.000000         62.000000   6080.000000   \n",
              "max    432000.000000       380.000000         89.000000   8000.000000   \n",
              "\n",
              "       text_message_count         house  handset_price  \\\n",
              "count        14990.000000  1.499000e+04   14990.000000   \n",
              "mean           135.629286  8.772144e+05     780.669446   \n",
              "std             48.837706  2.869092e+05     326.560845   \n",
              "min             52.000000  3.200010e+05     215.000000   \n",
              "25%             93.000000  6.446280e+05     498.000000   \n",
              "50%            135.000000  8.764390e+05     778.000000   \n",
              "75%            178.000000  1.098814e+06    1063.750000   \n",
              "max            220.000000  1.456389e+06    1350.000000   \n",
              "\n",
              "       over_15mins_calls_per_month  average_call_duration            id  \n",
              "count                 14990.000000           14990.000000  14990.000000  \n",
              "mean                     10.571181               9.734556  11862.245430  \n",
              "std                       8.401508               5.194135   6812.720757  \n",
              "min                       0.000000               1.000000      2.000000  \n",
              "25%                       3.000000               5.000000   6139.500000  \n",
              "50%                       9.000000              10.000000  11763.500000  \n",
              "75%                      17.000000              14.000000  17398.000000  \n",
              "max                      35.000000              19.000000  25354.000000  "
            ],
            "text/html": [
              "\n",
              "  <div id=\"df-84743777-cc3f-4c69-bb8e-cbd2d93a0294\" class=\"colab-df-container\">\n",
              "    <div>\n",
              "<style scoped>\n",
              "    .dataframe tbody tr th:only-of-type {\n",
              "        vertical-align: middle;\n",
              "    }\n",
              "\n",
              "    .dataframe tbody tr th {\n",
              "        vertical-align: top;\n",
              "    }\n",
              "\n",
              "    .dataframe thead th {\n",
              "        text-align: right;\n",
              "    }\n",
              "</style>\n",
              "<table border=\"1\" class=\"dataframe\">\n",
              "  <thead>\n",
              "    <tr style=\"text-align: right;\">\n",
              "      <th></th>\n",
              "      <th>income</th>\n",
              "      <th>data_overage_mb</th>\n",
              "      <th>data_leftover_mb</th>\n",
              "      <th>data_mb_used</th>\n",
              "      <th>text_message_count</th>\n",
              "      <th>house</th>\n",
              "      <th>handset_price</th>\n",
              "      <th>over_15mins_calls_per_month</th>\n",
              "      <th>average_call_duration</th>\n",
              "      <th>id</th>\n",
              "    </tr>\n",
              "  </thead>\n",
              "  <tbody>\n",
              "    <tr>\n",
              "      <th>count</th>\n",
              "      <td>14990.000000</td>\n",
              "      <td>14990.000000</td>\n",
              "      <td>14990.000000</td>\n",
              "      <td>14990.000000</td>\n",
              "      <td>14990.000000</td>\n",
              "      <td>1.499000e+04</td>\n",
              "      <td>14990.000000</td>\n",
              "      <td>14990.000000</td>\n",
              "      <td>14990.000000</td>\n",
              "      <td>14990.000000</td>\n",
              "    </tr>\n",
              "    <tr>\n",
              "      <th>mean</th>\n",
              "      <td>242051.833689</td>\n",
              "      <td>153.593996</td>\n",
              "      <td>37.526217</td>\n",
              "      <td>4203.088192</td>\n",
              "      <td>135.629286</td>\n",
              "      <td>8.772144e+05</td>\n",
              "      <td>780.669446</td>\n",
              "      <td>10.571181</td>\n",
              "      <td>9.734556</td>\n",
              "      <td>11862.245430</td>\n",
              "    </tr>\n",
              "    <tr>\n",
              "      <th>std</th>\n",
              "      <td>109550.800640</td>\n",
              "      <td>112.996435</td>\n",
              "      <td>28.043476</td>\n",
              "      <td>2202.621977</td>\n",
              "      <td>48.837706</td>\n",
              "      <td>2.869092e+05</td>\n",
              "      <td>326.560845</td>\n",
              "      <td>8.401508</td>\n",
              "      <td>5.194135</td>\n",
              "      <td>6812.720757</td>\n",
              "    </tr>\n",
              "    <tr>\n",
              "      <th>min</th>\n",
              "      <td>52491.000000</td>\n",
              "      <td>0.000000</td>\n",
              "      <td>0.000000</td>\n",
              "      <td>400.000000</td>\n",
              "      <td>52.000000</td>\n",
              "      <td>3.200010e+05</td>\n",
              "      <td>215.000000</td>\n",
              "      <td>0.000000</td>\n",
              "      <td>1.000000</td>\n",
              "      <td>2.000000</td>\n",
              "    </tr>\n",
              "    <tr>\n",
              "      <th>25%</th>\n",
              "      <td>147917.250000</td>\n",
              "      <td>54.000000</td>\n",
              "      <td>12.000000</td>\n",
              "      <td>2297.250000</td>\n",
              "      <td>93.000000</td>\n",
              "      <td>6.446280e+05</td>\n",
              "      <td>498.000000</td>\n",
              "      <td>3.000000</td>\n",
              "      <td>5.000000</td>\n",
              "      <td>6139.500000</td>\n",
              "    </tr>\n",
              "    <tr>\n",
              "      <th>50%</th>\n",
              "      <td>241663.000000</td>\n",
              "      <td>151.000000</td>\n",
              "      <td>35.000000</td>\n",
              "      <td>4224.500000</td>\n",
              "      <td>135.000000</td>\n",
              "      <td>8.764390e+05</td>\n",
              "      <td>778.000000</td>\n",
              "      <td>9.000000</td>\n",
              "      <td>10.000000</td>\n",
              "      <td>11763.500000</td>\n",
              "    </tr>\n",
              "    <tr>\n",
              "      <th>75%</th>\n",
              "      <td>336483.500000</td>\n",
              "      <td>242.000000</td>\n",
              "      <td>62.000000</td>\n",
              "      <td>6080.000000</td>\n",
              "      <td>178.000000</td>\n",
              "      <td>1.098814e+06</td>\n",
              "      <td>1063.750000</td>\n",
              "      <td>17.000000</td>\n",
              "      <td>14.000000</td>\n",
              "      <td>17398.000000</td>\n",
              "    </tr>\n",
              "    <tr>\n",
              "      <th>max</th>\n",
              "      <td>432000.000000</td>\n",
              "      <td>380.000000</td>\n",
              "      <td>89.000000</td>\n",
              "      <td>8000.000000</td>\n",
              "      <td>220.000000</td>\n",
              "      <td>1.456389e+06</td>\n",
              "      <td>1350.000000</td>\n",
              "      <td>35.000000</td>\n",
              "      <td>19.000000</td>\n",
              "      <td>25354.000000</td>\n",
              "    </tr>\n",
              "  </tbody>\n",
              "</table>\n",
              "</div>\n",
              "    <div class=\"colab-df-buttons\">\n",
              "\n",
              "  <div class=\"colab-df-container\">\n",
              "    <button class=\"colab-df-convert\" onclick=\"convertToInteractive('df-84743777-cc3f-4c69-bb8e-cbd2d93a0294')\"\n",
              "            title=\"Convert this dataframe to an interactive table.\"\n",
              "            style=\"display:none;\">\n",
              "\n",
              "  <svg xmlns=\"http://www.w3.org/2000/svg\" height=\"24px\" viewBox=\"0 -960 960 960\">\n",
              "    <path d=\"M120-120v-720h720v720H120Zm60-500h600v-160H180v160Zm220 220h160v-160H400v160Zm0 220h160v-160H400v160ZM180-400h160v-160H180v160Zm440 0h160v-160H620v160ZM180-180h160v-160H180v160Zm440 0h160v-160H620v160Z\"/>\n",
              "  </svg>\n",
              "    </button>\n",
              "\n",
              "  <style>\n",
              "    .colab-df-container {\n",
              "      display:flex;\n",
              "      gap: 12px;\n",
              "    }\n",
              "\n",
              "    .colab-df-convert {\n",
              "      background-color: #E8F0FE;\n",
              "      border: none;\n",
              "      border-radius: 50%;\n",
              "      cursor: pointer;\n",
              "      display: none;\n",
              "      fill: #1967D2;\n",
              "      height: 32px;\n",
              "      padding: 0 0 0 0;\n",
              "      width: 32px;\n",
              "    }\n",
              "\n",
              "    .colab-df-convert:hover {\n",
              "      background-color: #E2EBFA;\n",
              "      box-shadow: 0px 1px 2px rgba(60, 64, 67, 0.3), 0px 1px 3px 1px rgba(60, 64, 67, 0.15);\n",
              "      fill: #174EA6;\n",
              "    }\n",
              "\n",
              "    .colab-df-buttons div {\n",
              "      margin-bottom: 4px;\n",
              "    }\n",
              "\n",
              "    [theme=dark] .colab-df-convert {\n",
              "      background-color: #3B4455;\n",
              "      fill: #D2E3FC;\n",
              "    }\n",
              "\n",
              "    [theme=dark] .colab-df-convert:hover {\n",
              "      background-color: #434B5C;\n",
              "      box-shadow: 0px 1px 3px 1px rgba(0, 0, 0, 0.15);\n",
              "      filter: drop-shadow(0px 1px 2px rgba(0, 0, 0, 0.3));\n",
              "      fill: #FFFFFF;\n",
              "    }\n",
              "  </style>\n",
              "\n",
              "    <script>\n",
              "      const buttonEl =\n",
              "        document.querySelector('#df-84743777-cc3f-4c69-bb8e-cbd2d93a0294 button.colab-df-convert');\n",
              "      buttonEl.style.display =\n",
              "        google.colab.kernel.accessAllowed ? 'block' : 'none';\n",
              "\n",
              "      async function convertToInteractive(key) {\n",
              "        const element = document.querySelector('#df-84743777-cc3f-4c69-bb8e-cbd2d93a0294');\n",
              "        const dataTable =\n",
              "          await google.colab.kernel.invokeFunction('convertToInteractive',\n",
              "                                                    [key], {});\n",
              "        if (!dataTable) return;\n",
              "\n",
              "        const docLinkHtml = 'Like what you see? Visit the ' +\n",
              "          '<a target=\"_blank\" href=https://colab.research.google.com/notebooks/data_table.ipynb>data table notebook</a>'\n",
              "          + ' to learn more about interactive tables.';\n",
              "        element.innerHTML = '';\n",
              "        dataTable['output_type'] = 'display_data';\n",
              "        await google.colab.output.renderOutput(dataTable, element);\n",
              "        const docLink = document.createElement('div');\n",
              "        docLink.innerHTML = docLinkHtml;\n",
              "        element.appendChild(docLink);\n",
              "      }\n",
              "    </script>\n",
              "  </div>\n",
              "\n",
              "\n",
              "<div id=\"df-d0d67e20-7a15-4f87-9c44-9eb1dcead29b\">\n",
              "  <button class=\"colab-df-quickchart\" onclick=\"quickchart('df-d0d67e20-7a15-4f87-9c44-9eb1dcead29b')\"\n",
              "            title=\"Suggest charts\"\n",
              "            style=\"display:none;\">\n",
              "\n",
              "<svg xmlns=\"http://www.w3.org/2000/svg\" height=\"24px\"viewBox=\"0 0 24 24\"\n",
              "     width=\"24px\">\n",
              "    <g>\n",
              "        <path d=\"M19 3H5c-1.1 0-2 .9-2 2v14c0 1.1.9 2 2 2h14c1.1 0 2-.9 2-2V5c0-1.1-.9-2-2-2zM9 17H7v-7h2v7zm4 0h-2V7h2v10zm4 0h-2v-4h2v4z\"/>\n",
              "    </g>\n",
              "</svg>\n",
              "  </button>\n",
              "\n",
              "<style>\n",
              "  .colab-df-quickchart {\n",
              "      --bg-color: #E8F0FE;\n",
              "      --fill-color: #1967D2;\n",
              "      --hover-bg-color: #E2EBFA;\n",
              "      --hover-fill-color: #174EA6;\n",
              "      --disabled-fill-color: #AAA;\n",
              "      --disabled-bg-color: #DDD;\n",
              "  }\n",
              "\n",
              "  [theme=dark] .colab-df-quickchart {\n",
              "      --bg-color: #3B4455;\n",
              "      --fill-color: #D2E3FC;\n",
              "      --hover-bg-color: #434B5C;\n",
              "      --hover-fill-color: #FFFFFF;\n",
              "      --disabled-bg-color: #3B4455;\n",
              "      --disabled-fill-color: #666;\n",
              "  }\n",
              "\n",
              "  .colab-df-quickchart {\n",
              "    background-color: var(--bg-color);\n",
              "    border: none;\n",
              "    border-radius: 50%;\n",
              "    cursor: pointer;\n",
              "    display: none;\n",
              "    fill: var(--fill-color);\n",
              "    height: 32px;\n",
              "    padding: 0;\n",
              "    width: 32px;\n",
              "  }\n",
              "\n",
              "  .colab-df-quickchart:hover {\n",
              "    background-color: var(--hover-bg-color);\n",
              "    box-shadow: 0 1px 2px rgba(60, 64, 67, 0.3), 0 1px 3px 1px rgba(60, 64, 67, 0.15);\n",
              "    fill: var(--button-hover-fill-color);\n",
              "  }\n",
              "\n",
              "  .colab-df-quickchart-complete:disabled,\n",
              "  .colab-df-quickchart-complete:disabled:hover {\n",
              "    background-color: var(--disabled-bg-color);\n",
              "    fill: var(--disabled-fill-color);\n",
              "    box-shadow: none;\n",
              "  }\n",
              "\n",
              "  .colab-df-spinner {\n",
              "    border: 2px solid var(--fill-color);\n",
              "    border-color: transparent;\n",
              "    border-bottom-color: var(--fill-color);\n",
              "    animation:\n",
              "      spin 1s steps(1) infinite;\n",
              "  }\n",
              "\n",
              "  @keyframes spin {\n",
              "    0% {\n",
              "      border-color: transparent;\n",
              "      border-bottom-color: var(--fill-color);\n",
              "      border-left-color: var(--fill-color);\n",
              "    }\n",
              "    20% {\n",
              "      border-color: transparent;\n",
              "      border-left-color: var(--fill-color);\n",
              "      border-top-color: var(--fill-color);\n",
              "    }\n",
              "    30% {\n",
              "      border-color: transparent;\n",
              "      border-left-color: var(--fill-color);\n",
              "      border-top-color: var(--fill-color);\n",
              "      border-right-color: var(--fill-color);\n",
              "    }\n",
              "    40% {\n",
              "      border-color: transparent;\n",
              "      border-right-color: var(--fill-color);\n",
              "      border-top-color: var(--fill-color);\n",
              "    }\n",
              "    60% {\n",
              "      border-color: transparent;\n",
              "      border-right-color: var(--fill-color);\n",
              "    }\n",
              "    80% {\n",
              "      border-color: transparent;\n",
              "      border-right-color: var(--fill-color);\n",
              "      border-bottom-color: var(--fill-color);\n",
              "    }\n",
              "    90% {\n",
              "      border-color: transparent;\n",
              "      border-bottom-color: var(--fill-color);\n",
              "    }\n",
              "  }\n",
              "</style>\n",
              "\n",
              "  <script>\n",
              "    async function quickchart(key) {\n",
              "      const quickchartButtonEl =\n",
              "        document.querySelector('#' + key + ' button');\n",
              "      quickchartButtonEl.disabled = true;  // To prevent multiple clicks.\n",
              "      quickchartButtonEl.classList.add('colab-df-spinner');\n",
              "      try {\n",
              "        const charts = await google.colab.kernel.invokeFunction(\n",
              "            'suggestCharts', [key], {});\n",
              "      } catch (error) {\n",
              "        console.error('Error during call to suggestCharts:', error);\n",
              "      }\n",
              "      quickchartButtonEl.classList.remove('colab-df-spinner');\n",
              "      quickchartButtonEl.classList.add('colab-df-quickchart-complete');\n",
              "    }\n",
              "    (() => {\n",
              "      let quickchartButtonEl =\n",
              "        document.querySelector('#df-d0d67e20-7a15-4f87-9c44-9eb1dcead29b button');\n",
              "      quickchartButtonEl.style.display =\n",
              "        google.colab.kernel.accessAllowed ? 'block' : 'none';\n",
              "    })();\n",
              "  </script>\n",
              "</div>\n",
              "\n",
              "    </div>\n",
              "  </div>\n"
            ],
            "application/vnd.google.colaboratory.intrinsic+json": {
              "type": "dataframe",
              "summary": "{\n  \"name\": \"df_clean\",\n  \"rows\": 8,\n  \"fields\": [\n    {\n      \"column\": \"income\",\n      \"properties\": {\n        \"dtype\": \"number\",\n        \"std\": 142814.51681706047,\n        \"min\": 14990.0,\n        \"max\": 432000.0,\n        \"num_unique_values\": 8,\n        \"samples\": [\n          242051.83368912607,\n          241663.0,\n          14990.0\n        ],\n        \"semantic_type\": \"\",\n        \"description\": \"\"\n      }\n    },\n    {\n      \"column\": \"data_overage_mb\",\n      \"properties\": {\n        \"dtype\": \"number\",\n        \"std\": 5245.8133669726385,\n        \"min\": 0.0,\n        \"max\": 14990.0,\n        \"num_unique_values\": 8,\n        \"samples\": [\n          153.59399599733155,\n          151.0,\n          14990.0\n        ],\n        \"semantic_type\": \"\",\n        \"description\": \"\"\n      }\n    },\n    {\n      \"column\": \"data_leftover_mb\",\n      \"properties\": {\n        \"dtype\": \"number\",\n        \"std\": 5286.526068428058,\n        \"min\": 0.0,\n        \"max\": 14990.0,\n        \"num_unique_values\": 8,\n        \"samples\": [\n          37.52621747831888,\n          35.0,\n          14990.0\n        ],\n        \"semantic_type\": \"\",\n        \"description\": \"\"\n      }\n    },\n    {\n      \"column\": \"data_mb_used\",\n      \"properties\": {\n        \"dtype\": \"number\",\n        \"std\": 4579.062180042049,\n        \"min\": 400.0,\n        \"max\": 14990.0,\n        \"num_unique_values\": 8,\n        \"samples\": [\n          4203.088192128085,\n          4224.5,\n          14990.0\n        ],\n        \"semantic_type\": \"\",\n        \"description\": \"\"\n      }\n    },\n    {\n      \"column\": \"text_message_count\",\n      \"properties\": {\n        \"dtype\": \"number\",\n        \"std\": 5256.532720699763,\n        \"min\": 48.83770625274057,\n        \"max\": 14990.0,\n        \"num_unique_values\": 8,\n        \"samples\": [\n          135.62928619079386,\n          135.0,\n          14990.0\n        ],\n        \"semantic_type\": \"\",\n        \"description\": \"\"\n      }\n    },\n    {\n      \"column\": \"house\",\n      \"properties\": {\n        \"dtype\": \"number\",\n        \"std\": 475242.05590011255,\n        \"min\": 14990.0,\n        \"max\": 1456389.0,\n        \"num_unique_values\": 8,\n        \"samples\": [\n          877214.3555703802,\n          876439.0,\n          14990.0\n        ],\n        \"semantic_type\": \"\",\n        \"description\": \"\"\n      }\n    },\n    {\n      \"column\": \"handset_price\",\n      \"properties\": {\n        \"dtype\": \"number\",\n        \"std\": 5060.489274532753,\n        \"min\": 215.0,\n        \"max\": 14990.0,\n        \"num_unique_values\": 8,\n        \"samples\": [\n          780.6694462975316,\n          778.0,\n          14990.0\n        ],\n        \"semantic_type\": \"\",\n        \"description\": \"\"\n      }\n    },\n    {\n      \"column\": \"over_15mins_calls_per_month\",\n      \"properties\": {\n        \"dtype\": \"number\",\n        \"std\": 5295.5854003459135,\n        \"min\": 0.0,\n        \"max\": 14990.0,\n        \"num_unique_values\": 8,\n        \"samples\": [\n          10.57118078719146,\n          9.0,\n          14990.0\n        ],\n        \"semantic_type\": \"\",\n        \"description\": \"\"\n      }\n    },\n    {\n      \"column\": \"average_call_duration\",\n      \"properties\": {\n        \"dtype\": \"number\",\n        \"std\": 5296.53941753048,\n        \"min\": 1.0,\n        \"max\": 14990.0,\n        \"num_unique_values\": 8,\n        \"samples\": [\n          9.734556370913943,\n          10.0,\n          14990.0\n        ],\n        \"semantic_type\": \"\",\n        \"description\": \"\"\n      }\n    },\n    {\n      \"column\": \"id\",\n      \"properties\": {\n        \"dtype\": \"number\",\n        \"std\": 7758.277460561038,\n        \"min\": 2.0,\n        \"max\": 25354.0,\n        \"num_unique_values\": 8,\n        \"samples\": [\n          11862.245430286857,\n          11763.5,\n          14990.0\n        ],\n        \"semantic_type\": \"\",\n        \"description\": \"\"\n      }\n    }\n  ]\n}"
            }
          },
          "metadata": {},
          "execution_count": 10
        }
      ],
      "source": [
        "#delete rows with outlier data; put it in a new dataframe\n",
        "df_clean = df[(df['house'] > 0) & (df['income'] > 0) & (df['handset_price'] < 10000)]\n",
        "\n",
        "#delete any rows with missing values in the clean dataframe\n",
        "df_clean = df_clean.dropna()\n",
        "\n",
        "df_clean.describe()"
      ]
    },
    {
      "cell_type": "markdown",
      "metadata": {
        "id": "Zp7wGDqJ4iuL"
      },
      "source": [
        "# Standardize attributes\n",
        "\n",
        "- Convert the \"college\" and \"considering_change_of_plan\" attributes to 0 or 1\n",
        "- Convert non-numeric attributes to numeric scale of 1-3\n"
      ]
    },
    {
      "cell_type": "code",
      "execution_count": 11,
      "metadata": {
        "id": "xNDR1xg5dVzm",
        "outputId": "d490fb93-d3a4-453b-aff1-108f1bef0538",
        "colab": {
          "base_uri": "https://localhost:8080/"
        }
      },
      "outputs": [
        {
          "output_type": "execute_result",
          "data": {
            "text/plain": [
              "array(['one', 'zero'], dtype=object)"
            ]
          },
          "metadata": {},
          "execution_count": 11
        }
      ],
      "source": [
        "#Get distinct values\n",
        "df_clean['college'].unique()"
      ]
    },
    {
      "cell_type": "code",
      "execution_count": 12,
      "metadata": {
        "id": "cw6i_45td0JC",
        "outputId": "837277da-2125-418c-bf44-cb39d07cf7dd",
        "colab": {
          "base_uri": "https://localhost:8080/"
        }
      },
      "outputs": [
        {
          "output_type": "execute_result",
          "data": {
            "text/plain": [
              "array(['low', 'high', 'avg'], dtype=object)"
            ]
          },
          "metadata": {},
          "execution_count": 12
        }
      ],
      "source": [
        "df_clean['reported_satisfaction'] .unique()"
      ]
    },
    {
      "cell_type": "code",
      "execution_count": 13,
      "metadata": {
        "id": "YhFAu2W4dz_6",
        "outputId": "3ddac13c-f9b0-4955-e645-4c8041531c52",
        "colab": {
          "base_uri": "https://localhost:8080/"
        }
      },
      "outputs": [
        {
          "output_type": "execute_result",
          "data": {
            "text/plain": [
              "array(['low', 'high', 'avg'], dtype=object)"
            ]
          },
          "metadata": {},
          "execution_count": 13
        }
      ],
      "source": [
        "df_clean['reported_usage_level'].unique()"
      ]
    },
    {
      "cell_type": "code",
      "execution_count": 14,
      "metadata": {
        "id": "rmJbiN8rdzxJ",
        "outputId": "67e2d423-69ec-4e1e-dbe5-1b9b14fa9626",
        "colab": {
          "base_uri": "https://localhost:8080/"
        }
      },
      "outputs": [
        {
          "output_type": "execute_result",
          "data": {
            "text/plain": [
              "array(['yes', 'no', 'maybe'], dtype=object)"
            ]
          },
          "metadata": {},
          "execution_count": 14
        }
      ],
      "source": [
        "df_clean['considering_change_of_plan'].unique()"
      ]
    },
    {
      "cell_type": "code",
      "execution_count": 15,
      "metadata": {
        "id": "gvMekcKg4y5X",
        "outputId": "8ca72c32-1c02-4c0d-a134-35885ba906d5",
        "colab": {
          "base_uri": "https://localhost:8080/",
          "height": 383
        }
      },
      "outputs": [
        {
          "output_type": "execute_result",
          "data": {
            "text/plain": [
              "  college  income  data_overage_mb  data_leftover_mb  data_mb_used  \\\n",
              "0       1  403137               70                 0          6605   \n",
              "1       0  129700               67                16          6028   \n",
              "2       0   69741               60                 0          1482   \n",
              "3       1  377572                0                22          3005   \n",
              "4       0  382080                0                 0          1794   \n",
              "5       0  309746                0                56          2675   \n",
              "6       1  325592               79                24          7300   \n",
              "7       1  131230                0                 0          4489   \n",
              "8       1  193667                0                 0          1023   \n",
              "9       1  419573                0                74          4631   \n",
              "\n",
              "   text_message_count    house  handset_price  over_15mins_calls_per_month  \\\n",
              "0                 199   841317            653                          5.0   \n",
              "1                 134   476664           1193                          5.0   \n",
              "2                 176   810225           1037                          3.0   \n",
              "3                 184   826967           1161                          0.0   \n",
              "4                  74   951896           1023                          0.0   \n",
              "5                  81  1272862           1200                          5.0   \n",
              "6                 190   472330           1083                          5.0   \n",
              "7                  89   613744            365                          5.0   \n",
              "8                  76   949829            347                          1.0   \n",
              "9                 209   818027            640                          0.0   \n",
              "\n",
              "   average_call_duration reported_satisfaction reported_usage_level  \\\n",
              "0                      8                     1                    1   \n",
              "1                      5                     1                    1   \n",
              "2                      8                     1                    1   \n",
              "3                      5                     1                    1   \n",
              "4                     14                     1                    1   \n",
              "5                      1                     1                    3   \n",
              "6                      6                     1                    2   \n",
              "7                     10                     1                    3   \n",
              "8                      8                     3                    1   \n",
              "9                      2                     1                    1   \n",
              "\n",
              "  considering_change_of_plan  leave     id operating_system  \n",
              "0                          1  LEAVE   8183          Android  \n",
              "1                          1  LEAVE  12501              IOS  \n",
              "2                          1   STAY   7425              IOS  \n",
              "3                          0  LEAVE  13488              IOS  \n",
              "4                          1   STAY  11389              IOS  \n",
              "5                          1   STAY  14674              IOS  \n",
              "6                          1  LEAVE  19100              IOS  \n",
              "7                          1   STAY  18170          Android  \n",
              "8                          0  LEAVE   3201          Android  \n",
              "9                          1  LEAVE  12612          Android  "
            ],
            "text/html": [
              "\n",
              "  <div id=\"df-5d6e4306-e706-40cd-ad2e-5b9f32c0cf8b\" class=\"colab-df-container\">\n",
              "    <div>\n",
              "<style scoped>\n",
              "    .dataframe tbody tr th:only-of-type {\n",
              "        vertical-align: middle;\n",
              "    }\n",
              "\n",
              "    .dataframe tbody tr th {\n",
              "        vertical-align: top;\n",
              "    }\n",
              "\n",
              "    .dataframe thead th {\n",
              "        text-align: right;\n",
              "    }\n",
              "</style>\n",
              "<table border=\"1\" class=\"dataframe\">\n",
              "  <thead>\n",
              "    <tr style=\"text-align: right;\">\n",
              "      <th></th>\n",
              "      <th>college</th>\n",
              "      <th>income</th>\n",
              "      <th>data_overage_mb</th>\n",
              "      <th>data_leftover_mb</th>\n",
              "      <th>data_mb_used</th>\n",
              "      <th>text_message_count</th>\n",
              "      <th>house</th>\n",
              "      <th>handset_price</th>\n",
              "      <th>over_15mins_calls_per_month</th>\n",
              "      <th>average_call_duration</th>\n",
              "      <th>reported_satisfaction</th>\n",
              "      <th>reported_usage_level</th>\n",
              "      <th>considering_change_of_plan</th>\n",
              "      <th>leave</th>\n",
              "      <th>id</th>\n",
              "      <th>operating_system</th>\n",
              "    </tr>\n",
              "  </thead>\n",
              "  <tbody>\n",
              "    <tr>\n",
              "      <th>0</th>\n",
              "      <td>1</td>\n",
              "      <td>403137</td>\n",
              "      <td>70</td>\n",
              "      <td>0</td>\n",
              "      <td>6605</td>\n",
              "      <td>199</td>\n",
              "      <td>841317</td>\n",
              "      <td>653</td>\n",
              "      <td>5.0</td>\n",
              "      <td>8</td>\n",
              "      <td>1</td>\n",
              "      <td>1</td>\n",
              "      <td>1</td>\n",
              "      <td>LEAVE</td>\n",
              "      <td>8183</td>\n",
              "      <td>Android</td>\n",
              "    </tr>\n",
              "    <tr>\n",
              "      <th>1</th>\n",
              "      <td>0</td>\n",
              "      <td>129700</td>\n",
              "      <td>67</td>\n",
              "      <td>16</td>\n",
              "      <td>6028</td>\n",
              "      <td>134</td>\n",
              "      <td>476664</td>\n",
              "      <td>1193</td>\n",
              "      <td>5.0</td>\n",
              "      <td>5</td>\n",
              "      <td>1</td>\n",
              "      <td>1</td>\n",
              "      <td>1</td>\n",
              "      <td>LEAVE</td>\n",
              "      <td>12501</td>\n",
              "      <td>IOS</td>\n",
              "    </tr>\n",
              "    <tr>\n",
              "      <th>2</th>\n",
              "      <td>0</td>\n",
              "      <td>69741</td>\n",
              "      <td>60</td>\n",
              "      <td>0</td>\n",
              "      <td>1482</td>\n",
              "      <td>176</td>\n",
              "      <td>810225</td>\n",
              "      <td>1037</td>\n",
              "      <td>3.0</td>\n",
              "      <td>8</td>\n",
              "      <td>1</td>\n",
              "      <td>1</td>\n",
              "      <td>1</td>\n",
              "      <td>STAY</td>\n",
              "      <td>7425</td>\n",
              "      <td>IOS</td>\n",
              "    </tr>\n",
              "    <tr>\n",
              "      <th>3</th>\n",
              "      <td>1</td>\n",
              "      <td>377572</td>\n",
              "      <td>0</td>\n",
              "      <td>22</td>\n",
              "      <td>3005</td>\n",
              "      <td>184</td>\n",
              "      <td>826967</td>\n",
              "      <td>1161</td>\n",
              "      <td>0.0</td>\n",
              "      <td>5</td>\n",
              "      <td>1</td>\n",
              "      <td>1</td>\n",
              "      <td>0</td>\n",
              "      <td>LEAVE</td>\n",
              "      <td>13488</td>\n",
              "      <td>IOS</td>\n",
              "    </tr>\n",
              "    <tr>\n",
              "      <th>4</th>\n",
              "      <td>0</td>\n",
              "      <td>382080</td>\n",
              "      <td>0</td>\n",
              "      <td>0</td>\n",
              "      <td>1794</td>\n",
              "      <td>74</td>\n",
              "      <td>951896</td>\n",
              "      <td>1023</td>\n",
              "      <td>0.0</td>\n",
              "      <td>14</td>\n",
              "      <td>1</td>\n",
              "      <td>1</td>\n",
              "      <td>1</td>\n",
              "      <td>STAY</td>\n",
              "      <td>11389</td>\n",
              "      <td>IOS</td>\n",
              "    </tr>\n",
              "    <tr>\n",
              "      <th>5</th>\n",
              "      <td>0</td>\n",
              "      <td>309746</td>\n",
              "      <td>0</td>\n",
              "      <td>56</td>\n",
              "      <td>2675</td>\n",
              "      <td>81</td>\n",
              "      <td>1272862</td>\n",
              "      <td>1200</td>\n",
              "      <td>5.0</td>\n",
              "      <td>1</td>\n",
              "      <td>1</td>\n",
              "      <td>3</td>\n",
              "      <td>1</td>\n",
              "      <td>STAY</td>\n",
              "      <td>14674</td>\n",
              "      <td>IOS</td>\n",
              "    </tr>\n",
              "    <tr>\n",
              "      <th>6</th>\n",
              "      <td>1</td>\n",
              "      <td>325592</td>\n",
              "      <td>79</td>\n",
              "      <td>24</td>\n",
              "      <td>7300</td>\n",
              "      <td>190</td>\n",
              "      <td>472330</td>\n",
              "      <td>1083</td>\n",
              "      <td>5.0</td>\n",
              "      <td>6</td>\n",
              "      <td>1</td>\n",
              "      <td>2</td>\n",
              "      <td>1</td>\n",
              "      <td>LEAVE</td>\n",
              "      <td>19100</td>\n",
              "      <td>IOS</td>\n",
              "    </tr>\n",
              "    <tr>\n",
              "      <th>7</th>\n",
              "      <td>1</td>\n",
              "      <td>131230</td>\n",
              "      <td>0</td>\n",
              "      <td>0</td>\n",
              "      <td>4489</td>\n",
              "      <td>89</td>\n",
              "      <td>613744</td>\n",
              "      <td>365</td>\n",
              "      <td>5.0</td>\n",
              "      <td>10</td>\n",
              "      <td>1</td>\n",
              "      <td>3</td>\n",
              "      <td>1</td>\n",
              "      <td>STAY</td>\n",
              "      <td>18170</td>\n",
              "      <td>Android</td>\n",
              "    </tr>\n",
              "    <tr>\n",
              "      <th>8</th>\n",
              "      <td>1</td>\n",
              "      <td>193667</td>\n",
              "      <td>0</td>\n",
              "      <td>0</td>\n",
              "      <td>1023</td>\n",
              "      <td>76</td>\n",
              "      <td>949829</td>\n",
              "      <td>347</td>\n",
              "      <td>1.0</td>\n",
              "      <td>8</td>\n",
              "      <td>3</td>\n",
              "      <td>1</td>\n",
              "      <td>0</td>\n",
              "      <td>LEAVE</td>\n",
              "      <td>3201</td>\n",
              "      <td>Android</td>\n",
              "    </tr>\n",
              "    <tr>\n",
              "      <th>9</th>\n",
              "      <td>1</td>\n",
              "      <td>419573</td>\n",
              "      <td>0</td>\n",
              "      <td>74</td>\n",
              "      <td>4631</td>\n",
              "      <td>209</td>\n",
              "      <td>818027</td>\n",
              "      <td>640</td>\n",
              "      <td>0.0</td>\n",
              "      <td>2</td>\n",
              "      <td>1</td>\n",
              "      <td>1</td>\n",
              "      <td>1</td>\n",
              "      <td>LEAVE</td>\n",
              "      <td>12612</td>\n",
              "      <td>Android</td>\n",
              "    </tr>\n",
              "  </tbody>\n",
              "</table>\n",
              "</div>\n",
              "    <div class=\"colab-df-buttons\">\n",
              "\n",
              "  <div class=\"colab-df-container\">\n",
              "    <button class=\"colab-df-convert\" onclick=\"convertToInteractive('df-5d6e4306-e706-40cd-ad2e-5b9f32c0cf8b')\"\n",
              "            title=\"Convert this dataframe to an interactive table.\"\n",
              "            style=\"display:none;\">\n",
              "\n",
              "  <svg xmlns=\"http://www.w3.org/2000/svg\" height=\"24px\" viewBox=\"0 -960 960 960\">\n",
              "    <path d=\"M120-120v-720h720v720H120Zm60-500h600v-160H180v160Zm220 220h160v-160H400v160Zm0 220h160v-160H400v160ZM180-400h160v-160H180v160Zm440 0h160v-160H620v160ZM180-180h160v-160H180v160Zm440 0h160v-160H620v160Z\"/>\n",
              "  </svg>\n",
              "    </button>\n",
              "\n",
              "  <style>\n",
              "    .colab-df-container {\n",
              "      display:flex;\n",
              "      gap: 12px;\n",
              "    }\n",
              "\n",
              "    .colab-df-convert {\n",
              "      background-color: #E8F0FE;\n",
              "      border: none;\n",
              "      border-radius: 50%;\n",
              "      cursor: pointer;\n",
              "      display: none;\n",
              "      fill: #1967D2;\n",
              "      height: 32px;\n",
              "      padding: 0 0 0 0;\n",
              "      width: 32px;\n",
              "    }\n",
              "\n",
              "    .colab-df-convert:hover {\n",
              "      background-color: #E2EBFA;\n",
              "      box-shadow: 0px 1px 2px rgba(60, 64, 67, 0.3), 0px 1px 3px 1px rgba(60, 64, 67, 0.15);\n",
              "      fill: #174EA6;\n",
              "    }\n",
              "\n",
              "    .colab-df-buttons div {\n",
              "      margin-bottom: 4px;\n",
              "    }\n",
              "\n",
              "    [theme=dark] .colab-df-convert {\n",
              "      background-color: #3B4455;\n",
              "      fill: #D2E3FC;\n",
              "    }\n",
              "\n",
              "    [theme=dark] .colab-df-convert:hover {\n",
              "      background-color: #434B5C;\n",
              "      box-shadow: 0px 1px 3px 1px rgba(0, 0, 0, 0.15);\n",
              "      filter: drop-shadow(0px 1px 2px rgba(0, 0, 0, 0.3));\n",
              "      fill: #FFFFFF;\n",
              "    }\n",
              "  </style>\n",
              "\n",
              "    <script>\n",
              "      const buttonEl =\n",
              "        document.querySelector('#df-5d6e4306-e706-40cd-ad2e-5b9f32c0cf8b button.colab-df-convert');\n",
              "      buttonEl.style.display =\n",
              "        google.colab.kernel.accessAllowed ? 'block' : 'none';\n",
              "\n",
              "      async function convertToInteractive(key) {\n",
              "        const element = document.querySelector('#df-5d6e4306-e706-40cd-ad2e-5b9f32c0cf8b');\n",
              "        const dataTable =\n",
              "          await google.colab.kernel.invokeFunction('convertToInteractive',\n",
              "                                                    [key], {});\n",
              "        if (!dataTable) return;\n",
              "\n",
              "        const docLinkHtml = 'Like what you see? Visit the ' +\n",
              "          '<a target=\"_blank\" href=https://colab.research.google.com/notebooks/data_table.ipynb>data table notebook</a>'\n",
              "          + ' to learn more about interactive tables.';\n",
              "        element.innerHTML = '';\n",
              "        dataTable['output_type'] = 'display_data';\n",
              "        await google.colab.output.renderOutput(dataTable, element);\n",
              "        const docLink = document.createElement('div');\n",
              "        docLink.innerHTML = docLinkHtml;\n",
              "        element.appendChild(docLink);\n",
              "      }\n",
              "    </script>\n",
              "  </div>\n",
              "\n",
              "\n",
              "<div id=\"df-746187a2-e50c-40d1-b791-c394d81f2122\">\n",
              "  <button class=\"colab-df-quickchart\" onclick=\"quickchart('df-746187a2-e50c-40d1-b791-c394d81f2122')\"\n",
              "            title=\"Suggest charts\"\n",
              "            style=\"display:none;\">\n",
              "\n",
              "<svg xmlns=\"http://www.w3.org/2000/svg\" height=\"24px\"viewBox=\"0 0 24 24\"\n",
              "     width=\"24px\">\n",
              "    <g>\n",
              "        <path d=\"M19 3H5c-1.1 0-2 .9-2 2v14c0 1.1.9 2 2 2h14c1.1 0 2-.9 2-2V5c0-1.1-.9-2-2-2zM9 17H7v-7h2v7zm4 0h-2V7h2v10zm4 0h-2v-4h2v4z\"/>\n",
              "    </g>\n",
              "</svg>\n",
              "  </button>\n",
              "\n",
              "<style>\n",
              "  .colab-df-quickchart {\n",
              "      --bg-color: #E8F0FE;\n",
              "      --fill-color: #1967D2;\n",
              "      --hover-bg-color: #E2EBFA;\n",
              "      --hover-fill-color: #174EA6;\n",
              "      --disabled-fill-color: #AAA;\n",
              "      --disabled-bg-color: #DDD;\n",
              "  }\n",
              "\n",
              "  [theme=dark] .colab-df-quickchart {\n",
              "      --bg-color: #3B4455;\n",
              "      --fill-color: #D2E3FC;\n",
              "      --hover-bg-color: #434B5C;\n",
              "      --hover-fill-color: #FFFFFF;\n",
              "      --disabled-bg-color: #3B4455;\n",
              "      --disabled-fill-color: #666;\n",
              "  }\n",
              "\n",
              "  .colab-df-quickchart {\n",
              "    background-color: var(--bg-color);\n",
              "    border: none;\n",
              "    border-radius: 50%;\n",
              "    cursor: pointer;\n",
              "    display: none;\n",
              "    fill: var(--fill-color);\n",
              "    height: 32px;\n",
              "    padding: 0;\n",
              "    width: 32px;\n",
              "  }\n",
              "\n",
              "  .colab-df-quickchart:hover {\n",
              "    background-color: var(--hover-bg-color);\n",
              "    box-shadow: 0 1px 2px rgba(60, 64, 67, 0.3), 0 1px 3px 1px rgba(60, 64, 67, 0.15);\n",
              "    fill: var(--button-hover-fill-color);\n",
              "  }\n",
              "\n",
              "  .colab-df-quickchart-complete:disabled,\n",
              "  .colab-df-quickchart-complete:disabled:hover {\n",
              "    background-color: var(--disabled-bg-color);\n",
              "    fill: var(--disabled-fill-color);\n",
              "    box-shadow: none;\n",
              "  }\n",
              "\n",
              "  .colab-df-spinner {\n",
              "    border: 2px solid var(--fill-color);\n",
              "    border-color: transparent;\n",
              "    border-bottom-color: var(--fill-color);\n",
              "    animation:\n",
              "      spin 1s steps(1) infinite;\n",
              "  }\n",
              "\n",
              "  @keyframes spin {\n",
              "    0% {\n",
              "      border-color: transparent;\n",
              "      border-bottom-color: var(--fill-color);\n",
              "      border-left-color: var(--fill-color);\n",
              "    }\n",
              "    20% {\n",
              "      border-color: transparent;\n",
              "      border-left-color: var(--fill-color);\n",
              "      border-top-color: var(--fill-color);\n",
              "    }\n",
              "    30% {\n",
              "      border-color: transparent;\n",
              "      border-left-color: var(--fill-color);\n",
              "      border-top-color: var(--fill-color);\n",
              "      border-right-color: var(--fill-color);\n",
              "    }\n",
              "    40% {\n",
              "      border-color: transparent;\n",
              "      border-right-color: var(--fill-color);\n",
              "      border-top-color: var(--fill-color);\n",
              "    }\n",
              "    60% {\n",
              "      border-color: transparent;\n",
              "      border-right-color: var(--fill-color);\n",
              "    }\n",
              "    80% {\n",
              "      border-color: transparent;\n",
              "      border-right-color: var(--fill-color);\n",
              "      border-bottom-color: var(--fill-color);\n",
              "    }\n",
              "    90% {\n",
              "      border-color: transparent;\n",
              "      border-bottom-color: var(--fill-color);\n",
              "    }\n",
              "  }\n",
              "</style>\n",
              "\n",
              "  <script>\n",
              "    async function quickchart(key) {\n",
              "      const quickchartButtonEl =\n",
              "        document.querySelector('#' + key + ' button');\n",
              "      quickchartButtonEl.disabled = true;  // To prevent multiple clicks.\n",
              "      quickchartButtonEl.classList.add('colab-df-spinner');\n",
              "      try {\n",
              "        const charts = await google.colab.kernel.invokeFunction(\n",
              "            'suggestCharts', [key], {});\n",
              "      } catch (error) {\n",
              "        console.error('Error during call to suggestCharts:', error);\n",
              "      }\n",
              "      quickchartButtonEl.classList.remove('colab-df-spinner');\n",
              "      quickchartButtonEl.classList.add('colab-df-quickchart-complete');\n",
              "    }\n",
              "    (() => {\n",
              "      let quickchartButtonEl =\n",
              "        document.querySelector('#df-746187a2-e50c-40d1-b791-c394d81f2122 button');\n",
              "      quickchartButtonEl.style.display =\n",
              "        google.colab.kernel.accessAllowed ? 'block' : 'none';\n",
              "    })();\n",
              "  </script>\n",
              "</div>\n",
              "\n",
              "    </div>\n",
              "  </div>\n"
            ],
            "application/vnd.google.colaboratory.intrinsic+json": {
              "type": "dataframe",
              "variable_name": "df_clean",
              "summary": "{\n  \"name\": \"df_clean\",\n  \"rows\": 14990,\n  \"fields\": [\n    {\n      \"column\": \"college\",\n      \"properties\": {\n        \"dtype\": \"category\",\n        \"num_unique_values\": 2,\n        \"samples\": [\n          \"0\",\n          \"1\"\n        ],\n        \"semantic_type\": \"\",\n        \"description\": \"\"\n      }\n    },\n    {\n      \"column\": \"income\",\n      \"properties\": {\n        \"dtype\": \"number\",\n        \"std\": 109550,\n        \"min\": 52491,\n        \"max\": 432000,\n        \"num_unique_values\": 14716,\n        \"samples\": [\n          110512,\n          376470\n        ],\n        \"semantic_type\": \"\",\n        \"description\": \"\"\n      }\n    },\n    {\n      \"column\": \"data_overage_mb\",\n      \"properties\": {\n        \"dtype\": \"number\",\n        \"std\": 112,\n        \"min\": 0,\n        \"max\": 380,\n        \"num_unique_values\": 381,\n        \"samples\": [\n          294,\n          125\n        ],\n        \"semantic_type\": \"\",\n        \"description\": \"\"\n      }\n    },\n    {\n      \"column\": \"data_leftover_mb\",\n      \"properties\": {\n        \"dtype\": \"number\",\n        \"std\": 28,\n        \"min\": 0,\n        \"max\": 89,\n        \"num_unique_values\": 90,\n        \"samples\": [\n          80,\n          20\n        ],\n        \"semantic_type\": \"\",\n        \"description\": \"\"\n      }\n    },\n    {\n      \"column\": \"data_mb_used\",\n      \"properties\": {\n        \"dtype\": \"number\",\n        \"std\": 2202,\n        \"min\": 400,\n        \"max\": 8000,\n        \"num_unique_values\": 6516,\n        \"samples\": [\n          5390,\n          1694\n        ],\n        \"semantic_type\": \"\",\n        \"description\": \"\"\n      }\n    },\n    {\n      \"column\": \"text_message_count\",\n      \"properties\": {\n        \"dtype\": \"number\",\n        \"std\": 48,\n        \"min\": 52,\n        \"max\": 220,\n        \"num_unique_values\": 169,\n        \"samples\": [\n          168,\n          69\n        ],\n        \"semantic_type\": \"\",\n        \"description\": \"\"\n      }\n    },\n    {\n      \"column\": \"house\",\n      \"properties\": {\n        \"dtype\": \"number\",\n        \"std\": 286909,\n        \"min\": 320001,\n        \"max\": 1456389,\n        \"num_unique_values\": 14877,\n        \"samples\": [\n          1183914,\n          643293\n        ],\n        \"semantic_type\": \"\",\n        \"description\": \"\"\n      }\n    },\n    {\n      \"column\": \"handset_price\",\n      \"properties\": {\n        \"dtype\": \"number\",\n        \"std\": 326,\n        \"min\": 215,\n        \"max\": 1350,\n        \"num_unique_values\": 1136,\n        \"samples\": [\n          1137,\n          552\n        ],\n        \"semantic_type\": \"\",\n        \"description\": \"\"\n      }\n    },\n    {\n      \"column\": \"over_15mins_calls_per_month\",\n      \"properties\": {\n        \"dtype\": \"number\",\n        \"std\": 8.40150775658163,\n        \"min\": 0.0,\n        \"max\": 35.0,\n        \"num_unique_values\": 36,\n        \"samples\": [\n          30.0,\n          22.0\n        ],\n        \"semantic_type\": \"\",\n        \"description\": \"\"\n      }\n    },\n    {\n      \"column\": \"average_call_duration\",\n      \"properties\": {\n        \"dtype\": \"number\",\n        \"std\": 5,\n        \"min\": 1,\n        \"max\": 19,\n        \"num_unique_values\": 19,\n        \"samples\": [\n          8,\n          10\n        ],\n        \"semantic_type\": \"\",\n        \"description\": \"\"\n      }\n    },\n    {\n      \"column\": \"reported_satisfaction\",\n      \"properties\": {\n        \"dtype\": \"category\",\n        \"num_unique_values\": 3,\n        \"samples\": [\n          \"1\",\n          \"3\"\n        ],\n        \"semantic_type\": \"\",\n        \"description\": \"\"\n      }\n    },\n    {\n      \"column\": \"reported_usage_level\",\n      \"properties\": {\n        \"dtype\": \"category\",\n        \"num_unique_values\": 3,\n        \"samples\": [\n          \"1\",\n          \"3\"\n        ],\n        \"semantic_type\": \"\",\n        \"description\": \"\"\n      }\n    },\n    {\n      \"column\": \"considering_change_of_plan\",\n      \"properties\": {\n        \"dtype\": \"category\",\n        \"num_unique_values\": 3,\n        \"samples\": [\n          \"1\",\n          \"0\"\n        ],\n        \"semantic_type\": \"\",\n        \"description\": \"\"\n      }\n    },\n    {\n      \"column\": \"leave\",\n      \"properties\": {\n        \"dtype\": \"category\",\n        \"num_unique_values\": 2,\n        \"samples\": [\n          \"STAY\",\n          \"LEAVE\"\n        ],\n        \"semantic_type\": \"\",\n        \"description\": \"\"\n      }\n    },\n    {\n      \"column\": \"id\",\n      \"properties\": {\n        \"dtype\": \"number\",\n        \"std\": 6812,\n        \"min\": 2,\n        \"max\": 25354,\n        \"num_unique_values\": 11554,\n        \"samples\": [\n          12784,\n          11491\n        ],\n        \"semantic_type\": \"\",\n        \"description\": \"\"\n      }\n    },\n    {\n      \"column\": \"operating_system\",\n      \"properties\": {\n        \"dtype\": \"category\",\n        \"num_unique_values\": 2,\n        \"samples\": [\n          \"IOS\",\n          \"Android\"\n        ],\n        \"semantic_type\": \"\",\n        \"description\": \"\"\n      }\n    }\n  ]\n}"
            }
          },
          "metadata": {},
          "execution_count": 15
        }
      ],
      "source": [
        "df_clean.loc[df_clean['college'] == 'one', 'college'] = \"1\"\n",
        "df_clean.loc[df_clean['college'] == 'zero', 'college'] = \"0\"\n",
        "df_clean.loc[df_clean['reported_satisfaction'] == 'low', 'reported_satisfaction'] = \"1\"\n",
        "df_clean.loc[df_clean['reported_satisfaction'] == 'avg', 'reported_satisfaction'] = \"2\"\n",
        "df_clean.loc[df_clean['reported_satisfaction'] == 'high', 'reported_satisfaction'] = \"3\"\n",
        "df_clean.loc[df_clean['reported_usage_level'] == 'low', 'reported_usage_level'] = \"1\"\n",
        "df_clean.loc[df_clean['reported_usage_level'] == 'avg', 'reported_usage_level'] = \"2\"\n",
        "df_clean.loc[df_clean['reported_usage_level'] == 'high', 'reported_usage_level'] = \"3\"\n",
        "df_clean.loc[df_clean['considering_change_of_plan'] == 'yes', 'considering_change_of_plan'] = \"1\"\n",
        "df_clean.loc[df_clean['considering_change_of_plan'] == 'no', 'considering_change_of_plan'] = \"0\"\n",
        "df_clean.loc[df_clean['considering_change_of_plan'] == 'maybe', 'considering_change_of_plan'] = \"0.5\"\n",
        "\n",
        "df_clean.head(10)"
      ]
    },
    {
      "cell_type": "markdown",
      "metadata": {
        "id": "AuB0G9gJt7gn"
      },
      "source": [
        "# Convert attributes to categories\n",
        "\n",
        "- Leave\n",
        "- College\n",
        "- Reported satisfaction\n",
        "- Reported usage level\n",
        "- Considering change of plan"
      ]
    },
    {
      "cell_type": "code",
      "execution_count": 16,
      "metadata": {
        "id": "inCqTVMDt6ex",
        "outputId": "2ac2aac1-bac3-4660-fa6e-f311531864e0",
        "colab": {
          "base_uri": "https://localhost:8080/"
        }
      },
      "outputs": [
        {
          "output_type": "stream",
          "name": "stdout",
          "text": [
            "<class 'pandas.core.frame.DataFrame'>\n",
            "Index: 14990 entries, 0 to 14998\n",
            "Data columns (total 16 columns):\n",
            " #   Column                       Non-Null Count  Dtype   \n",
            "---  ------                       --------------  -----   \n",
            " 0   college                      14990 non-null  category\n",
            " 1   income                       14990 non-null  int64   \n",
            " 2   data_overage_mb              14990 non-null  int64   \n",
            " 3   data_leftover_mb             14990 non-null  int64   \n",
            " 4   data_mb_used                 14990 non-null  int64   \n",
            " 5   text_message_count           14990 non-null  int64   \n",
            " 6   house                        14990 non-null  int64   \n",
            " 7   handset_price                14990 non-null  int64   \n",
            " 8   over_15mins_calls_per_month  14990 non-null  float64 \n",
            " 9   average_call_duration        14990 non-null  int64   \n",
            " 10  reported_satisfaction        14990 non-null  category\n",
            " 11  reported_usage_level         14990 non-null  category\n",
            " 12  considering_change_of_plan   14990 non-null  category\n",
            " 13  leave                        14990 non-null  category\n",
            " 14  id                           14990 non-null  int64   \n",
            " 15  operating_system             14990 non-null  object  \n",
            "dtypes: category(5), float64(1), int64(9), object(1)\n",
            "memory usage: 1.4+ MB\n"
          ]
        }
      ],
      "source": [
        "#Method #1\n",
        "#df_clean['leave'] = pd.Categorical(df_clean['leave'])\n",
        "\n",
        "#Method #2\n",
        "df_clean['leave'] = df_clean['leave'].astype('category')\n",
        "df_clean['college'] = df_clean['college'].astype('category')\n",
        "df_clean['reported_satisfaction'] = df_clean['reported_satisfaction'].astype('category')\n",
        "df_clean['reported_usage_level'] = df_clean['reported_usage_level'].astype('category')\n",
        "df_clean['considering_change_of_plan'] = df_clean['considering_change_of_plan'].astype('category')\n",
        "\n",
        "df_clean.info()"
      ]
    },
    {
      "cell_type": "markdown",
      "metadata": {
        "id": "uathUi6xfDPf"
      },
      "source": [
        "## Calculate distribution of the outcome  \n",
        "What is the proportion of people who churned?\n",
        "\n",
        "Why should we care about this proportion?\n",
        "\n",
        "1. An important step in EDA is to understand the distribution of the target variable.\n",
        "\n",
        "2. The majority class in the target variable will serve as an important benchmark for model performance. If we used what we'll call a \"majority class classifier\"---this consists in always predicting the majority class, which in this case is `STAY`---we would be correct 1 - .49 or 51% of the time.  Another way of saying this is that majority class classifier in the MegaTelCo case would result in accuracy of .51.  \n",
        "\n",
        "Accuracy is defined as the proportion of correctly predicted labels. It is a commonly used error metric for evaluating classifier performance.\n",
        "\n",
        "Think about why a majority class model in this case would have an accuracy of .51.\n",
        "\n",
        "Whatever later model we develop should have better accuracy than this performance benchmark."
      ]
    },
    {
      "cell_type": "code",
      "execution_count": 17,
      "metadata": {
        "id": "bC93rEgNfFNh",
        "outputId": "6068cb43-db08-41f1-b48b-72abe863d773",
        "colab": {
          "base_uri": "https://localhost:8080/"
        }
      },
      "outputs": [
        {
          "output_type": "execute_result",
          "data": {
            "text/plain": [
              "0.4982655103402268"
            ]
          },
          "metadata": {},
          "execution_count": 17
        }
      ],
      "source": [
        "#Add new field with binary value for leave\n",
        "df_clean['leave_flag'] = df_clean['leave'].str.replace('STAY','0')\n",
        "df_clean['leave_flag'] = df_clean['leave_flag'].str.replace('LEAVE','1')\n",
        "\n",
        "#Convert to integer\n",
        "df_clean['leave_flag'] = df_clean['leave_flag'].astype('int')\n",
        "\n",
        "#Find the mean value\n",
        "df_clean['leave_flag'].mean()\n"
      ]
    },
    {
      "cell_type": "markdown",
      "metadata": {
        "id": "SoJLJMlceORN"
      },
      "source": [
        "## Fit a basic tree model\n",
        "\n",
        "Use just two variables, 'income' and 'house'. We'll call this the \"money tree.\"\n",
        "\n",
        "What is the accuracy of the money tree?"
      ]
    },
    {
      "cell_type": "code",
      "execution_count": 18,
      "metadata": {
        "id": "WBH7aRXbOUf4"
      },
      "outputs": [],
      "source": [
        "# split the datafram into independent (x) and dependent (predicted) attributes (y)\n",
        "x = df_clean[['income','house']]\n",
        "y = df_clean['leave']\n",
        "\n",
        "money_tree = DecisionTreeClassifier()\n",
        "\n",
        "# Create Decision Tree Classifer\n",
        "money_tree = money_tree.fit(x,y)\n"
      ]
    },
    {
      "cell_type": "markdown",
      "metadata": {
        "id": "x5n0jUSL8Nde"
      },
      "source": [
        "## Preview the tree\n"
      ]
    },
    {
      "cell_type": "code",
      "execution_count": 19,
      "metadata": {
        "id": "lUzUB50D8SHt",
        "outputId": "45999a91-86ac-45f9-f2fe-b905099cc9b1",
        "colab": {
          "base_uri": "https://localhost:8080/"
        }
      },
      "outputs": [
        {
          "output_type": "stream",
          "name": "stdout",
          "text": [
            "|--- feature_1 <= 1200025.00\n",
            "|   |--- feature_1 <= 534467.00\n",
            "|   |   |--- class: LEAVE\n",
            "|   |--- feature_1 >  534467.00\n",
            "|   |   |--- feature_0 <= 329219.50\n",
            "|   |   |   |--- feature_0 <= 326170.50\n",
            "|   |   |   |   |--- feature_1 <= 1180154.50\n",
            "|   |   |   |   |   |--- feature_0 <= 266701.00\n",
            "|   |   |   |   |   |   |--- feature_0 <= 259224.50\n",
            "|   |   |   |   |   |   |   |--- feature_0 <= 55673.50\n",
            "|   |   |   |   |   |   |   |   |--- feature_0 <= 54109.00\n",
            "|   |   |   |   |   |   |   |   |   |--- feature_1 <= 1127939.50\n",
            "|   |   |   |   |   |   |   |   |   |   |--- feature_1 <= 778451.00\n",
            "|   |   |   |   |   |   |   |   |   |   |   |--- truncated branch of depth 7\n",
            "|   |   |   |   |   |   |   |   |   |   |--- feature_1 >  778451.00\n",
            "|   |   |   |   |   |   |   |   |   |   |   |--- truncated branch of depth 8\n",
            "|   |   |   |   |   |   |   |   |   |--- feature_1 >  1127939.50\n",
            "|   |   |   |   |   |   |   |   |   |   |--- feature_1 <= 1173610.00\n",
            "|   |   |   |   |   |   |   |   |   |   |   |--- class: LEAVE\n",
            "|   |   |   |   |   |   |   |   |   |   |--- feature_1 >  1173610.00\n",
            "|   |   |   |   |   |   |   |   |   |   |   |--- truncated branch of depth 2\n",
            "|   |   |   |   |   |   |   |   |--- feature_0 >  54109.00\n",
            "|   |   |   |   |   |   |   |   |   |--- feature_1 <= 1090106.50\n",
            "|   |   |   |   |   |   |   |   |   |   |--- feature_1 <= 1006066.50\n",
            "|   |   |   |   |   |   |   |   |   |   |   |--- truncated branch of depth 9\n",
            "|   |   |   |   |   |   |   |   |   |   |--- feature_1 >  1006066.50\n",
            "|   |   |   |   |   |   |   |   |   |   |   |--- truncated branch of depth 3\n",
            "|   |   |   |   |   |   |   |   |   |--- feature_1 >  1090106.50\n",
            "|   |   |   |   |   |   |   |   |   |   |--- class: LEAVE\n",
            "|   |   |   |   |   |   |   |--- feature_0 >  55673.50\n",
            "|   |   |   |   |   |   |   |   |--- feature_0 <= 78210.50\n",
            "|   |   |   |   |   |   |   |   |   |--- feature_0 <= 72026.00\n",
            "|   |   |   |   |   |   |   |   |   |   |--- feature_0 <= 70971.00\n",
            "|   |   |   |   |   |   |   |   |   |   |   |--- truncated branch of depth 27\n",
            "|   |   |   |   |   |   |   |   |   |   |--- feature_0 >  70971.00\n",
            "|   |   |   |   |   |   |   |   |   |   |   |--- truncated branch of depth 9\n",
            "|   |   |   |   |   |   |   |   |   |--- feature_0 >  72026.00\n",
            "|   |   |   |   |   |   |   |   |   |   |--- feature_0 <= 72500.50\n",
            "|   |   |   |   |   |   |   |   |   |   |   |--- class: STAY\n",
            "|   |   |   |   |   |   |   |   |   |   |--- feature_0 >  72500.50\n",
            "|   |   |   |   |   |   |   |   |   |   |   |--- truncated branch of depth 14\n",
            "|   |   |   |   |   |   |   |   |--- feature_0 >  78210.50\n",
            "|   |   |   |   |   |   |   |   |   |--- feature_0 <= 185253.50\n",
            "|   |   |   |   |   |   |   |   |   |   |--- feature_0 <= 184400.50\n",
            "|   |   |   |   |   |   |   |   |   |   |   |--- truncated branch of depth 49\n",
            "|   |   |   |   |   |   |   |   |   |   |--- feature_0 >  184400.50\n",
            "|   |   |   |   |   |   |   |   |   |   |   |--- truncated branch of depth 7\n",
            "|   |   |   |   |   |   |   |   |   |--- feature_0 >  185253.50\n",
            "|   |   |   |   |   |   |   |   |   |   |--- feature_0 <= 185509.50\n",
            "|   |   |   |   |   |   |   |   |   |   |   |--- truncated branch of depth 2\n",
            "|   |   |   |   |   |   |   |   |   |   |--- feature_0 >  185509.50\n",
            "|   |   |   |   |   |   |   |   |   |   |   |--- truncated branch of depth 51\n",
            "|   |   |   |   |   |   |--- feature_0 >  259224.50\n",
            "|   |   |   |   |   |   |   |--- feature_1 <= 543477.50\n",
            "|   |   |   |   |   |   |   |   |--- class: LEAVE\n",
            "|   |   |   |   |   |   |   |--- feature_1 >  543477.50\n",
            "|   |   |   |   |   |   |   |   |--- feature_1 <= 1173950.50\n",
            "|   |   |   |   |   |   |   |   |   |--- feature_1 <= 559885.00\n",
            "|   |   |   |   |   |   |   |   |   |   |--- feature_1 <= 550541.50\n",
            "|   |   |   |   |   |   |   |   |   |   |   |--- truncated branch of depth 2\n",
            "|   |   |   |   |   |   |   |   |   |   |--- feature_1 >  550541.50\n",
            "|   |   |   |   |   |   |   |   |   |   |   |--- class: STAY\n",
            "|   |   |   |   |   |   |   |   |   |--- feature_1 >  559885.00\n",
            "|   |   |   |   |   |   |   |   |   |   |--- feature_1 <= 569294.50\n",
            "|   |   |   |   |   |   |   |   |   |   |   |--- truncated branch of depth 2\n",
            "|   |   |   |   |   |   |   |   |   |   |--- feature_1 >  569294.50\n",
            "|   |   |   |   |   |   |   |   |   |   |   |--- truncated branch of depth 25\n",
            "|   |   |   |   |   |   |   |   |--- feature_1 >  1173950.50\n",
            "|   |   |   |   |   |   |   |   |   |--- class: LEAVE\n",
            "|   |   |   |   |   |--- feature_0 >  266701.00\n",
            "|   |   |   |   |   |   |--- feature_0 <= 319931.50\n",
            "|   |   |   |   |   |   |   |--- feature_0 <= 267001.50\n",
            "|   |   |   |   |   |   |   |   |--- feature_1 <= 659839.00\n",
            "|   |   |   |   |   |   |   |   |   |--- class: STAY\n",
            "|   |   |   |   |   |   |   |   |--- feature_1 >  659839.00\n",
            "|   |   |   |   |   |   |   |   |   |--- class: LEAVE\n",
            "|   |   |   |   |   |   |   |--- feature_0 >  267001.50\n",
            "|   |   |   |   |   |   |   |   |--- feature_0 <= 267184.50\n",
            "|   |   |   |   |   |   |   |   |   |--- feature_1 <= 643406.50\n",
            "|   |   |   |   |   |   |   |   |   |   |--- class: LEAVE\n",
            "|   |   |   |   |   |   |   |   |   |--- feature_1 >  643406.50\n",
            "|   |   |   |   |   |   |   |   |   |   |--- class: STAY\n",
            "|   |   |   |   |   |   |   |   |--- feature_0 >  267184.50\n",
            "|   |   |   |   |   |   |   |   |   |--- feature_0 <= 267880.50\n",
            "|   |   |   |   |   |   |   |   |   |   |--- feature_1 <= 803368.00\n",
            "|   |   |   |   |   |   |   |   |   |   |   |--- truncated branch of depth 3\n",
            "|   |   |   |   |   |   |   |   |   |   |--- feature_1 >  803368.00\n",
            "|   |   |   |   |   |   |   |   |   |   |   |--- class: LEAVE\n",
            "|   |   |   |   |   |   |   |   |   |--- feature_0 >  267880.50\n",
            "|   |   |   |   |   |   |   |   |   |   |--- feature_1 <= 544891.00\n",
            "|   |   |   |   |   |   |   |   |   |   |   |--- truncated branch of depth 7\n",
            "|   |   |   |   |   |   |   |   |   |   |--- feature_1 >  544891.00\n",
            "|   |   |   |   |   |   |   |   |   |   |   |--- truncated branch of depth 36\n",
            "|   |   |   |   |   |   |--- feature_0 >  319931.50\n",
            "|   |   |   |   |   |   |   |--- feature_0 <= 321019.00\n",
            "|   |   |   |   |   |   |   |   |--- feature_1 <= 948069.00\n",
            "|   |   |   |   |   |   |   |   |   |--- feature_1 <= 666129.00\n",
            "|   |   |   |   |   |   |   |   |   |   |--- feature_0 <= 320152.50\n",
            "|   |   |   |   |   |   |   |   |   |   |   |--- class: LEAVE\n",
            "|   |   |   |   |   |   |   |   |   |   |--- feature_0 >  320152.50\n",
            "|   |   |   |   |   |   |   |   |   |   |   |--- class: STAY\n",
            "|   |   |   |   |   |   |   |   |   |--- feature_1 >  666129.00\n",
            "|   |   |   |   |   |   |   |   |   |   |--- feature_0 <= 320911.00\n",
            "|   |   |   |   |   |   |   |   |   |   |   |--- truncated branch of depth 6\n",
            "|   |   |   |   |   |   |   |   |   |   |--- feature_0 >  320911.00\n",
            "|   |   |   |   |   |   |   |   |   |   |   |--- class: STAY\n",
            "|   |   |   |   |   |   |   |   |--- feature_1 >  948069.00\n",
            "|   |   |   |   |   |   |   |   |   |--- class: STAY\n",
            "|   |   |   |   |   |   |   |--- feature_0 >  321019.00\n",
            "|   |   |   |   |   |   |   |   |--- feature_1 <= 1119513.50\n",
            "|   |   |   |   |   |   |   |   |   |--- feature_0 <= 321378.00\n",
            "|   |   |   |   |   |   |   |   |   |   |--- feature_1 <= 965979.50\n",
            "|   |   |   |   |   |   |   |   |   |   |   |--- class: LEAVE\n",
            "|   |   |   |   |   |   |   |   |   |   |--- feature_1 >  965979.50\n",
            "|   |   |   |   |   |   |   |   |   |   |   |--- truncated branch of depth 2\n",
            "|   |   |   |   |   |   |   |   |   |--- feature_0 >  321378.00\n",
            "|   |   |   |   |   |   |   |   |   |   |--- feature_0 <= 326074.00\n",
            "|   |   |   |   |   |   |   |   |   |   |   |--- truncated branch of depth 25\n",
            "|   |   |   |   |   |   |   |   |   |   |--- feature_0 >  326074.00\n",
            "|   |   |   |   |   |   |   |   |   |   |   |--- class: STAY\n",
            "|   |   |   |   |   |   |   |   |--- feature_1 >  1119513.50\n",
            "|   |   |   |   |   |   |   |   |   |--- feature_1 <= 1178206.50\n",
            "|   |   |   |   |   |   |   |   |   |   |--- feature_0 <= 323702.50\n",
            "|   |   |   |   |   |   |   |   |   |   |   |--- truncated branch of depth 2\n",
            "|   |   |   |   |   |   |   |   |   |   |--- feature_0 >  323702.50\n",
            "|   |   |   |   |   |   |   |   |   |   |   |--- class: LEAVE\n",
            "|   |   |   |   |   |   |   |   |   |--- feature_1 >  1178206.50\n",
            "|   |   |   |   |   |   |   |   |   |   |--- class: STAY\n",
            "|   |   |   |   |--- feature_1 >  1180154.50\n",
            "|   |   |   |   |   |--- feature_0 <= 106672.00\n",
            "|   |   |   |   |   |   |--- feature_0 <= 53734.50\n",
            "|   |   |   |   |   |   |   |--- class: LEAVE\n",
            "|   |   |   |   |   |   |--- feature_0 >  53734.50\n",
            "|   |   |   |   |   |   |   |--- feature_1 <= 1190174.00\n",
            "|   |   |   |   |   |   |   |   |--- feature_1 <= 1189090.50\n",
            "|   |   |   |   |   |   |   |   |   |--- feature_1 <= 1181638.00\n",
            "|   |   |   |   |   |   |   |   |   |   |--- class: LEAVE\n",
            "|   |   |   |   |   |   |   |   |   |--- feature_1 >  1181638.00\n",
            "|   |   |   |   |   |   |   |   |   |   |--- feature_1 <= 1187361.00\n",
            "|   |   |   |   |   |   |   |   |   |   |   |--- truncated branch of depth 3\n",
            "|   |   |   |   |   |   |   |   |   |   |--- feature_1 >  1187361.00\n",
            "|   |   |   |   |   |   |   |   |   |   |   |--- truncated branch of depth 2\n",
            "|   |   |   |   |   |   |   |   |--- feature_1 >  1189090.50\n",
            "|   |   |   |   |   |   |   |   |   |--- class: LEAVE\n",
            "|   |   |   |   |   |   |   |--- feature_1 >  1190174.00\n",
            "|   |   |   |   |   |   |   |   |--- feature_1 <= 1199571.50\n",
            "|   |   |   |   |   |   |   |   |   |--- feature_0 <= 68568.00\n",
            "|   |   |   |   |   |   |   |   |   |   |--- feature_0 <= 66852.00\n",
            "|   |   |   |   |   |   |   |   |   |   |   |--- truncated branch of depth 3\n",
            "|   |   |   |   |   |   |   |   |   |   |--- feature_0 >  66852.00\n",
            "|   |   |   |   |   |   |   |   |   |   |   |--- class: LEAVE\n",
            "|   |   |   |   |   |   |   |   |   |--- feature_0 >  68568.00\n",
            "|   |   |   |   |   |   |   |   |   |   |--- class: STAY\n",
            "|   |   |   |   |   |   |   |   |--- feature_1 >  1199571.50\n",
            "|   |   |   |   |   |   |   |   |   |--- class: LEAVE\n",
            "|   |   |   |   |   |--- feature_0 >  106672.00\n",
            "|   |   |   |   |   |   |--- feature_1 <= 1190377.00\n",
            "|   |   |   |   |   |   |   |--- feature_0 <= 125381.50\n",
            "|   |   |   |   |   |   |   |   |--- feature_1 <= 1183653.50\n",
            "|   |   |   |   |   |   |   |   |   |--- feature_0 <= 112904.00\n",
            "|   |   |   |   |   |   |   |   |   |   |--- class: LEAVE\n",
            "|   |   |   |   |   |   |   |   |   |--- feature_0 >  112904.00\n",
            "|   |   |   |   |   |   |   |   |   |   |--- feature_0 <= 122230.00\n",
            "|   |   |   |   |   |   |   |   |   |   |   |--- class: STAY\n",
            "|   |   |   |   |   |   |   |   |   |   |--- feature_0 >  122230.00\n",
            "|   |   |   |   |   |   |   |   |   |   |   |--- class: LEAVE\n",
            "|   |   |   |   |   |   |   |   |--- feature_1 >  1183653.50\n",
            "|   |   |   |   |   |   |   |   |   |--- feature_1 <= 1189462.50\n",
            "|   |   |   |   |   |   |   |   |   |   |--- class: LEAVE\n",
            "|   |   |   |   |   |   |   |   |   |--- feature_1 >  1189462.50\n",
            "|   |   |   |   |   |   |   |   |   |   |--- class: STAY\n",
            "|   |   |   |   |   |   |   |--- feature_0 >  125381.50\n",
            "|   |   |   |   |   |   |   |   |--- feature_0 <= 278327.00\n",
            "|   |   |   |   |   |   |   |   |   |--- feature_1 <= 1189683.50\n",
            "|   |   |   |   |   |   |   |   |   |   |--- feature_0 <= 250343.50\n",
            "|   |   |   |   |   |   |   |   |   |   |   |--- truncated branch of depth 13\n",
            "|   |   |   |   |   |   |   |   |   |   |--- feature_0 >  250343.50\n",
            "|   |   |   |   |   |   |   |   |   |   |   |--- truncated branch of depth 4\n",
            "|   |   |   |   |   |   |   |   |   |--- feature_1 >  1189683.50\n",
            "|   |   |   |   |   |   |   |   |   |   |--- class: STAY\n",
            "|   |   |   |   |   |   |   |   |--- feature_0 >  278327.00\n",
            "|   |   |   |   |   |   |   |   |   |--- feature_0 <= 303158.00\n",
            "|   |   |   |   |   |   |   |   |   |   |--- class: STAY\n",
            "|   |   |   |   |   |   |   |   |   |--- feature_0 >  303158.00\n",
            "|   |   |   |   |   |   |   |   |   |   |--- feature_0 <= 315410.50\n",
            "|   |   |   |   |   |   |   |   |   |   |   |--- class: LEAVE\n",
            "|   |   |   |   |   |   |   |   |   |   |--- feature_0 >  315410.50\n",
            "|   |   |   |   |   |   |   |   |   |   |   |--- class: STAY\n",
            "|   |   |   |   |   |   |--- feature_1 >  1190377.00\n",
            "|   |   |   |   |   |   |   |--- feature_1 <= 1195741.00\n",
            "|   |   |   |   |   |   |   |   |--- feature_0 <= 117331.00\n",
            "|   |   |   |   |   |   |   |   |   |--- class: STAY\n",
            "|   |   |   |   |   |   |   |   |--- feature_0 >  117331.00\n",
            "|   |   |   |   |   |   |   |   |   |--- feature_0 <= 156856.00\n",
            "|   |   |   |   |   |   |   |   |   |   |--- feature_0 <= 123197.50\n",
            "|   |   |   |   |   |   |   |   |   |   |   |--- truncated branch of depth 2\n",
            "|   |   |   |   |   |   |   |   |   |   |--- feature_0 >  123197.50\n",
            "|   |   |   |   |   |   |   |   |   |   |   |--- class: LEAVE\n",
            "|   |   |   |   |   |   |   |   |   |--- feature_0 >  156856.00\n",
            "|   |   |   |   |   |   |   |   |   |   |--- feature_0 <= 199960.50\n",
            "|   |   |   |   |   |   |   |   |   |   |   |--- truncated branch of depth 6\n",
            "|   |   |   |   |   |   |   |   |   |   |--- feature_0 >  199960.50\n",
            "|   |   |   |   |   |   |   |   |   |   |   |--- truncated branch of depth 9\n",
            "|   |   |   |   |   |   |   |--- feature_1 >  1195741.00\n",
            "|   |   |   |   |   |   |   |   |--- feature_0 <= 229357.50\n",
            "|   |   |   |   |   |   |   |   |   |--- feature_0 <= 189938.50\n",
            "|   |   |   |   |   |   |   |   |   |   |--- feature_1 <= 1196475.50\n",
            "|   |   |   |   |   |   |   |   |   |   |   |--- class: STAY\n",
            "|   |   |   |   |   |   |   |   |   |   |--- feature_1 >  1196475.50\n",
            "|   |   |   |   |   |   |   |   |   |   |   |--- truncated branch of depth 5\n",
            "|   |   |   |   |   |   |   |   |   |--- feature_0 >  189938.50\n",
            "|   |   |   |   |   |   |   |   |   |   |--- feature_1 <= 1198121.50\n",
            "|   |   |   |   |   |   |   |   |   |   |   |--- class: LEAVE\n",
            "|   |   |   |   |   |   |   |   |   |   |--- feature_1 >  1198121.50\n",
            "|   |   |   |   |   |   |   |   |   |   |   |--- truncated branch of depth 2\n",
            "|   |   |   |   |   |   |   |   |--- feature_0 >  229357.50\n",
            "|   |   |   |   |   |   |   |   |   |--- feature_1 <= 1198036.00\n",
            "|   |   |   |   |   |   |   |   |   |   |--- class: STAY\n",
            "|   |   |   |   |   |   |   |   |   |--- feature_1 >  1198036.00\n",
            "|   |   |   |   |   |   |   |   |   |   |--- feature_0 <= 300527.00\n",
            "|   |   |   |   |   |   |   |   |   |   |   |--- truncated branch of depth 4\n",
            "|   |   |   |   |   |   |   |   |   |   |--- feature_0 >  300527.00\n",
            "|   |   |   |   |   |   |   |   |   |   |   |--- class: LEAVE\n",
            "|   |   |   |--- feature_0 >  326170.50\n",
            "|   |   |   |   |--- feature_0 <= 328085.00\n",
            "|   |   |   |   |   |--- feature_1 <= 981711.50\n",
            "|   |   |   |   |   |   |--- feature_1 <= 950193.50\n",
            "|   |   |   |   |   |   |   |--- feature_0 <= 326644.50\n",
            "|   |   |   |   |   |   |   |   |--- feature_0 <= 326318.00\n",
            "|   |   |   |   |   |   |   |   |   |--- class: LEAVE\n",
            "|   |   |   |   |   |   |   |   |--- feature_0 >  326318.00\n",
            "|   |   |   |   |   |   |   |   |   |--- feature_1 <= 683025.00\n",
            "|   |   |   |   |   |   |   |   |   |   |--- class: STAY\n",
            "|   |   |   |   |   |   |   |   |   |--- feature_1 >  683025.00\n",
            "|   |   |   |   |   |   |   |   |   |   |--- feature_1 <= 848253.00\n",
            "|   |   |   |   |   |   |   |   |   |   |   |--- class: LEAVE\n",
            "|   |   |   |   |   |   |   |   |   |   |--- feature_1 >  848253.00\n",
            "|   |   |   |   |   |   |   |   |   |   |   |--- class: STAY\n",
            "|   |   |   |   |   |   |   |--- feature_0 >  326644.50\n",
            "|   |   |   |   |   |   |   |   |--- feature_0 <= 327424.00\n",
            "|   |   |   |   |   |   |   |   |   |--- class: LEAVE\n",
            "|   |   |   |   |   |   |   |   |--- feature_0 >  327424.00\n",
            "|   |   |   |   |   |   |   |   |   |--- feature_0 <= 327498.50\n",
            "|   |   |   |   |   |   |   |   |   |   |--- class: STAY\n",
            "|   |   |   |   |   |   |   |   |   |--- feature_0 >  327498.50\n",
            "|   |   |   |   |   |   |   |   |   |   |--- feature_0 <= 327884.50\n",
            "|   |   |   |   |   |   |   |   |   |   |   |--- class: LEAVE\n",
            "|   |   |   |   |   |   |   |   |   |   |--- feature_0 >  327884.50\n",
            "|   |   |   |   |   |   |   |   |   |   |   |--- truncated branch of depth 2\n",
            "|   |   |   |   |   |   |--- feature_1 >  950193.50\n",
            "|   |   |   |   |   |   |   |--- class: STAY\n",
            "|   |   |   |   |   |--- feature_1 >  981711.50\n",
            "|   |   |   |   |   |   |--- feature_1 <= 1107821.50\n",
            "|   |   |   |   |   |   |   |--- class: LEAVE\n",
            "|   |   |   |   |   |   |--- feature_1 >  1107821.50\n",
            "|   |   |   |   |   |   |   |--- feature_1 <= 1126843.50\n",
            "|   |   |   |   |   |   |   |   |--- class: STAY\n",
            "|   |   |   |   |   |   |   |--- feature_1 >  1126843.50\n",
            "|   |   |   |   |   |   |   |   |--- class: LEAVE\n",
            "|   |   |   |   |--- feature_0 >  328085.00\n",
            "|   |   |   |   |   |--- feature_1 <= 614519.00\n",
            "|   |   |   |   |   |   |--- class: STAY\n",
            "|   |   |   |   |   |--- feature_1 >  614519.00\n",
            "|   |   |   |   |   |   |--- feature_0 <= 328124.00\n",
            "|   |   |   |   |   |   |   |--- class: STAY\n",
            "|   |   |   |   |   |   |--- feature_0 >  328124.00\n",
            "|   |   |   |   |   |   |   |--- feature_1 <= 1173948.00\n",
            "|   |   |   |   |   |   |   |   |--- feature_0 <= 329104.50\n",
            "|   |   |   |   |   |   |   |   |   |--- feature_0 <= 329096.50\n",
            "|   |   |   |   |   |   |   |   |   |   |--- feature_1 <= 809847.50\n",
            "|   |   |   |   |   |   |   |   |   |   |   |--- truncated branch of depth 4\n",
            "|   |   |   |   |   |   |   |   |   |   |--- feature_1 >  809847.50\n",
            "|   |   |   |   |   |   |   |   |   |   |   |--- truncated branch of depth 4\n",
            "|   |   |   |   |   |   |   |   |   |--- feature_0 >  329096.50\n",
            "|   |   |   |   |   |   |   |   |   |   |--- class: STAY\n",
            "|   |   |   |   |   |   |   |   |--- feature_0 >  329104.50\n",
            "|   |   |   |   |   |   |   |   |   |--- class: LEAVE\n",
            "|   |   |   |   |   |   |   |--- feature_1 >  1173948.00\n",
            "|   |   |   |   |   |   |   |   |--- class: STAY\n",
            "|   |   |--- feature_0 >  329219.50\n",
            "|   |   |   |--- feature_0 <= 330349.00\n",
            "|   |   |   |   |--- feature_1 <= 766046.00\n",
            "|   |   |   |   |   |--- class: STAY\n",
            "|   |   |   |   |--- feature_1 >  766046.00\n",
            "|   |   |   |   |   |--- feature_1 <= 1145645.00\n",
            "|   |   |   |   |   |   |--- feature_0 <= 329781.00\n",
            "|   |   |   |   |   |   |   |--- feature_0 <= 329627.50\n",
            "|   |   |   |   |   |   |   |   |--- feature_0 <= 329352.50\n",
            "|   |   |   |   |   |   |   |   |   |--- class: LEAVE\n",
            "|   |   |   |   |   |   |   |   |--- feature_0 >  329352.50\n",
            "|   |   |   |   |   |   |   |   |   |--- feature_1 <= 900507.00\n",
            "|   |   |   |   |   |   |   |   |   |   |--- feature_1 <= 869139.00\n",
            "|   |   |   |   |   |   |   |   |   |   |   |--- class: STAY\n",
            "|   |   |   |   |   |   |   |   |   |   |--- feature_1 >  869139.00\n",
            "|   |   |   |   |   |   |   |   |   |   |   |--- class: LEAVE\n",
            "|   |   |   |   |   |   |   |   |   |--- feature_1 >  900507.00\n",
            "|   |   |   |   |   |   |   |   |   |   |--- class: STAY\n",
            "|   |   |   |   |   |   |   |--- feature_0 >  329627.50\n",
            "|   |   |   |   |   |   |   |   |--- class: LEAVE\n",
            "|   |   |   |   |   |   |--- feature_0 >  329781.00\n",
            "|   |   |   |   |   |   |   |--- feature_1 <= 890375.00\n",
            "|   |   |   |   |   |   |   |   |--- feature_0 <= 330136.00\n",
            "|   |   |   |   |   |   |   |   |   |--- class: LEAVE\n",
            "|   |   |   |   |   |   |   |   |--- feature_0 >  330136.00\n",
            "|   |   |   |   |   |   |   |   |   |--- class: STAY\n",
            "|   |   |   |   |   |   |   |--- feature_1 >  890375.00\n",
            "|   |   |   |   |   |   |   |   |--- class: STAY\n",
            "|   |   |   |   |   |--- feature_1 >  1145645.00\n",
            "|   |   |   |   |   |   |--- feature_0 <= 329498.00\n",
            "|   |   |   |   |   |   |   |--- class: STAY\n",
            "|   |   |   |   |   |   |--- feature_0 >  329498.00\n",
            "|   |   |   |   |   |   |   |--- class: LEAVE\n",
            "|   |   |   |--- feature_0 >  330349.00\n",
            "|   |   |   |   |--- feature_0 <= 331188.50\n",
            "|   |   |   |   |   |--- feature_1 <= 764243.50\n",
            "|   |   |   |   |   |   |--- class: LEAVE\n",
            "|   |   |   |   |   |--- feature_1 >  764243.50\n",
            "|   |   |   |   |   |   |--- feature_1 <= 1019055.00\n",
            "|   |   |   |   |   |   |   |--- feature_0 <= 330622.00\n",
            "|   |   |   |   |   |   |   |   |--- feature_0 <= 330446.00\n",
            "|   |   |   |   |   |   |   |   |   |--- feature_1 <= 936562.00\n",
            "|   |   |   |   |   |   |   |   |   |   |--- class: STAY\n",
            "|   |   |   |   |   |   |   |   |   |--- feature_1 >  936562.00\n",
            "|   |   |   |   |   |   |   |   |   |   |--- class: LEAVE\n",
            "|   |   |   |   |   |   |   |   |--- feature_0 >  330446.00\n",
            "|   |   |   |   |   |   |   |   |   |--- class: STAY\n",
            "|   |   |   |   |   |   |   |--- feature_0 >  330622.00\n",
            "|   |   |   |   |   |   |   |   |--- feature_0 <= 330793.00\n",
            "|   |   |   |   |   |   |   |   |   |--- class: LEAVE\n",
            "|   |   |   |   |   |   |   |   |--- feature_0 >  330793.00\n",
            "|   |   |   |   |   |   |   |   |   |--- feature_0 <= 330915.50\n",
            "|   |   |   |   |   |   |   |   |   |   |--- class: STAY\n",
            "|   |   |   |   |   |   |   |   |   |--- feature_0 >  330915.50\n",
            "|   |   |   |   |   |   |   |   |   |   |--- class: LEAVE\n",
            "|   |   |   |   |   |   |--- feature_1 >  1019055.00\n",
            "|   |   |   |   |   |   |   |--- class: LEAVE\n",
            "|   |   |   |   |--- feature_0 >  331188.50\n",
            "|   |   |   |   |   |--- feature_0 <= 332061.50\n",
            "|   |   |   |   |   |   |--- feature_0 <= 331631.00\n",
            "|   |   |   |   |   |   |   |--- feature_0 <= 331309.50\n",
            "|   |   |   |   |   |   |   |   |--- class: STAY\n",
            "|   |   |   |   |   |   |   |--- feature_0 >  331309.50\n",
            "|   |   |   |   |   |   |   |   |--- feature_1 <= 564871.50\n",
            "|   |   |   |   |   |   |   |   |   |--- class: STAY\n",
            "|   |   |   |   |   |   |   |   |--- feature_1 >  564871.50\n",
            "|   |   |   |   |   |   |   |   |   |--- feature_1 <= 768242.00\n",
            "|   |   |   |   |   |   |   |   |   |   |--- class: LEAVE\n",
            "|   |   |   |   |   |   |   |   |   |--- feature_1 >  768242.00\n",
            "|   |   |   |   |   |   |   |   |   |   |--- feature_1 <= 889154.50\n",
            "|   |   |   |   |   |   |   |   |   |   |   |--- class: STAY\n",
            "|   |   |   |   |   |   |   |   |   |   |--- feature_1 >  889154.50\n",
            "|   |   |   |   |   |   |   |   |   |   |   |--- truncated branch of depth 3\n",
            "|   |   |   |   |   |   |--- feature_0 >  331631.00\n",
            "|   |   |   |   |   |   |   |--- feature_1 <= 1017810.00\n",
            "|   |   |   |   |   |   |   |   |--- class: STAY\n",
            "|   |   |   |   |   |   |   |--- feature_1 >  1017810.00\n",
            "|   |   |   |   |   |   |   |   |--- feature_0 <= 331845.50\n",
            "|   |   |   |   |   |   |   |   |   |--- class: LEAVE\n",
            "|   |   |   |   |   |   |   |   |--- feature_0 >  331845.50\n",
            "|   |   |   |   |   |   |   |   |   |--- class: STAY\n",
            "|   |   |   |   |   |--- feature_0 >  332061.50\n",
            "|   |   |   |   |   |   |--- feature_0 <= 333296.00\n",
            "|   |   |   |   |   |   |   |--- feature_1 <= 545375.50\n",
            "|   |   |   |   |   |   |   |   |--- class: STAY\n",
            "|   |   |   |   |   |   |   |--- feature_1 >  545375.50\n",
            "|   |   |   |   |   |   |   |   |--- feature_0 <= 332920.50\n",
            "|   |   |   |   |   |   |   |   |   |--- feature_1 <= 624652.00\n",
            "|   |   |   |   |   |   |   |   |   |   |--- class: LEAVE\n",
            "|   |   |   |   |   |   |   |   |   |--- feature_1 >  624652.00\n",
            "|   |   |   |   |   |   |   |   |   |   |--- feature_1 <= 751076.00\n",
            "|   |   |   |   |   |   |   |   |   |   |   |--- truncated branch of depth 3\n",
            "|   |   |   |   |   |   |   |   |   |   |--- feature_1 >  751076.00\n",
            "|   |   |   |   |   |   |   |   |   |   |   |--- truncated branch of depth 8\n",
            "|   |   |   |   |   |   |   |   |--- feature_0 >  332920.50\n",
            "|   |   |   |   |   |   |   |   |   |--- class: LEAVE\n",
            "|   |   |   |   |   |   |--- feature_0 >  333296.00\n",
            "|   |   |   |   |   |   |   |--- feature_0 <= 343234.00\n",
            "|   |   |   |   |   |   |   |   |--- feature_0 <= 337107.00\n",
            "|   |   |   |   |   |   |   |   |   |--- feature_1 <= 1066811.00\n",
            "|   |   |   |   |   |   |   |   |   |   |--- feature_1 <= 750741.00\n",
            "|   |   |   |   |   |   |   |   |   |   |   |--- truncated branch of depth 15\n",
            "|   |   |   |   |   |   |   |   |   |   |--- feature_1 >  750741.00\n",
            "|   |   |   |   |   |   |   |   |   |   |   |--- truncated branch of depth 8\n",
            "|   |   |   |   |   |   |   |   |   |--- feature_1 >  1066811.00\n",
            "|   |   |   |   |   |   |   |   |   |   |--- feature_0 <= 333827.00\n",
            "|   |   |   |   |   |   |   |   |   |   |   |--- class: STAY\n",
            "|   |   |   |   |   |   |   |   |   |   |--- feature_0 >  333827.00\n",
            "|   |   |   |   |   |   |   |   |   |   |   |--- truncated branch of depth 6\n",
            "|   |   |   |   |   |   |   |   |--- feature_0 >  337107.00\n",
            "|   |   |   |   |   |   |   |   |   |--- feature_0 <= 338825.00\n",
            "|   |   |   |   |   |   |   |   |   |   |--- feature_1 <= 576845.50\n",
            "|   |   |   |   |   |   |   |   |   |   |   |--- class: LEAVE\n",
            "|   |   |   |   |   |   |   |   |   |   |--- feature_1 >  576845.50\n",
            "|   |   |   |   |   |   |   |   |   |   |   |--- truncated branch of depth 11\n",
            "|   |   |   |   |   |   |   |   |   |--- feature_0 >  338825.00\n",
            "|   |   |   |   |   |   |   |   |   |   |--- feature_0 <= 338979.00\n",
            "|   |   |   |   |   |   |   |   |   |   |   |--- class: LEAVE\n",
            "|   |   |   |   |   |   |   |   |   |   |--- feature_0 >  338979.00\n",
            "|   |   |   |   |   |   |   |   |   |   |   |--- truncated branch of depth 13\n",
            "|   |   |   |   |   |   |   |--- feature_0 >  343234.00\n",
            "|   |   |   |   |   |   |   |   |--- feature_0 <= 353535.50\n",
            "|   |   |   |   |   |   |   |   |   |--- feature_1 <= 681915.50\n",
            "|   |   |   |   |   |   |   |   |   |   |--- feature_1 <= 642220.00\n",
            "|   |   |   |   |   |   |   |   |   |   |   |--- truncated branch of depth 9\n",
            "|   |   |   |   |   |   |   |   |   |   |--- feature_1 >  642220.00\n",
            "|   |   |   |   |   |   |   |   |   |   |   |--- truncated branch of depth 5\n",
            "|   |   |   |   |   |   |   |   |   |--- feature_1 >  681915.50\n",
            "|   |   |   |   |   |   |   |   |   |   |--- feature_1 <= 701060.50\n",
            "|   |   |   |   |   |   |   |   |   |   |   |--- class: LEAVE\n",
            "|   |   |   |   |   |   |   |   |   |   |--- feature_1 >  701060.50\n",
            "|   |   |   |   |   |   |   |   |   |   |   |--- truncated branch of depth 24\n",
            "|   |   |   |   |   |   |   |   |--- feature_0 >  353535.50\n",
            "|   |   |   |   |   |   |   |   |   |--- feature_0 <= 353686.00\n",
            "|   |   |   |   |   |   |   |   |   |   |--- class: STAY\n",
            "|   |   |   |   |   |   |   |   |   |--- feature_0 >  353686.00\n",
            "|   |   |   |   |   |   |   |   |   |   |--- feature_0 <= 421148.50\n",
            "|   |   |   |   |   |   |   |   |   |   |   |--- truncated branch of depth 45\n",
            "|   |   |   |   |   |   |   |   |   |   |--- feature_0 >  421148.50\n",
            "|   |   |   |   |   |   |   |   |   |   |   |--- truncated branch of depth 21\n",
            "|--- feature_1 >  1200025.00\n",
            "|   |--- class: STAY\n",
            "\n"
          ]
        }
      ],
      "source": [
        "money_tree_text = tree.export_text(money_tree)\n",
        "print(money_tree_text)"
      ]
    },
    {
      "cell_type": "markdown",
      "metadata": {
        "id": "sSNfQKZA3jg2"
      },
      "source": [
        "## Check Accuracy\n",
        "\n",
        "What is the accuracy of the money_tree? Use these steps to calculate accuracy.\n",
        "\n",
        "Is this over fitted?"
      ]
    },
    {
      "cell_type": "code",
      "execution_count": 20,
      "metadata": {
        "id": "eVOSIP8SeYg3",
        "outputId": "d928b32d-daac-4ab9-8dbf-cf6c790930dc",
        "colab": {
          "base_uri": "https://localhost:8080/"
        }
      },
      "outputs": [
        {
          "output_type": "stream",
          "name": "stdout",
          "text": [
            "Accuracy: 1.0\n"
          ]
        }
      ],
      "source": [
        "pred = money_tree.predict(x)\n",
        "\n",
        "#print(pred)\n",
        "\n",
        "print(\"Accuracy:\",metrics.accuracy_score(y, pred))"
      ]
    },
    {
      "cell_type": "markdown",
      "metadata": {
        "id": "bLm9U6FV5XB2"
      },
      "source": [
        "## Prune the tree\n",
        "\n",
        "Limit the number of levels to 2"
      ]
    },
    {
      "cell_type": "code",
      "execution_count": 21,
      "metadata": {
        "id": "eVaCrCeU5kmt"
      },
      "outputs": [],
      "source": [
        "money_tree2 = DecisionTreeClassifier(criterion=\"entropy\", max_depth=2)\n",
        "\n",
        "# Create Decision Tree Classifer\n",
        "money_tree2 = money_tree2.fit(x,y)\n"
      ]
    },
    {
      "cell_type": "markdown",
      "metadata": {
        "id": "kmKO3QVT8apE"
      },
      "source": [
        "## Preview the new tree"
      ]
    },
    {
      "cell_type": "code",
      "execution_count": 22,
      "metadata": {
        "id": "83PSEPJd8e3i",
        "outputId": "02d0baee-89fa-4e7d-9fb7-b6f2d023841c",
        "colab": {
          "base_uri": "https://localhost:8080/"
        }
      },
      "outputs": [
        {
          "output_type": "stream",
          "name": "stdout",
          "text": [
            "|--- feature_1 <= 1200025.00\n",
            "|   |--- feature_1 <= 534467.00\n",
            "|   |   |--- class: LEAVE\n",
            "|   |--- feature_1 >  534467.00\n",
            "|   |   |--- class: LEAVE\n",
            "|--- feature_1 >  1200025.00\n",
            "|   |--- class: STAY\n",
            "\n"
          ]
        }
      ],
      "source": [
        "money_tree2_text = tree.export_text(money_tree2)\n",
        "print(money_tree2_text)"
      ]
    },
    {
      "cell_type": "markdown",
      "metadata": {
        "id": "KqK2LiaU7K1e"
      },
      "source": [
        "## Re-Check Accuracy\n",
        "\n",
        "Is this accuracy better than making a random guess?  (check the distribution above)"
      ]
    },
    {
      "cell_type": "code",
      "execution_count": 23,
      "metadata": {
        "id": "C2WGouWs6L5d",
        "outputId": "b0c859a6-5e7f-4d16-d2a7-ab3579647039",
        "colab": {
          "base_uri": "https://localhost:8080/"
        }
      },
      "outputs": [
        {
          "output_type": "stream",
          "name": "stdout",
          "text": [
            "Accuracy: 0.6401601067378252\n"
          ]
        }
      ],
      "source": [
        "pred = money_tree2.predict(x)\n",
        "\n",
        "print(\"Accuracy:\",metrics.accuracy_score(y, pred))"
      ]
    },
    {
      "cell_type": "markdown",
      "metadata": {
        "id": "tYqqwO1l3e5l"
      },
      "source": [
        "## Visualize the model"
      ]
    },
    {
      "cell_type": "code",
      "execution_count": 24,
      "metadata": {
        "id": "yj--WKic3c_x",
        "outputId": "f5a2c9b6-1407-4416-c8c9-8c6cfeb48294",
        "colab": {
          "base_uri": "https://localhost:8080/",
          "height": 436
        }
      },
      "outputs": [
        {
          "output_type": "execute_result",
          "data": {
            "image/png": "[encoded data removed]",
            "text/plain": [
              "<IPython.core.display.Image object>"
            ]
          },
          "metadata": {},
          "execution_count": 24
        }
      ],
      "source": [
        "from six import StringIO\n",
        "from IPython.display import Image\n",
        "import pydotplus\n",
        "\n",
        "dot_data = StringIO()\n",
        "export_graphviz(money_tree2, out_file=dot_data,\n",
        "                   feature_names=x.columns,class_names=['leave','stay'],\n",
        "                   filled=True,rounded=True, precision =2)\n",
        "\n",
        "graph=pydotplus.graph_from_dot_data(dot_data.getvalue())\n",
        "Image(graph.create_png())"
      ]
    },
    {
      "cell_type": "markdown",
      "metadata": {
        "id": "oKoXf3kkJVmm"
      },
      "source": [
        "## Fit a full tree model\n",
        "\n",
        "Use all of the independent attributes.  We'll call this the \"full tree.\"\n",
        "\n",
        "What is the accuracy of the full tree?"
      ]
    },
    {
      "cell_type": "code",
      "execution_count": 25,
      "metadata": {
        "id": "SFOTNW70MbI9"
      },
      "outputs": [],
      "source": [
        "# split the datafram into independent (x) and dependent (predicted) attributes (y)\n",
        "x = df_clean[['income','house','college','data_overage_mb','data_leftover_mb','handset_price','over_15mins_calls_per_month','average_call_duration','reported_satisfaction','reported_usage_level','considering_change_of_plan']]\n",
        "y = df_clean['leave']\n",
        "\n",
        "full_tree = DecisionTreeClassifier(criterion=\"entropy\", max_depth=1)\n",
        "\n",
        "# Create Decision Tree Classifer\n",
        "full_tree = full_tree.fit(x,y)\n"
      ]
    },
    {
      "cell_type": "markdown",
      "metadata": {
        "id": "qkDk8JG8n_W9"
      },
      "source": [
        "##Visualize the full tree"
      ]
    },
    {
      "cell_type": "code",
      "execution_count": 26,
      "metadata": {
        "id": "nFvB1n-_oBV6",
        "outputId": "641a7b8d-4013-4ff5-cde6-0b0bd7efaeee",
        "colab": {
          "base_uri": "https://localhost:8080/",
          "height": 277
        }
      },
      "outputs": [
        {
          "output_type": "execute_result",
          "data": {
            "image/png": "[encoded data removed]",
            "text/plain": [
              "<IPython.core.display.Image object>"
            ]
          },
          "metadata": {},
          "execution_count": 26
        }
      ],
      "source": [
        "from six import StringIO\n",
        "from IPython.display import Image\n",
        "import pydotplus\n",
        "\n",
        "dot_data = StringIO()\n",
        "export_graphviz(full_tree, out_file=dot_data,\n",
        "                   feature_names=x.columns,class_names=['leave','stay'],\n",
        "                   filled=True,rounded=True, precision =2)\n",
        "\n",
        "graph=pydotplus.graph_from_dot_data(dot_data.getvalue())\n",
        "Image(graph.create_png())"
      ]
    },
    {
      "cell_type": "markdown",
      "metadata": {
        "id": "m-ZyMMzIMrba"
      },
      "source": [
        "## Check Accuracy"
      ]
    },
    {
      "cell_type": "code",
      "execution_count": 27,
      "metadata": {
        "id": "Tzn8iS8hMtvQ",
        "outputId": "0c61f800-9643-4ea5-dbd4-073597f12d73",
        "colab": {
          "base_uri": "https://localhost:8080/"
        }
      },
      "outputs": [
        {
          "output_type": "stream",
          "name": "stdout",
          "text": [
            "Accuracy: 0.6401601067378252\n"
          ]
        }
      ],
      "source": [
        "pred = full_tree.predict(x)\n",
        "\n",
        "#print(pred)\n",
        "\n",
        "print(\"Accuracy:\",metrics.accuracy_score(y, pred))"
      ]
    },
    {
      "cell_type": "markdown",
      "metadata": {
        "id": "phFKD8KKmgkF"
      },
      "source": [
        "##Test and Train\n",
        "Now we will split the dataset into 80% training data and 20% test data"
      ]
    },
    {
      "cell_type": "code",
      "execution_count": 28,
      "metadata": {
        "id": "77_0IJBRmuFT"
      },
      "outputs": [],
      "source": [
        "x_train, x_test, y_train, y_test = train_test_split(x, y, test_size=0.2)"
      ]
    },
    {
      "cell_type": "markdown",
      "metadata": {
        "id": "ZcjFH-MBnaml"
      },
      "source": [
        "##Create a new tree using only training data"
      ]
    },
    {
      "cell_type": "code",
      "execution_count": 29,
      "metadata": {
        "id": "ZS66hDodnmIX"
      },
      "outputs": [],
      "source": [
        "train_tree = DecisionTreeClassifier(criterion=\"entropy\", max_depth=4)\n",
        "\n",
        "# Create Decision Tree Classifer\n",
        "train_tree = train_tree.fit(x_train,y_train)"
      ]
    },
    {
      "cell_type": "markdown",
      "metadata": {
        "id": "meDBr2fatOqF"
      },
      "source": [
        "##Apply the new tree to our test data"
      ]
    },
    {
      "cell_type": "code",
      "execution_count": 30,
      "metadata": {
        "id": "UneJift1nxVb",
        "outputId": "3fa6d924-eebd-4a9d-f221-1f3278c356c8",
        "colab": {
          "base_uri": "https://localhost:8080/"
        }
      },
      "outputs": [
        {
          "output_type": "stream",
          "name": "stdout",
          "text": [
            "Accuracy: 0.6614409606404269\n"
          ]
        }
      ],
      "source": [
        "pred = train_tree.predict(x_test)\n",
        "print(\"Accuracy:\",metrics.accuracy_score(y_test, pred))"
      ]
    },
    {
      "cell_type": "markdown",
      "metadata": {
        "id": "uYl-WnlrNBbr"
      },
      "source": [
        "## Visualize the trained tree"
      ]
    },
    {
      "cell_type": "code",
      "execution_count": 31,
      "metadata": {
        "id": "JsdhyStgNEYy",
        "outputId": "ac95e3a6-ef72-46aa-abe1-3d6890436016",
        "colab": {
          "base_uri": "https://localhost:8080/",
          "height": 753
        }
      },
      "outputs": [
        {
          "output_type": "execute_result",
          "data": {
            "image/png": "[encoded data removed]",
            "text/plain": [
              "<IPython.core.display.Image object>"
            ]
          },
          "metadata": {},
          "execution_count": 31
        }
      ],
      "source": [
        "from six import StringIO\n",
        "from IPython.display import Image\n",
        "import pydotplus\n",
        "\n",
        "dot_data = StringIO()\n",
        "export_graphviz(train_tree, out_file=dot_data,\n",
        "                   feature_names=x.columns,class_names=['leave','stay'],\n",
        "                   filled=True,rounded=True, precision =2)\n",
        "\n",
        "graph=pydotplus.graph_from_dot_data(dot_data.getvalue())\n",
        "Image(graph.create_png())"
      ]
    },
    {
      "cell_type": "markdown",
      "metadata": {
        "id": "G0xA_kdGQ1Ln"
      },
      "source": [
        "## Did the model improve?\n",
        "👎  👍"
      ]
    },
    {
      "cell_type": "markdown",
      "metadata": {
        "id": "ifaSgkFK12vd"
      },
      "source": [
        "## Fine Tune the Tree - Step 1\n",
        "\n",
        "➡️ Assignment Tasks\n",
        "- Create a new tree object using half the branch depth.  \n",
        "- Display the accuracy of the new tree.  How does this affect the accuracy?"
      ]
    },
    {
      "cell_type": "code",
      "execution_count": 33,
      "metadata": {
        "id": "CV1_Wecr12vd",
        "outputId": "2af09be3-021b-4fe9-c173-a411f84d4c10",
        "colab": {
          "base_uri": "https://localhost:8080/"
        }
      },
      "outputs": [
        {
          "output_type": "stream",
          "name": "stdout",
          "text": [
            "Original tree maximum depth: 6\n",
            "Original tree accuracy: 1.0000\n",
            "New tree (depth 3) accuracy: 1.0000\n",
            "Accuracy change: 0.0000\n"
          ]
        }
      ],
      "source": [
        "from sklearn.tree import DecisionTreeClassifier\n",
        "from sklearn.model_selection import train_test_split\n",
        "from sklearn.metrics import accuracy_score\n",
        "from sklearn.datasets import load_iris\n",
        "\n",
        "# Load the dataset (Iris dataset as an example)\n",
        "data = load_iris()\n",
        "X, y = data.data, data.target\n",
        "\n",
        "# Split the dataset into training and testing sets\n",
        "X_train, X_test, y_train, y_test = train_test_split(X, y, test_size=0.2, random_state=42)\n",
        "\n",
        "# Create the original decision tree\n",
        "original_tree = DecisionTreeClassifier(random_state=42)\n",
        "original_tree.fit(X_train, y_train)\n",
        "\n",
        "# Get the maximum depth of the original tree\n",
        "max_depth = original_tree.get_depth()\n",
        "print(f\"Original tree maximum depth: {max_depth}\")\n",
        "\n",
        "# Create a new decision tree with half the original depth\n",
        "new_depth = max(1, max_depth // 2)  # Ensure the minimum depth is at least 1\n",
        "new_tree = DecisionTreeClassifier(max_depth=new_depth, random_state=42)\n",
        "new_tree.fit(X_train, y_train)\n",
        "\n",
        "# Compute and display the accuracy of both models\n",
        "original_accuracy = accuracy_score(y_test, original_tree.predict(X_test))\n",
        "new_accuracy = accuracy_score(y_test, new_tree.predict(X_test))\n",
        "\n",
        "print(f\"Original tree accuracy: {original_accuracy:.4f}\")\n",
        "print(f\"New tree (depth {new_depth}) accuracy: {new_accuracy:.4f}\")\n",
        "\n",
        "# Analyze the accuracy change\n",
        "accuracy_change = new_accuracy - original_accuracy\n",
        "print(f\"Accuracy change: {accuracy_change:.4f}\")\n"
      ]
    },
    {
      "cell_type": "markdown",
      "metadata": {
        "id": "h1vM2I7L12vd"
      },
      "source": [
        "## Fine Tune the Tree - Step 2\n",
        "\n",
        "➡️ Assignment Tasks\n",
        "- Create a new tree object using double the original branch depth.  \n",
        "- Display the accuracy of the new tree.  How does this affect the accuracy?"
      ]
    },
    {
      "cell_type": "code",
      "execution_count": 34,
      "metadata": {
        "id": "xfkXWdRn12vd",
        "outputId": "cdccb22b-96c9-481f-cb2b-36b9dcebd036",
        "colab": {
          "base_uri": "https://localhost:8080/"
        }
      },
      "outputs": [
        {
          "output_type": "stream",
          "name": "stdout",
          "text": [
            "Original tree maximum depth: 6\n",
            "Original tree accuracy: 1.0000\n",
            "New tree (depth 12) accuracy: 1.0000\n",
            "Accuracy change: 0.0000\n"
          ]
        }
      ],
      "source": [
        "from sklearn.tree import DecisionTreeClassifier\n",
        "from sklearn.model_selection import train_test_split\n",
        "from sklearn.metrics import accuracy_score\n",
        "from sklearn.datasets import load_iris\n",
        "\n",
        "# Load dataset (Iris dataset as an example)\n",
        "data = load_iris()\n",
        "X, y = data.data, data.target\n",
        "\n",
        "# Split dataset into training and testing sets\n",
        "X_train, X_test, y_train, y_test = train_test_split(X, y, test_size=0.2, random_state=42)\n",
        "\n",
        "# Create the original decision tree\n",
        "original_tree = DecisionTreeClassifier(random_state=42)\n",
        "original_tree.fit(X_train, y_train)\n",
        "\n",
        "# Get the maximum depth of the original tree\n",
        "original_max_depth = original_tree.get_depth()\n",
        "print(f\"Original tree maximum depth: {original_max_depth}\")\n",
        "\n",
        "# Create a new tree with double the original depth\n",
        "new_depth = original_max_depth * 2  # Double the depth\n",
        "new_tree = DecisionTreeClassifier(max_depth=new_depth, random_state=42)\n",
        "new_tree.fit(X_train, y_train)\n",
        "\n",
        "# Compute and display accuracy for both models\n",
        "original_accuracy = accuracy_score(y_test, original_tree.predict(X_test))\n",
        "new_accuracy = accuracy_score(y_test, new_tree.predict(X_test))\n",
        "\n",
        "print(f\"Original tree accuracy: {original_accuracy:.4f}\")\n",
        "print(f\"New tree (depth {new_depth}) accuracy: {new_accuracy:.4f}\")\n",
        "\n",
        "# Analyze the accuracy change\n",
        "accuracy_change = new_accuracy - original_accuracy\n",
        "print(f\"Accuracy change: {accuracy_change:.4f}\")\n"
      ]
    },
    {
      "cell_type": "markdown",
      "metadata": {
        "id": "dNkZh_1Y12vd"
      },
      "source": [
        "## Fine Tune the Tree - Step 3\n",
        "\n",
        "➡️ Assignment Tasks\n",
        "- Create a new tree with the maximum depth possible.  \n",
        "- Display the accuracy of the new tree.  How does this affect the accuracy?"
      ]
    },
    {
      "cell_type": "code",
      "execution_count": 35,
      "metadata": {
        "id": "GSsdlH7N12ve",
        "outputId": "6c280afc-a6f6-47eb-c3ba-315558963750",
        "colab": {
          "base_uri": "https://localhost:8080/"
        }
      },
      "outputs": [
        {
          "output_type": "stream",
          "name": "stdout",
          "text": [
            "New tree (maximum depth) accuracy: 1.0000\n"
          ]
        }
      ],
      "source": [
        "from sklearn.tree import DecisionTreeClassifier\n",
        "from sklearn.model_selection import train_test_split\n",
        "from sklearn.metrics import accuracy_score\n",
        "from sklearn.datasets import load_iris\n",
        "\n",
        "# Load dataset (Iris dataset as an example)\n",
        "data = load_iris()\n",
        "X, y = data.data, data.target\n",
        "\n",
        "# Split dataset into training and testing sets\n",
        "X_train, X_test, y_train, y_test = train_test_split(X, y, test_size=0.2, random_state=42)\n",
        "\n",
        "# Create a decision tree with the maximum depth possible (no depth limit)\n",
        "max_depth_tree = DecisionTreeClassifier(max_depth=None, random_state=42)\n",
        "max_depth_tree.fit(X_train, y_train)\n",
        "\n",
        "# Compute and display accuracy\n",
        "max_depth_accuracy = accuracy_score(y_test, max_depth_tree.predict(X_test))\n",
        "\n",
        "print(f\"New tree (maximum depth) accuracy: {max_depth_accuracy:.4f}\")\n"
      ]
    },
    {
      "cell_type": "markdown",
      "metadata": {
        "id": "fBw7sMU212ve"
      },
      "source": [
        "## Fine Tune the Tree - Step 4\n",
        "\n",
        "➡️ Assignment Tasks\n",
        "- What is the maximum accuracy that you can achieve with 5 levels using other parameters, like test/training percentage, min_bucket, or min_split?  \n",
        "- Display the accuracy of the new tree.  It must be more accurate than the previous three steps"
      ]
    },
    {
      "cell_type": "code",
      "execution_count": 36,
      "metadata": {
        "id": "bmOBHSBX12ve",
        "outputId": "36ade214-7462-49b1-c141-3dc81d0f7e2b",
        "colab": {
          "base_uri": "https://localhost:8080/"
        }
      },
      "outputs": [
        {
          "output_type": "stream",
          "name": "stdout",
          "text": [
            "Best accuracy with max_depth=5: 1.0000\n",
            "Best parameters: {'test_size': 0.1, 'min_samples_split': 2, 'min_samples_leaf': 1}\n"
          ]
        }
      ],
      "source": [
        "from sklearn.tree import DecisionTreeClassifier\n",
        "from sklearn.model_selection import train_test_split\n",
        "from sklearn.metrics import accuracy_score\n",
        "from sklearn.datasets import load_iris\n",
        "\n",
        "# Load dataset (Iris dataset as an example)\n",
        "data = load_iris()\n",
        "X, y = data.data, data.target\n",
        "\n",
        "# Experiment with different train-test splits\n",
        "best_accuracy = 0\n",
        "best_params = {}\n",
        "\n",
        "for test_size in [0.1, 0.2, 0.3]:  # Trying different train-test splits\n",
        "    for min_samples_split in [2, 5, 10]:  # Adjusting min split size\n",
        "        for min_samples_leaf in [1, 2, 5]:  # Adjusting min bucket size\n",
        "\n",
        "            # Split dataset\n",
        "            X_train, X_test, y_train, y_test = train_test_split(X, y, test_size=test_size, random_state=42)\n",
        "\n",
        "            # Create a decision tree with max depth = 5\n",
        "            tree = DecisionTreeClassifier(max_depth=5, min_samples_split=min_samples_split, min_samples_leaf=min_samples_leaf, random_state=42)\n",
        "            tree.fit(X_train, y_train)\n",
        "\n",
        "            # Compute accuracy\n",
        "            accuracy = accuracy_score(y_test, tree.predict(X_test))\n",
        "\n",
        "            # Save best parameters if accuracy improves\n",
        "            if accuracy > best_accuracy:\n",
        "                best_accuracy = accuracy\n",
        "                best_params = {\n",
        "                    \"test_size\": test_size,\n",
        "                    \"min_samples_split\": min_samples_split,\n",
        "                    \"min_samples_leaf\": min_samples_leaf\n",
        "                }\n",
        "\n",
        "# Display the best accuracy and parameters\n",
        "print(f\"Best accuracy with max_depth=5: {best_accuracy:.4f}\")\n",
        "print(f\"Best parameters: {best_params}\")\n"
      ]
    }
  ],
  "metadata": {
    "colab": {
      "name": "Module5_Script_v1.4.ipynb",
      "provenance": []
    },
    "kernelspec": {
      "display_name": "Python 3",
      "name": "python3"
    },
    "language_info": {
      "name": "python"
    }
  },
  "nbformat": 4,
  "nbformat_minor": 0
}