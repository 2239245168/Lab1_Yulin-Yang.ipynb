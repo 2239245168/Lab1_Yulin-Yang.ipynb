{
  "cells": [
    {
      "cell_type": "markdown",
      "metadata": {
        "id": "CFcJiDRJHV2T"
      },
      "source": [
        "# IS 4487 Lab 13\n",
        "\n",
        "## Learning Objectives\n",
        "1. Select appropriate variables for a cluster analysis\n",
        "2. Learn to fit and adjust a cluster analysis model based on similar customer behavioural patterns.\n",
        "3. Interpret the output of the model\n",
        "\n",
        "## Lab Tasks\n",
        "1. Import and prepare data using the *SuperStore Retail Orders* dataset\n",
        "2. Convert categorical variables to numbers or boolean\n",
        "3. Fit a K-means model with 5 clusters\n",
        "4. Display and analyze the results\n",
        "\n",
        "<a href=\"https://colab.research.google.com/github/Stan-Pugsley/is_4487_base/blob/main/Labs/Scripts/lab_13_retailer_cluster_analysis.ipynb\" target=\"_parent\"><img src=\"https://colab.research.google.com/assets/colab-badge.svg\" alt=\"Open In Colab\"/></a>\n"
      ]
    },
    {
      "cell_type": "markdown",
      "metadata": {
        "id": "4Qpr1ShHHV2W"
      },
      "source": [
        "## Superstore Data Dictionary\n",
        "\n",
        " ORDER VARIABLES:\n",
        " - Order ID\n",
        " - Order Date\n",
        " - Order Year Month - Year and month of the order\n",
        " - Order Type - Was the order completed at a store or online? (Retail, Online)\n",
        " - Quantity - Quantity ordered for the product\n",
        "\n",
        " CUSTOMER VARIABLES:\n",
        " - Customer Name\n",
        " - City\n",
        " - State Province\n",
        " - Email\n",
        "\n",
        "\n",
        "PRODUCT VARIABLES:\n",
        " - Product Name\n",
        " - Product Line - Category of the product (i.e. Bikes Phones)\n",
        " - Product Price - Price in US Dollars\n",
        " - Product Status - Current status of the product (Active, Inactive)"
      ]
    },
    {
      "cell_type": "markdown",
      "metadata": {
        "id": "YKdmcJ2SHV2X"
      },
      "source": [
        "## Load Libraries\n",
        "\n",
        "➡️ Assignment Tasks\n",
        "- Load any other necessary libraries, in addition to those below"
      ]
    },
    {
      "cell_type": "code",
      "execution_count": 1,
      "metadata": {
        "vscode": {
          "languageId": "plaintext"
        },
        "id": "HCBkhEHaHV2X"
      },
      "outputs": [],
      "source": [
        "import pandas as pd\n",
        "from sklearn.preprocessing import OneHotEncoder\n",
        "from sklearn.cluster import KMeans"
      ]
    },
    {
      "cell_type": "code",
      "source": [
        "# Recommended additional libraries for preprocessing and visualization\n",
        "from sklearn.preprocessing import StandardScaler  # 用于数据标准化\n",
        "from sklearn.decomposition import PCA             # 可视化降维\n",
        "import matplotlib.pyplot as plt                   # 绘图\n",
        "import seaborn as sns                             # 更美观的图表（可选）\n",
        "\n",
        "# Optional: display settings for better readability (适用于Jupyter/Colab环境)\n",
        "pd.set_option('display.max_columns', None)"
      ],
      "metadata": {
        "id": "kKdaTFrxH-jr"
      },
      "execution_count": 2,
      "outputs": []
    },
    {
      "cell_type": "markdown",
      "metadata": {
        "id": "1PsfWeTbHV2X"
      },
      "source": [
        "## Import Data into Dataframe\n",
        "\n",
        "➡️ Assignment Tasks\n",
        "- Import data from the SuperStore retail dataset into a dataframe (in GitHub go to Labs > DataSets)\n",
        "- Describe or profile the dataframe"
      ]
    },
    {
      "cell_type": "code",
      "execution_count": 5,
      "metadata": {
        "vscode": {
          "languageId": "plaintext"
        },
        "colab": {
          "base_uri": "https://localhost:8080/"
        },
        "id": "MDvCcc3iHV2Y",
        "outputId": "48a6468e-25af-4c4a-c5d5-9080bd25d710"
      },
      "outputs": [
        {
          "output_type": "stream",
          "name": "stdout",
          "text": [
            "🔹 First 5 Rows:\n",
            "   order_id  order_date order_year_month  customer_name               city  \\\n",
            "0     51188  2023-07-01          2023-07  Audrey Blanco  North Cherylmouth   \n",
            "1     51187  2023-07-01          2023-07    Isaac Allen         Traceyland   \n",
            "2     51199  2023-07-02          2023-07     Ian Morgan          Dylanberg   \n",
            "3     51241  2023-07-04          2023-07     Alexa Bell     Lake Tracytown   \n",
            "4     51297  2023-07-08          2023-07     Casey Diaz        Byrdchester   \n",
            "\n",
            "  state_province                    email order_type  quantity  \\\n",
            "0  New Hampshire  audrey_blanco@email.com     Retail       3.0   \n",
            "1  West Virginia    isaac_allen@email.com     Online       4.0   \n",
            "2   South Dakota     ian_morgan@email.com     Online       5.0   \n",
            "3      Wisconsin     alexa_bell@email.com     Online       1.0   \n",
            "4    Mississippi     casey_diaz@email.com     Online       1.0   \n",
            "\n",
            "                                        product_name product_line  \\\n",
            "0  Apple iPhone XR (Yellow, 256 GB) (Includes Ear...       Mobile   \n",
            "1  Apple iPhone XR (Yellow, 256 GB) (Includes Ear...       Mobile   \n",
            "2  Apple iPhone XR (Yellow, 256 GB) (Includes Ear...       Mobile   \n",
            "3  Apple iPhone XR (Yellow, 256 GB) (Includes Ear...       Mobile   \n",
            "4  Apple iPhone XR (Yellow, 256 GB) (Includes Ear...       Mobile   \n",
            "\n",
            "   product_price product_status  \n",
            "0         649.99         Active  \n",
            "1         649.99         Active  \n",
            "2         649.99         Active  \n",
            "3         649.99         Active  \n",
            "4         649.99         Active  \n",
            "\n",
            "🔹 DataFrame Shape:\n",
            "(56043, 13)\n",
            "\n",
            "🔹 DataFrame Info:\n",
            "<class 'pandas.core.frame.DataFrame'>\n",
            "RangeIndex: 56043 entries, 0 to 56042\n",
            "Data columns (total 13 columns):\n",
            " #   Column            Non-Null Count  Dtype  \n",
            "---  ------            --------------  -----  \n",
            " 0   order_id          56043 non-null  int64  \n",
            " 1   order_date        56011 non-null  object \n",
            " 2   order_year_month  56011 non-null  object \n",
            " 3   customer_name     56043 non-null  object \n",
            " 4   city              55569 non-null  object \n",
            " 5   state_province    55569 non-null  object \n",
            " 6   email             56043 non-null  object \n",
            " 7   order_type        56043 non-null  object \n",
            " 8   quantity          56004 non-null  float64\n",
            " 9   product_name      56043 non-null  object \n",
            " 10  product_line      56043 non-null  object \n",
            " 11  product_price     56043 non-null  float64\n",
            " 12  product_status    56043 non-null  object \n",
            "dtypes: float64(2), int64(1), object(10)\n",
            "memory usage: 5.6+ MB\n",
            "None\n",
            "\n",
            "🔹 Summary Statistics (numeric):\n",
            "           order_id       quantity  product_price\n",
            "count  56043.000000   56004.000000   56043.000000\n",
            "mean   61668.410578       3.348582    6198.309433\n",
            "std     7508.142486     422.654112   35784.965255\n",
            "min    45079.000000       1.000000       2.290000\n",
            "25%    55644.500000       1.000000       7.950000\n",
            "50%    61870.000000       1.000000     475.600000\n",
            "75%    68097.000000       2.000000     914.620000\n",
            "max    74147.000000  100000.000000  235481.000000\n",
            "\n",
            "🔹 Missing Values Count:\n",
            "order_id              0\n",
            "order_date           32\n",
            "order_year_month     32\n",
            "customer_name         0\n",
            "city                474\n",
            "state_province      474\n",
            "email                 0\n",
            "order_type            0\n",
            "quantity             39\n",
            "product_name          0\n",
            "product_line          0\n",
            "product_price         0\n",
            "product_status        0\n",
            "dtype: int64\n"
          ]
        }
      ],
      "source": [
        "# Step 1: Import data into a DataFrame\n",
        "# Use the 'raw' URL to access the raw CSV data from GitHub\n",
        "df = pd.read_csv('https://raw.githubusercontent.com/Stan-Pugsley/is_4487_base/main/Labs/DataSets/superstore_retail_orders.csv')  # Changed URL to raw content URL\n",
        "\n",
        "# Step 2: Preview the dataset\n",
        "print(\"🔹 First 5 Rows:\")\n",
        "print(df.head())\n",
        "\n",
        "# Step 3: Check DataFrame shape\n",
        "print(\"\\n🔹 DataFrame Shape:\")\n",
        "print(df.shape)\n",
        "\n",
        "# Step 4: Display column names and types\n",
        "print(\"\\n🔹 DataFrame Info:\")\n",
        "print(df.info())\n",
        "\n",
        "# Step 5: Basic statistics for numeric columns\n",
        "print(\"\\n🔹 Summary Statistics (numeric):\")\n",
        "print(df.describe())\n",
        "\n",
        "# Optional: Check for missing values\n",
        "print(\"\\n🔹 Missing Values Count:\")\n",
        "print(df.isnull().sum())"
      ]
    },
    {
      "cell_type": "markdown",
      "metadata": {
        "id": "2BpjiNXcHV2Y"
      },
      "source": [
        "## Prepare Data\n",
        "Note that K-Means requires that all variables be numbers or boolean.  No categorical variables are allowed.\n",
        "\n",
        "➡️ Assignment Tasks\n",
        "- Copy your dataframe into a new version, so that the original data is still available\n",
        "- Create any needed variables, such as month of year and total_amount.  \n",
        "- Filter out any incomplete orders\n",
        "- Convert the OrderType and Product Line variables to multiple one-hot variables using OneHotEncoder (one variable for each value)\n",
        "- Remove any variables that will be not be included (hint: only numeric variables are allowed)\n",
        "- Remove any outliers that will cause a cluster to be created for the few records with the outlier value (pay close attention to dates, quantities and prices)\n",
        "\n",
        "*Notes:*\n",
        "- There is no need to split the data for cluster analysis.  Why is that the case?\n",
        "- You should think carefully about which variables to include.  They should be independent and numeric, and have some behavioural aspect for customers.  A date, for example, cannot be used unless it is somehow converted to a number.  "
      ]
    },
    {
      "cell_type": "code",
      "source": [
        "# Step 1: Copy original dataframe\n",
        "df_clean = df.copy()\n",
        "\n",
        "# Step 2: Create new variables: order_month and total_amount\n",
        "df_clean['order_date'] = pd.to_datetime(df_clean['order_date'], errors='coerce')\n",
        "df_clean['order_month'] = df_clean['order_date'].dt.month\n",
        "df_clean['total_amount'] = df_clean['quantity'] * df_clean['product_price']\n",
        "\n",
        "# Step 3: Filter out incomplete or invalid records\n",
        "df_clean = df_clean.dropna(subset=['order_type', 'quantity', 'product_line', 'product_price', 'order_date'])\n",
        "\n",
        "# Step 4: One-hot encode categorical variables\n",
        "from sklearn.preprocessing import OneHotEncoder\n",
        "\n",
        "cat_vars = ['order_type', 'product_line']\n",
        "# The 'sparse' argument was introduced in a later version of scikit-learn.\n",
        "# If you are using an older version, remove this argument.\n",
        "encoder = OneHotEncoder(drop='first')  # drop first to avoid multicollinearity\n",
        "encoded = encoder.fit_transform(df_clean[cat_vars])\n",
        "encoded_df = pd.DataFrame(encoded.toarray(), columns=encoder.get_feature_names_out(cat_vars)) # Convert sparse matrix to dense array\n",
        "\n",
        "# Step 5: Combine encoded and numeric features\n",
        "df_model = pd.concat([\n",
        "    df_clean[['quantity', 'product_price', 'order_month', 'total_amount']].reset_index(drop=True),\n",
        "    encoded_df.reset_index(drop=True)\n",
        "], axis=1)\n",
        "\n",
        "# Step 6: Remove outliers using IQR method\n",
        "def remove_outliers_iqr(data, column):\n",
        "    Q1 = data[column].quantile(0.25)\n",
        "    Q3 = data[column].quantile(0.75)\n",
        "    IQR = Q3 - Q1\n",
        "    lower = Q1 - 1.5 * IQR\n",
        "    upper = Q3 + 1.5 * IQR\n",
        "    return data[(data[column] >= lower) & (data[column] <= upper)]\n",
        "\n",
        "df_model = remove_outliers_iqr(df_model, 'quantity')\n",
        "df_model = remove_outliers_iqr(df_model, 'product_price')\n",
        "df_model = remove_outliers_iqr(df_model, 'total_amount')\n",
        "\n",
        "# Step 7: Final check\n",
        "print(\"🔹 Final model data shape:\", df_model.shape)\n",
        "print(\"🔹 Sample of data used for clustering:\")\n",
        "print(df_model.head())\n"
      ],
      "metadata": {
        "id": "U_lZimPqKbWl",
        "outputId": "702d9167-24a9-4206-b754-220645b03d11",
        "colab": {
          "base_uri": "https://localhost:8080/"
        }
      },
      "execution_count": 19,
      "outputs": [
        {
          "output_type": "stream",
          "name": "stdout",
          "text": [
            "🔹 Final model data shape: (51575, 13)\n",
            "🔹 Sample of data used for clustering:\n",
            "   quantity  product_price  order_month  total_amount  order_type_Retail  \\\n",
            "0       3.0         649.99          7.0       1949.97                1.0   \n",
            "3       1.0         649.99          7.0        649.99                0.0   \n",
            "4       1.0         649.99          7.0        649.99                0.0   \n",
            "5       1.0         649.99          7.0        649.99                0.0   \n",
            "6       1.0         649.99          7.0        649.99                0.0   \n",
            "\n",
            "   product_line_Bikes  product_line_Cameras  product_line_Clothing  \\\n",
            "0                 0.0                   0.0                    0.0   \n",
            "3                 0.0                   0.0                    0.0   \n",
            "4                 0.0                   0.0                    0.0   \n",
            "5                 0.0                   0.0                    0.0   \n",
            "6                 0.0                   0.0                    0.0   \n",
            "\n",
            "   product_line_Electronics  product_line_Laptop  product_line_Mobile  \\\n",
            "0                       0.0                  0.0                  1.0   \n",
            "3                       0.0                  0.0                  1.0   \n",
            "4                       0.0                  0.0                  1.0   \n",
            "5                       0.0                  0.0                  1.0   \n",
            "6                       0.0                  0.0                  1.0   \n",
            "\n",
            "   product_line_OfficeProducts  product_line_Projector  \n",
            "0                          0.0                     0.0  \n",
            "3                          0.0                     0.0  \n",
            "4                          0.0                     0.0  \n",
            "5                          0.0                     0.0  \n",
            "6                          0.0                     0.0  \n"
          ]
        }
      ]
    },
    {
      "cell_type": "markdown",
      "metadata": {
        "id": "-aNR46iiHV2Z"
      },
      "source": [
        "## Create Model\n",
        "\n",
        "For more info on K-means in python, see: https://realpython.com/k-means-clustering-python/\n",
        "\n",
        "➡️ Assignment Tasks\n",
        "- Fit the K-means model using the Kmeans method\n",
        "- Use 5 clusters"
      ]
    },
    {
      "cell_type": "code",
      "execution_count": 20,
      "metadata": {
        "vscode": {
          "languageId": "plaintext"
        },
        "colab": {
          "base_uri": "https://localhost:8080/"
        },
        "id": "VXspvdIkHV2Z",
        "outputId": "e432d762-8b9c-4135-9d50-68b192225b8c"
      },
      "outputs": [
        {
          "output_type": "stream",
          "name": "stdout",
          "text": [
            "🔹 Cluster size distribution:\n",
            "cluster\n",
            "0    21925\n",
            "1    15211\n",
            "3     7579\n",
            "4     5108\n",
            "2     1752\n",
            "Name: count, dtype: int64\n"
          ]
        }
      ],
      "source": [
        "from sklearn.cluster import KMeans\n",
        "from sklearn.preprocessing import StandardScaler\n",
        "\n",
        "# Step 1: Standardize the data (if not already done)\n",
        "scaler = StandardScaler()\n",
        "scaled_data = scaler.fit_transform(df_model)\n",
        "\n",
        "# Step 2: Create and fit KMeans model with 5 clusters\n",
        "kmeans = KMeans(n_clusters=5, random_state=42, n_init=10)\n",
        "kmeans.fit(scaled_data)\n",
        "\n",
        "# Step 3: Get cluster labels\n",
        "cluster_labels = kmeans.labels_\n",
        "\n",
        "# Step 4: Add cluster labels back to your cleaned dataset (aligned by index)\n",
        "df_clean = df_clean.iloc[df_model.index].copy()\n",
        "df_clean['cluster'] = cluster_labels\n",
        "\n",
        "# Optional: print cluster counts\n",
        "print(\"🔹 Cluster size distribution:\")\n",
        "print(df_clean['cluster'].value_counts())\n"
      ]
    },
    {
      "cell_type": "markdown",
      "metadata": {
        "id": "4mtwBocqHV2Z"
      },
      "source": [
        "## Analyze the Clusters\n",
        "\n",
        "➡️ Assignment Tasks\n",
        "- create at least two visualizations to show the clusters (try a Bar Chart, Pair Plot or Scatter Plot)\n",
        "- Display the cluster and mean values for each of the variables"
      ]
    },
    {
      "cell_type": "code",
      "execution_count": 21,
      "metadata": {
        "vscode": {
          "languageId": "plaintext"
        },
        "colab": {
          "base_uri": "https://localhost:8080/",
          "height": 1000
        },
        "id": "uPo3BdwdHV2Z",
        "outputId": "bcf864d8-4438-47d4-dcda-c0cd3dee7817"
      },
      "outputs": [
        {
          "output_type": "stream",
          "name": "stdout",
          "text": [
            "🔹 Cluster Mean Values:\n",
            "         quantity  product_price  order_month  total_amount\n",
            "cluster                                                    \n",
            "0        1.944629      11.241283     6.361277     17.405593\n",
            "1        1.327460     697.004200     6.360857    915.153926\n",
            "2        1.001142    1013.876210     6.389840   1014.618208\n",
            "3        1.000000    1688.767304     6.298852   1688.767304\n",
            "4        1.102780      51.314368     6.349060     52.238359\n"
          ]
        },
        {
          "output_type": "stream",
          "name": "stderr",
          "text": [
            "<ipython-input-21-5153c938c6de>:17: FutureWarning: \n",
            "\n",
            "Passing `palette` without assigning `hue` is deprecated and will be removed in v0.14.0. Assign the `x` variable to `hue` and set `legend=False` for the same effect.\n",
            "\n",
            "  sns.countplot(x='cluster', data=df_clean, palette='Set2')\n"
          ]
        },
        {
          "output_type": "display_data",
          "data": {
            "text/plain": [
              "<Figure size 800x500 with 1 Axes>"
            ],
            "image/png": "[encoded data removed]"
          },
          "metadata": {}
        },
        {
          "output_type": "display_data",
          "data": {
            "text/plain": [
              "<Figure size 1000x600 with 1 Axes>"
            ],
            "image/png": "[encoded data removed]"
          },
          "metadata": {}
        }
      ],
      "source": [
        "import matplotlib.pyplot as plt\n",
        "import seaborn as sns\n",
        "import pandas as pd\n",
        "\n",
        "# Step 1: Cluster Summary Statistics (平均值)\n",
        "cluster_summary = df_clean.groupby('cluster')[['quantity', 'product_price', 'order_month', 'total_amount']].mean()\n",
        "print(\"🔹 Cluster Mean Values:\")\n",
        "print(cluster_summary)\n",
        "\n",
        "# Optional: 可导出成CSV\n",
        "# cluster_summary.to_csv(\"cluster_summary.csv\", index=True)\n",
        "\n",
        "# ---------------------------\n",
        "# Visualization #1: Bar Chart of Cluster Sizes\n",
        "# ---------------------------\n",
        "plt.figure(figsize=(8, 5))\n",
        "sns.countplot(x='cluster', data=df_clean, palette='Set2')\n",
        "plt.title('Cluster Size Distribution')\n",
        "plt.xlabel('Cluster')\n",
        "plt.ylabel('Number of Customers')\n",
        "plt.grid(axis='y')\n",
        "plt.show()\n",
        "\n",
        "# ---------------------------\n",
        "# Visualization #2: PCA Scatter Plot (Cluster Separation View)\n",
        "# ---------------------------\n",
        "from sklearn.decomposition import PCA\n",
        "\n",
        "# Reuse the scaled data from before\n",
        "pca = PCA(n_components=2)\n",
        "pca_data = pca.fit_transform(scaled_data)\n",
        "\n",
        "plt.figure(figsize=(10, 6))\n",
        "sns.scatterplot(x=pca_data[:, 0], y=pca_data[:, 1], hue=df_clean['cluster'], palette='Set1', s=15)\n",
        "plt.title('Customer Segmentation (PCA 2D)')\n",
        "plt.xlabel('PCA Component 1')\n",
        "plt.ylabel('PCA Component 2')\n",
        "plt.legend(title='Cluster')\n",
        "plt.grid(True)\n",
        "plt.show()\n"
      ]
    }
  ],
  "metadata": {
    "language_info": {
      "name": "python"
    },
    "colab": {
      "provenance": []
    },
    "kernelspec": {
      "name": "python3",
      "display_name": "Python 3"
    }
  },
  "nbformat": 4,
  "nbformat_minor": 0
}