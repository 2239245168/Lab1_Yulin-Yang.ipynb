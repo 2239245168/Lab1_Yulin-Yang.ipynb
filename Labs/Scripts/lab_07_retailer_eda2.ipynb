{
  "cells": [
    {
      "cell_type": "markdown",
      "metadata": {
        "id": "yztEtmJNOLIq"
      },
      "source": [
        "# IS 4487 Lab 7\n",
        "\n",
        "## Outline\n",
        "\n",
        "Begin where you left on in Lab 6 with the *SuperStore Retail Orders* dataset.\n",
        "This lab will ask you to do a deeper data exploration\n",
        "\n",
        "<a href=\"https://colab.research.google.com/github/Stan-Pugsley/is_4487_base/blob/main/Labs/Scripts/lab_07_retailer_eda2.ipynb\" target=\"_parent\"><img src=\"https://colab.research.google.com/assets/colab-badge.svg\" alt=\"Open In Colab\"/></a>"
      ]
    },
    {
      "cell_type": "markdown",
      "metadata": {
        "id": "J2n0nf5UOLIr"
      },
      "source": [
        "## Superstore Data Dictionary\n",
        "\n",
        " ORDER VARIABLES:\n",
        " - Order ID\n",
        " - Order Date\n",
        " - Order Year Month - Year and month of the order\n",
        " - Order Type - Was the order completed at a store or online? (Retail, Online)\n",
        " - Quantity - Quantity ordered for the product\n",
        "\n",
        " CUSTOMER VARIABLES:\n",
        " - Customer Name\n",
        " - City\n",
        " - State Province\n",
        " - Email\n",
        "\n",
        "PRODUCT VARIABLES:\n",
        " - Product Name\n",
        " - Product Line - Category of the product (i.e. Bikes Phones)\n",
        " - Product Price - Price in US Dollars\n",
        " - Product Status - Current status of the product (Active, Inactive)"
      ]
    },
    {
      "cell_type": "markdown",
      "metadata": {
        "id": "X_xBaMVcOLIs"
      },
      "source": [
        "## Load Libraries\n",
        "\n",
        "➡️ Assignment Tasks\n",
        "- Load any necessary libraries"
      ]
    },
    {
      "cell_type": "markdown",
      "metadata": {
        "id": "34H4htbsOLIs"
      },
      "source": []
    },
    {
      "cell_type": "code",
      "execution_count": 1,
      "metadata": {
        "vscode": {
          "languageId": "plaintext"
        },
        "id": "Cy5ra5TfOLIs"
      },
      "outputs": [],
      "source": [
        "import pandas as pd\n",
        "import numpy as np\n",
        "import matplotlib.pyplot as plt\n",
        "import seaborn as sns"
      ]
    },
    {
      "cell_type": "markdown",
      "metadata": {
        "id": "LSC65Y3GOLIt"
      },
      "source": [
        "## Import Data into Dataframe\n",
        "\n",
        "➡️ Assignment Tasks\n",
        "- Import data from the SuperStore retail dataset into a dataframe (in GitHub go to Labs > DataSets)\n",
        "- Describe or profile the dataframe"
      ]
    },
    {
      "cell_type": "code",
      "execution_count": 7,
      "metadata": {
        "vscode": {
          "languageId": "plaintext"
        },
        "colab": {
          "base_uri": "https://localhost:8080/"
        },
        "id": "HnqQL3mzOLIt",
        "outputId": "c1a5f70c-b2be-48b3-c3e7-938d85850e6c"
      },
      "outputs": [
        {
          "output_type": "stream",
          "name": "stdout",
          "text": [
            "Preview of the dataset:\n",
            "   order_id  order_date order_year_month  customer_name               city  \\\n",
            "0     51188  2023-07-01          2023-07  Audrey Blanco  North Cherylmouth   \n",
            "1     51187  2023-07-01          2023-07    Isaac Allen         Traceyland   \n",
            "2     51199  2023-07-02          2023-07     Ian Morgan          Dylanberg   \n",
            "3     51241  2023-07-04          2023-07     Alexa Bell     Lake Tracytown   \n",
            "4     51297  2023-07-08          2023-07     Casey Diaz        Byrdchester   \n",
            "\n",
            "  state_province                    email order_type  quantity  \\\n",
            "0  New Hampshire  audrey_blanco@email.com     Retail       3.0   \n",
            "1  West Virginia    isaac_allen@email.com     Online       4.0   \n",
            "2   South Dakota     ian_morgan@email.com     Online       5.0   \n",
            "3      Wisconsin     alexa_bell@email.com     Online       1.0   \n",
            "4    Mississippi     casey_diaz@email.com     Online       1.0   \n",
            "\n",
            "                                        product_name product_line  \\\n",
            "0  Apple iPhone XR (Yellow, 256 GB) (Includes Ear...       Mobile   \n",
            "1  Apple iPhone XR (Yellow, 256 GB) (Includes Ear...       Mobile   \n",
            "2  Apple iPhone XR (Yellow, 256 GB) (Includes Ear...       Mobile   \n",
            "3  Apple iPhone XR (Yellow, 256 GB) (Includes Ear...       Mobile   \n",
            "4  Apple iPhone XR (Yellow, 256 GB) (Includes Ear...       Mobile   \n",
            "\n",
            "   product_price product_status  \n",
            "0         649.99         Active  \n",
            "1         649.99         Active  \n",
            "2         649.99         Active  \n",
            "3         649.99         Active  \n",
            "4         649.99         Active  \n",
            "\n",
            "Dataframe Info:\n",
            "<class 'pandas.core.frame.DataFrame'>\n",
            "RangeIndex: 56043 entries, 0 to 56042\n",
            "Data columns (total 13 columns):\n",
            " #   Column            Non-Null Count  Dtype  \n",
            "---  ------            --------------  -----  \n",
            " 0   order_id          56043 non-null  int64  \n",
            " 1   order_date        56011 non-null  object \n",
            " 2   order_year_month  56011 non-null  object \n",
            " 3   customer_name     56043 non-null  object \n",
            " 4   city              55569 non-null  object \n",
            " 5   state_province    55569 non-null  object \n",
            " 6   email             56043 non-null  object \n",
            " 7   order_type        56043 non-null  object \n",
            " 8   quantity          56004 non-null  float64\n",
            " 9   product_name      56043 non-null  object \n",
            " 10  product_line      56043 non-null  object \n",
            " 11  product_price     56043 non-null  float64\n",
            " 12  product_status    56043 non-null  object \n",
            "dtypes: float64(2), int64(1), object(10)\n",
            "memory usage: 5.6+ MB\n",
            "None\n",
            "\n",
            "Summary Statistics:\n",
            "           order_id       quantity  product_price\n",
            "count  56043.000000   56004.000000   56043.000000\n",
            "mean   61668.410578       3.348582    6198.309433\n",
            "std     7508.142486     422.654112   35784.965255\n",
            "min    45079.000000       1.000000       2.290000\n",
            "25%    55644.500000       1.000000       7.950000\n",
            "50%    61870.000000       1.000000     475.600000\n",
            "75%    68097.000000       2.000000     914.620000\n",
            "max    74147.000000  100000.000000  235481.000000\n",
            "\n",
            "Missing Values:\n",
            "order_id              0\n",
            "order_date           32\n",
            "order_year_month     32\n",
            "customer_name         0\n",
            "city                474\n",
            "state_province      474\n",
            "email                 0\n",
            "order_type            0\n",
            "quantity             39\n",
            "product_name          0\n",
            "product_line          0\n",
            "product_price         0\n",
            "product_status        0\n",
            "dtype: int64\n"
          ]
        }
      ],
      "source": [
        "df = pd.read_csv(\"https://raw.githubusercontent.com/Stan-Pugsley/is_4487_base/main/Labs/DataSets/superstore_retail_orders.csv\")\n",
        "\n",
        "print(\"Preview of the dataset:\")\n",
        "print(df.head())\n",
        "\n",
        "print(\"\\nDataframe Info:\")\n",
        "print(df.info())\n",
        "\n",
        "print(\"\\nSummary Statistics:\")\n",
        "print(df.describe())\n",
        "\n",
        "print(\"\\nMissing Values:\")\n",
        "print(df.isnull().sum())\n"
      ]
    },
    {
      "cell_type": "markdown",
      "metadata": {
        "id": "godv5EmuOLIt"
      },
      "source": [
        "## Prepare Data\n",
        "\n",
        "➡️ Assignment Tasks\n",
        "- Convert any numbers into the correct datatype if they are not already numeric\n",
        "- Convert any character variables in to categories if they are appropriate for that datatype\n",
        "- Check for outliers.   Remove any outliers that appear to be mistakes\n",
        "- Remove rows with empty (NULL) values\n",
        "- Identify at least one variable with a missing value that can be imputed.   Fill in those empty values.\n",
        "- Add a \"total_amount\" variable based on the quantity and price"
      ]
    },
    {
      "cell_type": "code",
      "execution_count": 8,
      "metadata": {
        "vscode": {
          "languageId": "plaintext"
        },
        "colab": {
          "base_uri": "https://localhost:8080/"
        },
        "id": "GSH-2ZZOOLIt",
        "outputId": "2f8b9f6d-b1da-47fa-9436-a9bba21d8857"
      },
      "outputs": [
        {
          "output_type": "stream",
          "name": "stdout",
          "text": [
            "Data types after conversion:\n",
            "order_id                     int64\n",
            "order_date          datetime64[ns]\n",
            "order_year_month            object\n",
            "customer_name               object\n",
            "city                        object\n",
            "state_province              object\n",
            "email                       object\n",
            "order_type                category\n",
            "quantity                   float64\n",
            "product_name                object\n",
            "product_line                object\n",
            "product_price              float64\n",
            "product_status            category\n",
            "dtype: object\n"
          ]
        }
      ],
      "source": [
        "# 确保数值型数据类型正确\n",
        "df[\"quantity\"] = pd.to_numeric(df[\"quantity\"], errors=\"coerce\")\n",
        "df[\"product_price\"] = pd.to_numeric(df[\"product_price\"], errors=\"coerce\")\n",
        "\n",
        "# 将 `order_type` 和 `product_status` 转换为类别变量\n",
        "df[\"order_type\"] = df[\"order_type\"].astype(\"category\")\n",
        "df[\"product_status\"] = df[\"product_status\"].astype(\"category\")\n",
        "\n",
        "# 确保 `order_date` 是日期类型\n",
        "df[\"order_date\"] = pd.to_datetime(df[\"order_date\"], errors=\"coerce\")\n",
        "\n",
        "print(\"Data types after conversion:\")\n",
        "print(df.dtypes)\n"
      ]
    },
    {
      "cell_type": "code",
      "execution_count": 10,
      "metadata": {
        "vscode": {
          "languageId": "plaintext"
        },
        "colab": {
          "base_uri": "https://localhost:8080/",
          "height": 820
        },
        "id": "pTR9SejUOLIt",
        "outputId": "4bd0f998-8eae-4a01-90cf-3b909352445c"
      },
      "outputs": [
        {
          "output_type": "display_data",
          "data": {
            "text/plain": [
              "<Figure size 1000x400 with 1 Axes>"
            ],
            "image/png": "[encoded data removed]"
          },
          "metadata": {}
        },
        {
          "output_type": "display_data",
          "data": {
            "text/plain": [
              "<Figure size 1000x400 with 1 Axes>"
            ],
            "image/png": "[encoded data removed]"
          },
          "metadata": {}
        },
        {
          "output_type": "stream",
          "name": "stdout",
          "text": [
            "Removed 4079 outliers\n"
          ]
        }
      ],
      "source": [
        "import seaborn as sns\n",
        "import matplotlib.pyplot as plt\n",
        "\n",
        "# 使用箱线图检查 `quantity` 和 `product_price` 的异常值\n",
        "plt.figure(figsize=(10, 4))\n",
        "sns.boxplot(x=df[\"quantity\"])\n",
        "plt.title(\"Boxplot of Quantity\")\n",
        "plt.show()\n",
        "\n",
        "plt.figure(figsize=(10, 4))\n",
        "sns.boxplot(x=df[\"product_price\"])\n",
        "plt.title(\"Boxplot of Product Price\")\n",
        "plt.show()\n",
        "\n",
        "# 计算IQR范围并移除异常值\n",
        "Q1 = df[[\"quantity\", \"product_price\"]].quantile(0.25)\n",
        "Q3 = df[[\"quantity\", \"product_price\"]].quantile(0.75)\n",
        "IQR = Q3 - Q1\n",
        "\n",
        "# 计算 IQR（四分位距）\n",
        "Q1 = df[[\"quantity\", \"product_price\"]].quantile(0.25)\n",
        "Q3 = df[[\"quantity\", \"product_price\"]].quantile(0.75)\n",
        "IQR = Q3 - Q1\n",
        "\n",
        "# 修正布尔索引方式，确保索引对齐\n",
        "df_cleaned = df[~((df[[\"quantity\", \"product_price\"]] < (Q1 - 1.5 * IQR)) |\n",
        "                  (df[[\"quantity\", \"product_price\"]] > (Q3 + 1.5 * IQR))).any(axis=1)]\n",
        "\n",
        "print(f\"Removed {df.shape[0] - df_cleaned.shape[0]} outliers\")\n",
        "\n",
        "# 更新数据集\n",
        "df = df_cleaned\n"
      ]
    },
    {
      "cell_type": "code",
      "execution_count": 12,
      "metadata": {
        "vscode": {
          "languageId": "plaintext"
        },
        "colab": {
          "base_uri": "https://localhost:8080/"
        },
        "id": "P_1rWhOPOLIt",
        "outputId": "7b89c44c-c32a-42af-be23-a4d39c52ef94"
      },
      "outputs": [
        {
          "output_type": "stream",
          "name": "stdout",
          "text": [
            "Missing values before imputation:\n",
            "order_id              0\n",
            "order_date           85\n",
            "order_year_month     30\n",
            "customer_name         0\n",
            "city                448\n",
            "state_province        0\n",
            "email                 0\n",
            "order_type            0\n",
            "quantity              0\n",
            "product_name          0\n",
            "product_line          0\n",
            "product_price         0\n",
            "product_status        0\n",
            "dtype: int64\n",
            "Missing values after imputation:\n",
            "order_id              0\n",
            "order_date           85\n",
            "order_year_month     30\n",
            "customer_name         0\n",
            "city                448\n",
            "state_province        0\n",
            "email                 0\n",
            "order_type            0\n",
            "quantity              0\n",
            "product_name          0\n",
            "product_line          0\n",
            "product_price         0\n",
            "product_status        0\n",
            "dtype: int64\n"
          ]
        },
        {
          "output_type": "stream",
          "name": "stderr",
          "text": [
            "<ipython-input-12-af66a67f2254>:6: SettingWithCopyWarning: \n",
            "A value is trying to be set on a copy of a slice from a DataFrame\n",
            "\n",
            "See the caveats in the documentation: https://pandas.pydata.org/pandas-docs/stable/user_guide/indexing.html#returning-a-view-versus-a-copy\n",
            "  df[\"state_province\"].fillna(df[\"state_province\"].mode()[0], inplace=True)\n",
            "<ipython-input-12-af66a67f2254>:9: FutureWarning: A value is trying to be set on a copy of a DataFrame or Series through chained assignment using an inplace method.\n",
            "The behavior will change in pandas 3.0. This inplace method will never work because the intermediate object on which we are setting values always behaves as a copy.\n",
            "\n",
            "For example, when doing 'df[col].method(value, inplace=True)', try using 'df.method({col: value}, inplace=True)' or df[col] = df[col].method(value) instead, to perform the operation inplace on the original object.\n",
            "\n",
            "\n",
            "  df[\"quantity\"].fillna(df[\"quantity\"].median(), inplace=True)\n",
            "<ipython-input-12-af66a67f2254>:9: SettingWithCopyWarning: \n",
            "A value is trying to be set on a copy of a slice from a DataFrame\n",
            "\n",
            "See the caveats in the documentation: https://pandas.pydata.org/pandas-docs/stable/user_guide/indexing.html#returning-a-view-versus-a-copy\n",
            "  df[\"quantity\"].fillna(df[\"quantity\"].median(), inplace=True)\n",
            "<ipython-input-12-af66a67f2254>:10: FutureWarning: A value is trying to be set on a copy of a DataFrame or Series through chained assignment using an inplace method.\n",
            "The behavior will change in pandas 3.0. This inplace method will never work because the intermediate object on which we are setting values always behaves as a copy.\n",
            "\n",
            "For example, when doing 'df[col].method(value, inplace=True)', try using 'df.method({col: value}, inplace=True)' or df[col] = df[col].method(value) instead, to perform the operation inplace on the original object.\n",
            "\n",
            "\n",
            "  df[\"product_price\"].fillna(df[\"product_price\"].median(), inplace=True)\n",
            "<ipython-input-12-af66a67f2254>:10: SettingWithCopyWarning: \n",
            "A value is trying to be set on a copy of a slice from a DataFrame\n",
            "\n",
            "See the caveats in the documentation: https://pandas.pydata.org/pandas-docs/stable/user_guide/indexing.html#returning-a-view-versus-a-copy\n",
            "  df[\"product_price\"].fillna(df[\"product_price\"].median(), inplace=True)\n"
          ]
        }
      ],
      "source": [
        "# 查看缺失值\n",
        "print(\"Missing values before imputation:\")\n",
        "print(df.isnull().sum())\n",
        "\n",
        "# 填充 `state_province` 的缺失值（使用众数）\n",
        "df[\"state_province\"].fillna(df[\"state_province\"].mode()[0], inplace=True)\n",
        "\n",
        "# 确保 `quantity` 和 `product_price` 没有缺失值（填充为中位数）\n",
        "df[\"quantity\"].fillna(df[\"quantity\"].median(), inplace=True)\n",
        "df[\"product_price\"].fillna(df[\"product_price\"].median(), inplace=True)\n",
        "\n",
        "print(\"Missing values after imputation:\")\n",
        "print(df.isnull().sum())"
      ]
    },
    {
      "cell_type": "code",
      "source": [
        "# 计算总金额\n",
        "df[\"total_amount\"] = df[\"quantity\"] * df[\"product_price\"]\n",
        "\n",
        "# 显示新变量\n",
        "print(df[[\"quantity\", \"product_price\", \"total_amount\"]].head())\n"
      ],
      "metadata": {
        "colab": {
          "base_uri": "https://localhost:8080/"
        },
        "id": "DHIzaiyvSIDe",
        "outputId": "f645a60b-b504-4749-e821-ebbb81ae09d4"
      },
      "execution_count": 13,
      "outputs": [
        {
          "output_type": "stream",
          "name": "stdout",
          "text": [
            "   quantity  product_price  total_amount\n",
            "0       3.0         649.99       1949.97\n",
            "3       1.0         649.99        649.99\n",
            "4       1.0         649.99        649.99\n",
            "5       1.0         649.99        649.99\n",
            "6       1.0         649.99        649.99\n"
          ]
        },
        {
          "output_type": "stream",
          "name": "stderr",
          "text": [
            "<ipython-input-13-091dfbc6049e>:2: SettingWithCopyWarning: \n",
            "A value is trying to be set on a copy of a slice from a DataFrame.\n",
            "Try using .loc[row_indexer,col_indexer] = value instead\n",
            "\n",
            "See the caveats in the documentation: https://pandas.pydata.org/pandas-docs/stable/user_guide/indexing.html#returning-a-view-versus-a-copy\n",
            "  df[\"total_amount\"] = df[\"quantity\"] * df[\"product_price\"]\n"
          ]
        }
      ]
    },
    {
      "cell_type": "markdown",
      "metadata": {
        "id": "zVUIBfLvOLIu"
      },
      "source": [
        "## Prepare Data - Continued\n",
        "\n",
        "➡️ Assignment Tasks\n",
        "- Create a variable called \"complete_customer_info\".   Use \"1\" for True and \"2\" for False.  All customer fields must be valid and not empty before this variable is True.\n",
        "- Create a bar chart showing the count of customers with complete informaiton versus incomplete information"
      ]
    },
    {
      "cell_type": "code",
      "execution_count": 14,
      "metadata": {
        "vscode": {
          "languageId": "plaintext"
        },
        "colab": {
          "base_uri": "https://localhost:8080/"
        },
        "id": "iMdR4zJQOLIu",
        "outputId": "b5957e14-ffab-40dd-e00e-71dcfb126bc6"
      },
      "outputs": [
        {
          "output_type": "stream",
          "name": "stdout",
          "text": [
            "      customer_name               city state_province  \\\n",
            "0     Audrey Blanco  North Cherylmouth  New Hampshire   \n",
            "3        Alexa Bell     Lake Tracytown      Wisconsin   \n",
            "4        Casey Diaz        Byrdchester    Mississippi   \n",
            "5    Troy Rodriguez  South Brendamouth           Ohio   \n",
            "6  Natalie Phillips        Rachelburgh        Alabama   \n",
            "\n",
            "                        email  complete_customer_info  \n",
            "0     audrey_blanco@email.com                       1  \n",
            "3        alexa_bell@email.com                       1  \n",
            "4        casey_diaz@email.com                       1  \n",
            "5    troy_rodriguez@email.com                       1  \n",
            "6  natalie_phillips@email.com                       1  \n"
          ]
        },
        {
          "output_type": "stream",
          "name": "stderr",
          "text": [
            "<ipython-input-14-6f26d63bde2e>:5: SettingWithCopyWarning: \n",
            "A value is trying to be set on a copy of a slice from a DataFrame.\n",
            "Try using .loc[row_indexer,col_indexer] = value instead\n",
            "\n",
            "See the caveats in the documentation: https://pandas.pydata.org/pandas-docs/stable/user_guide/indexing.html#returning-a-view-versus-a-copy\n",
            "  df[\"complete_customer_info\"] = df[customer_fields].notnull().all(axis=1).astype(int).replace({1: 1, 0: 2})\n"
          ]
        }
      ],
      "source": [
        "# 定义必须完整的客户字段\n",
        "customer_fields = [\"customer_name\", \"city\", \"state_province\", \"email\"]\n",
        "\n",
        "# 如果所有客户字段都非空，则 `complete_customer_info` 设为 1，否则设为 2\n",
        "df[\"complete_customer_info\"] = df[customer_fields].notnull().all(axis=1).astype(int).replace({1: 1, 0: 2})\n",
        "\n",
        "# 查看新变量\n",
        "print(df[[\"customer_name\", \"city\", \"state_province\", \"email\", \"complete_customer_info\"]].head())\n"
      ]
    },
    {
      "cell_type": "code",
      "execution_count": 15,
      "metadata": {
        "vscode": {
          "languageId": "plaintext"
        },
        "colab": {
          "base_uri": "https://localhost:8080/",
          "height": 497
        },
        "id": "aJJGIkUROLIu",
        "outputId": "e7696042-65ce-4548-fb99-26e48bd070c9"
      },
      "outputs": [
        {
          "output_type": "stream",
          "name": "stderr",
          "text": [
            "<ipython-input-15-7772d0081c7c>:9: FutureWarning: \n",
            "\n",
            "Passing `palette` without assigning `hue` is deprecated and will be removed in v0.14.0. Assign the `x` variable to `hue` and set `legend=False` for the same effect.\n",
            "\n",
            "  sns.barplot(x=counts.index, y=counts.values, palette=[\"green\", \"red\"])\n"
          ]
        },
        {
          "output_type": "display_data",
          "data": {
            "text/plain": [
              "<Figure size 600x400 with 1 Axes>"
            ],
            "image/png": "[encoded data removed]"
          },
          "metadata": {}
        }
      ],
      "source": [
        "import matplotlib.pyplot as plt\n",
        "import seaborn as sns\n",
        "\n",
        "# 统计完整和不完整的客户信息数量\n",
        "counts = df[\"complete_customer_info\"].value_counts().sort_index()\n",
        "\n",
        "# 创建条形图\n",
        "plt.figure(figsize=(6, 4))\n",
        "sns.barplot(x=counts.index, y=counts.values, palette=[\"green\", \"red\"])\n",
        "plt.xticks(ticks=[0, 1], labels=[\"Complete (1)\", \"Incomplete (2)\"])\n",
        "plt.xlabel(\"Customer Information Status\")\n",
        "plt.ylabel(\"Number of Customers\")\n",
        "plt.title(\"Count of Customers with Complete vs. Incomplete Information\")\n",
        "plt.show()\n"
      ]
    },
    {
      "cell_type": "markdown",
      "metadata": {
        "id": "DCv5aLXKOLIu"
      },
      "source": [
        "## Prepare Data - Continued\n",
        "\n",
        "➡️ Assignment Tasks\n",
        "- Create seasonal buckets for Winter, Spring, Summer, Fall\n",
        "- Create a chart to show revenue by season\n",
        "- Create a chart to show revenue by year"
      ]
    },
    {
      "cell_type": "code",
      "execution_count": 16,
      "metadata": {
        "vscode": {
          "languageId": "plaintext"
        },
        "id": "1lGLK_qLOLIu",
        "outputId": "0dac5bf8-bccc-4cae-957f-b6f4c09d3db9",
        "colab": {
          "base_uri": "https://localhost:8080/"
        }
      },
      "outputs": [
        {
          "output_type": "stream",
          "name": "stdout",
          "text": [
            "  order_date  month  season\n",
            "0 2023-07-01    7.0  Summer\n",
            "3 2023-07-04    7.0  Summer\n",
            "4 2023-07-08    7.0  Summer\n",
            "5 2023-07-09    7.0  Summer\n",
            "6 2023-07-11    7.0  Summer\n"
          ]
        },
        {
          "output_type": "stream",
          "name": "stderr",
          "text": [
            "<ipython-input-16-9f12b1a593b3>:2: SettingWithCopyWarning: \n",
            "A value is trying to be set on a copy of a slice from a DataFrame.\n",
            "Try using .loc[row_indexer,col_indexer] = value instead\n",
            "\n",
            "See the caveats in the documentation: https://pandas.pydata.org/pandas-docs/stable/user_guide/indexing.html#returning-a-view-versus-a-copy\n",
            "  df[\"month\"] = df[\"order_date\"].dt.month\n",
            "<ipython-input-16-9f12b1a593b3>:16: SettingWithCopyWarning: \n",
            "A value is trying to be set on a copy of a slice from a DataFrame.\n",
            "Try using .loc[row_indexer,col_indexer] = value instead\n",
            "\n",
            "See the caveats in the documentation: https://pandas.pydata.org/pandas-docs/stable/user_guide/indexing.html#returning-a-view-versus-a-copy\n",
            "  df[\"season\"] = df[\"month\"].apply(get_season)\n"
          ]
        }
      ],
      "source": [
        "# 提取月份\n",
        "df[\"month\"] = df[\"order_date\"].dt.month\n",
        "\n",
        "# 定义季节分类\n",
        "def get_season(month):\n",
        "    if month in [12, 1, 2]:\n",
        "        return \"Winter\"\n",
        "    elif month in [3, 4, 5]:\n",
        "        return \"Spring\"\n",
        "    elif month in [6, 7, 8]:\n",
        "        return \"Summer\"\n",
        "    else:\n",
        "        return \"Fall\"\n",
        "\n",
        "# 创建 `season` 变量\n",
        "df[\"season\"] = df[\"month\"].apply(get_season)\n",
        "\n",
        "# 查看数据\n",
        "print(df[[\"order_date\", \"month\", \"season\"]].head())\n"
      ]
    },
    {
      "cell_type": "code",
      "execution_count": 17,
      "metadata": {
        "vscode": {
          "languageId": "plaintext"
        },
        "id": "yfhrFm4dOLIu",
        "outputId": "e203cdaf-ee64-4d78-b6c3-2db27c0ec738",
        "colab": {
          "base_uri": "https://localhost:8080/",
          "height": 574
        }
      },
      "outputs": [
        {
          "output_type": "stream",
          "name": "stderr",
          "text": [
            "<ipython-input-17-bb1e7b74df83>:13: FutureWarning: \n",
            "\n",
            "Passing `palette` without assigning `hue` is deprecated and will be removed in v0.14.0. Assign the `x` variable to `hue` and set `legend=False` for the same effect.\n",
            "\n",
            "  sns.barplot(x=\"season\", y=\"total_amount\", data=seasonal_revenue, palette=\"coolwarm\")\n"
          ]
        },
        {
          "output_type": "display_data",
          "data": {
            "text/plain": [
              "<Figure size 800x500 with 1 Axes>"
            ],
            "image/png": "[encoded data removed]"
          },
          "metadata": {}
        }
      ],
      "source": [
        "import matplotlib.pyplot as plt\n",
        "import seaborn as sns\n",
        "\n",
        "# 按季节计算总收入\n",
        "seasonal_revenue = df.groupby(\"season\")[\"total_amount\"].sum().reset_index()\n",
        "\n",
        "# 按季节排序\n",
        "seasonal_order = [\"Winter\", \"Spring\", \"Summer\", \"Fall\"]\n",
        "seasonal_revenue[\"season\"] = pd.Categorical(seasonal_revenue[\"season\"], categories=seasonal_order, ordered=True)\n",
        "\n",
        "# 绘制收入按季节分布的柱状图\n",
        "plt.figure(figsize=(8, 5))\n",
        "sns.barplot(x=\"season\", y=\"total_amount\", data=seasonal_revenue, palette=\"coolwarm\")\n",
        "plt.xlabel(\"Season\")\n",
        "plt.ylabel(\"Total Revenue\")\n",
        "plt.title(\"Total Revenue by Season\")\n",
        "plt.show()\n"
      ]
    },
    {
      "cell_type": "code",
      "source": [
        "# 提取年份\n",
        "df[\"year\"] = df[\"order_date\"].dt.year\n",
        "\n",
        "# 按年份计算总收入\n",
        "yearly_revenue = df.groupby(\"year\")[\"total_amount\"].sum().reset_index()\n",
        "\n",
        "# 绘制收入按年份变化的折线图\n",
        "plt.figure(figsize=(8, 5))\n",
        "sns.lineplot(x=\"year\", y=\"total_amount\", data=yearly_revenue, marker=\"o\", color=\"b\")\n",
        "plt.xlabel(\"Year\")\n",
        "plt.ylabel(\"Total Revenue\")\n",
        "plt.title(\"Total Revenue by Year\")\n",
        "plt.grid(True)\n",
        "plt.show()\n"
      ],
      "metadata": {
        "id": "vAwKi6w8TEc7",
        "outputId": "50aba862-4e00-4c12-da20-5c9b6d0f4473",
        "colab": {
          "base_uri": "https://localhost:8080/",
          "height": 591
        }
      },
      "execution_count": 18,
      "outputs": [
        {
          "output_type": "stream",
          "name": "stderr",
          "text": [
            "<ipython-input-18-803465d0e758>:2: SettingWithCopyWarning: \n",
            "A value is trying to be set on a copy of a slice from a DataFrame.\n",
            "Try using .loc[row_indexer,col_indexer] = value instead\n",
            "\n",
            "See the caveats in the documentation: https://pandas.pydata.org/pandas-docs/stable/user_guide/indexing.html#returning-a-view-versus-a-copy\n",
            "  df[\"year\"] = df[\"order_date\"].dt.year\n"
          ]
        },
        {
          "output_type": "display_data",
          "data": {
            "text/plain": [
              "<Figure size 800x500 with 1 Axes>"
            ],
            "image/png": "[encoded data removed]"
          },
          "metadata": {}
        }
      ]
    },
    {
      "cell_type": "markdown",
      "metadata": {
        "id": "PfPZG8RVOLIu"
      },
      "source": [
        "## Prepare Data - Continued\n",
        "\n",
        "➡️ Assignment Tasks\n",
        "- Create a variable that will group product lines into \"Outdoor\" versus \"Indoor\" products.\n",
        "- Create a plot to show the correlation between outdoor/indoor versus season  "
      ]
    },
    {
      "cell_type": "code",
      "execution_count": 19,
      "metadata": {
        "vscode": {
          "languageId": "plaintext"
        },
        "id": "180BZaKaOLIu",
        "outputId": "0892a494-ccd2-46fd-8551-942467a70d6a",
        "colab": {
          "base_uri": "https://localhost:8080/"
        }
      },
      "outputs": [
        {
          "output_type": "stream",
          "name": "stdout",
          "text": [
            "  product_line indoor_outdoor\n",
            "0       Mobile          Other\n",
            "3       Mobile          Other\n",
            "4       Mobile          Other\n",
            "5       Mobile          Other\n",
            "6       Mobile          Other\n"
          ]
        },
        {
          "output_type": "stream",
          "name": "stderr",
          "text": [
            "<ipython-input-19-f4e8ce37d9ed>:14: SettingWithCopyWarning: \n",
            "A value is trying to be set on a copy of a slice from a DataFrame.\n",
            "Try using .loc[row_indexer,col_indexer] = value instead\n",
            "\n",
            "See the caveats in the documentation: https://pandas.pydata.org/pandas-docs/stable/user_guide/indexing.html#returning-a-view-versus-a-copy\n",
            "  df[\"indoor_outdoor\"] = df[\"product_line\"].apply(categorize_product)\n"
          ]
        }
      ],
      "source": [
        "# 定义室内（Indoor）和室外（Outdoor）产品分类\n",
        "outdoor_products = [\"Bikes\", \"Camping Gear\", \"Sports Equipment\", \"Outdoor Furniture\"]\n",
        "indoor_products = [\"Phones\", \"Laptops\", \"Appliances\", \"Home Decor\", \"Office Supplies\"]\n",
        "\n",
        "# 创建新变量 `indoor_outdoor`\n",
        "def categorize_product(product_line):\n",
        "    if product_line in outdoor_products:\n",
        "        return \"Outdoor\"\n",
        "    elif product_line in indoor_products:\n",
        "        return \"Indoor\"\n",
        "    else:\n",
        "        return \"Other\"\n",
        "\n",
        "df[\"indoor_outdoor\"] = df[\"product_line\"].apply(categorize_product)\n",
        "\n",
        "# 查看新变量\n",
        "print(df[[\"product_line\", \"indoor_outdoor\"]].head())\n"
      ]
    },
    {
      "cell_type": "code",
      "source": [
        "import seaborn as sns\n",
        "import matplotlib.pyplot as plt\n",
        "\n",
        "# 计算每个季节 Indoor/Outdoor 产品的订单数量\n",
        "seasonal_product_counts = df.groupby([\"season\", \"indoor_outdoor\"]).size().reset_index(name=\"count\")\n",
        "\n",
        "# 绘制柱状图\n",
        "plt.figure(figsize=(8, 5))\n",
        "sns.barplot(x=\"season\", y=\"count\", hue=\"indoor_outdoor\", data=seasonal_product_counts, palette=[\"green\", \"blue\"])\n",
        "plt.xlabel(\"Season\")\n",
        "plt.ylabel(\"Order Count\")\n",
        "plt.title(\"Indoor vs Outdoor Product Orders by Season\")\n",
        "plt.legend(title=\"Product Type\")\n",
        "plt.show()\n"
      ],
      "metadata": {
        "id": "v6TUqceXTTGh",
        "outputId": "c96c0425-76e8-434a-b483-bd81ed0b4ff1",
        "colab": {
          "base_uri": "https://localhost:8080/",
          "height": 487
        }
      },
      "execution_count": 20,
      "outputs": [
        {
          "output_type": "display_data",
          "data": {
            "text/plain": [
              "<Figure size 800x500 with 1 Axes>"
            ],
            "image/png": "[encoded data removed]"
          },
          "metadata": {}
        }
      ]
    }
  ],
  "metadata": {
    "language_info": {
      "name": "python"
    },
    "colab": {
      "provenance": []
    },
    "kernelspec": {
      "name": "python3",
      "display_name": "Python 3"
    }
  },
  "nbformat": 4,
  "nbformat_minor": 0
}